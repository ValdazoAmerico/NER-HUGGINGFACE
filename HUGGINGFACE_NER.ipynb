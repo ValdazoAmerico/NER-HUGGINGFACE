{
  "nbformat": 4,
  "nbformat_minor": 0,
  "metadata": {
    "accelerator": "GPU",
    "colab": {
      "name": "HUGGINGFACE-NER.ipynb",
      "provenance": [],
      "collapsed_sections": [],
      "authorship_tag": "ABX9TyOaiBrR497sSVhyraAXxFvU",
      "include_colab_link": true
    },
    "kernelspec": {
      "display_name": "Python 3",
      "name": "python3"
    },
    "language_info": {
      "name": "python"
    },
    "widgets": {
      "application/vnd.jupyter.widget-state+json": {
        "e392f3bd95d14fe1a0ee9d12186a1997": {
          "model_module": "@jupyter-widgets/controls",
          "model_name": "HBoxModel",
          "state": {
            "_dom_classes": [],
            "_model_module": "@jupyter-widgets/controls",
            "_model_module_version": "1.5.0",
            "_model_name": "HBoxModel",
            "_view_count": null,
            "_view_module": "@jupyter-widgets/controls",
            "_view_module_version": "1.5.0",
            "_view_name": "HBoxView",
            "box_style": "",
            "children": [
              "IPY_MODEL_ddd3b23c928f4fd8a5e9ad15e105eb68",
              "IPY_MODEL_28700ac02ddc412fab80133984f4c52d"
            ],
            "layout": "IPY_MODEL_fd4e45c945e4415da16aa946efe40289"
          }
        },
        "ddd3b23c928f4fd8a5e9ad15e105eb68": {
          "model_module": "@jupyter-widgets/controls",
          "model_name": "FloatProgressModel",
          "state": {
            "_dom_classes": [],
            "_model_module": "@jupyter-widgets/controls",
            "_model_module_version": "1.5.0",
            "_model_name": "FloatProgressModel",
            "_view_count": null,
            "_view_module": "@jupyter-widgets/controls",
            "_view_module_version": "1.5.0",
            "_view_name": "ProgressView",
            "bar_style": "success",
            "description": "Downloading: 100%",
            "description_tooltip": null,
            "layout": "IPY_MODEL_1e89b1660e614796aa3bb2c9b88650e6",
            "max": 28,
            "min": 0,
            "orientation": "horizontal",
            "style": "IPY_MODEL_14df568f433d4e8da316e6238ce6c1e6",
            "value": 28
          }
        },
        "28700ac02ddc412fab80133984f4c52d": {
          "model_module": "@jupyter-widgets/controls",
          "model_name": "HTMLModel",
          "state": {
            "_dom_classes": [],
            "_model_module": "@jupyter-widgets/controls",
            "_model_module_version": "1.5.0",
            "_model_name": "HTMLModel",
            "_view_count": null,
            "_view_module": "@jupyter-widgets/controls",
            "_view_module_version": "1.5.0",
            "_view_name": "HTMLView",
            "description": "",
            "description_tooltip": null,
            "layout": "IPY_MODEL_34c39ee449bf46109c3ace8cd69fb5bb",
            "placeholder": "​",
            "style": "IPY_MODEL_5feff798230148dc928ebebe09bdc6cc",
            "value": " 28.0/28.0 [00:23&lt;00:00, 1.19B/s]"
          }
        },
        "fd4e45c945e4415da16aa946efe40289": {
          "model_module": "@jupyter-widgets/base",
          "model_name": "LayoutModel",
          "state": {
            "_model_module": "@jupyter-widgets/base",
            "_model_module_version": "1.2.0",
            "_model_name": "LayoutModel",
            "_view_count": null,
            "_view_module": "@jupyter-widgets/base",
            "_view_module_version": "1.2.0",
            "_view_name": "LayoutView",
            "align_content": null,
            "align_items": null,
            "align_self": null,
            "border": null,
            "bottom": null,
            "display": null,
            "flex": null,
            "flex_flow": null,
            "grid_area": null,
            "grid_auto_columns": null,
            "grid_auto_flow": null,
            "grid_auto_rows": null,
            "grid_column": null,
            "grid_gap": null,
            "grid_row": null,
            "grid_template_areas": null,
            "grid_template_columns": null,
            "grid_template_rows": null,
            "height": null,
            "justify_content": null,
            "justify_items": null,
            "left": null,
            "margin": null,
            "max_height": null,
            "max_width": null,
            "min_height": null,
            "min_width": null,
            "object_fit": null,
            "object_position": null,
            "order": null,
            "overflow": null,
            "overflow_x": null,
            "overflow_y": null,
            "padding": null,
            "right": null,
            "top": null,
            "visibility": null,
            "width": null
          }
        },
        "1e89b1660e614796aa3bb2c9b88650e6": {
          "model_module": "@jupyter-widgets/base",
          "model_name": "LayoutModel",
          "state": {
            "_model_module": "@jupyter-widgets/base",
            "_model_module_version": "1.2.0",
            "_model_name": "LayoutModel",
            "_view_count": null,
            "_view_module": "@jupyter-widgets/base",
            "_view_module_version": "1.2.0",
            "_view_name": "LayoutView",
            "align_content": null,
            "align_items": null,
            "align_self": null,
            "border": null,
            "bottom": null,
            "display": null,
            "flex": null,
            "flex_flow": null,
            "grid_area": null,
            "grid_auto_columns": null,
            "grid_auto_flow": null,
            "grid_auto_rows": null,
            "grid_column": null,
            "grid_gap": null,
            "grid_row": null,
            "grid_template_areas": null,
            "grid_template_columns": null,
            "grid_template_rows": null,
            "height": null,
            "justify_content": null,
            "justify_items": null,
            "left": null,
            "margin": null,
            "max_height": null,
            "max_width": null,
            "min_height": null,
            "min_width": null,
            "object_fit": null,
            "object_position": null,
            "order": null,
            "overflow": null,
            "overflow_x": null,
            "overflow_y": null,
            "padding": null,
            "right": null,
            "top": null,
            "visibility": null,
            "width": null
          }
        },
        "14df568f433d4e8da316e6238ce6c1e6": {
          "model_module": "@jupyter-widgets/controls",
          "model_name": "ProgressStyleModel",
          "state": {
            "_model_module": "@jupyter-widgets/controls",
            "_model_module_version": "1.5.0",
            "_model_name": "ProgressStyleModel",
            "_view_count": null,
            "_view_module": "@jupyter-widgets/base",
            "_view_module_version": "1.2.0",
            "_view_name": "StyleView",
            "bar_color": null,
            "description_width": "initial"
          }
        },
        "34c39ee449bf46109c3ace8cd69fb5bb": {
          "model_module": "@jupyter-widgets/base",
          "model_name": "LayoutModel",
          "state": {
            "_model_module": "@jupyter-widgets/base",
            "_model_module_version": "1.2.0",
            "_model_name": "LayoutModel",
            "_view_count": null,
            "_view_module": "@jupyter-widgets/base",
            "_view_module_version": "1.2.0",
            "_view_name": "LayoutView",
            "align_content": null,
            "align_items": null,
            "align_self": null,
            "border": null,
            "bottom": null,
            "display": null,
            "flex": null,
            "flex_flow": null,
            "grid_area": null,
            "grid_auto_columns": null,
            "grid_auto_flow": null,
            "grid_auto_rows": null,
            "grid_column": null,
            "grid_gap": null,
            "grid_row": null,
            "grid_template_areas": null,
            "grid_template_columns": null,
            "grid_template_rows": null,
            "height": null,
            "justify_content": null,
            "justify_items": null,
            "left": null,
            "margin": null,
            "max_height": null,
            "max_width": null,
            "min_height": null,
            "min_width": null,
            "object_fit": null,
            "object_position": null,
            "order": null,
            "overflow": null,
            "overflow_x": null,
            "overflow_y": null,
            "padding": null,
            "right": null,
            "top": null,
            "visibility": null,
            "width": null
          }
        },
        "5feff798230148dc928ebebe09bdc6cc": {
          "model_module": "@jupyter-widgets/controls",
          "model_name": "DescriptionStyleModel",
          "state": {
            "_model_module": "@jupyter-widgets/controls",
            "_model_module_version": "1.5.0",
            "_model_name": "DescriptionStyleModel",
            "_view_count": null,
            "_view_module": "@jupyter-widgets/base",
            "_view_module_version": "1.2.0",
            "_view_name": "StyleView",
            "description_width": ""
          }
        },
        "ff2325078cf04843b6b7e4b5a0b6d8e0": {
          "model_module": "@jupyter-widgets/controls",
          "model_name": "HBoxModel",
          "state": {
            "_dom_classes": [],
            "_model_module": "@jupyter-widgets/controls",
            "_model_module_version": "1.5.0",
            "_model_name": "HBoxModel",
            "_view_count": null,
            "_view_module": "@jupyter-widgets/controls",
            "_view_module_version": "1.5.0",
            "_view_name": "HBoxView",
            "box_style": "",
            "children": [
              "IPY_MODEL_bd09a433f399450394810e7ddba8ec91",
              "IPY_MODEL_af2866849f8b415183b273eb2f6fd0d4"
            ],
            "layout": "IPY_MODEL_7929708f7b4245f5854af0a5718d9ea1"
          }
        },
        "bd09a433f399450394810e7ddba8ec91": {
          "model_module": "@jupyter-widgets/controls",
          "model_name": "FloatProgressModel",
          "state": {
            "_dom_classes": [],
            "_model_module": "@jupyter-widgets/controls",
            "_model_module_version": "1.5.0",
            "_model_name": "FloatProgressModel",
            "_view_count": null,
            "_view_module": "@jupyter-widgets/controls",
            "_view_module_version": "1.5.0",
            "_view_name": "ProgressView",
            "bar_style": "success",
            "description": "Downloading: 100%",
            "description_tooltip": null,
            "layout": "IPY_MODEL_b1f14d05b4e54d18bb962e7e1baca14f",
            "max": 442,
            "min": 0,
            "orientation": "horizontal",
            "style": "IPY_MODEL_476a4fa94dca489fa5df7936f0d1bbe7",
            "value": 442
          }
        },
        "af2866849f8b415183b273eb2f6fd0d4": {
          "model_module": "@jupyter-widgets/controls",
          "model_name": "HTMLModel",
          "state": {
            "_dom_classes": [],
            "_model_module": "@jupyter-widgets/controls",
            "_model_module_version": "1.5.0",
            "_model_name": "HTMLModel",
            "_view_count": null,
            "_view_module": "@jupyter-widgets/controls",
            "_view_module_version": "1.5.0",
            "_view_name": "HTMLView",
            "description": "",
            "description_tooltip": null,
            "layout": "IPY_MODEL_fec03a97908c40e6b614a78fbfef6b90",
            "placeholder": "​",
            "style": "IPY_MODEL_fd827656e4ca410bb9709d0803402d1f",
            "value": " 442/442 [00:00&lt;00:00, 5.46kB/s]"
          }
        },
        "7929708f7b4245f5854af0a5718d9ea1": {
          "model_module": "@jupyter-widgets/base",
          "model_name": "LayoutModel",
          "state": {
            "_model_module": "@jupyter-widgets/base",
            "_model_module_version": "1.2.0",
            "_model_name": "LayoutModel",
            "_view_count": null,
            "_view_module": "@jupyter-widgets/base",
            "_view_module_version": "1.2.0",
            "_view_name": "LayoutView",
            "align_content": null,
            "align_items": null,
            "align_self": null,
            "border": null,
            "bottom": null,
            "display": null,
            "flex": null,
            "flex_flow": null,
            "grid_area": null,
            "grid_auto_columns": null,
            "grid_auto_flow": null,
            "grid_auto_rows": null,
            "grid_column": null,
            "grid_gap": null,
            "grid_row": null,
            "grid_template_areas": null,
            "grid_template_columns": null,
            "grid_template_rows": null,
            "height": null,
            "justify_content": null,
            "justify_items": null,
            "left": null,
            "margin": null,
            "max_height": null,
            "max_width": null,
            "min_height": null,
            "min_width": null,
            "object_fit": null,
            "object_position": null,
            "order": null,
            "overflow": null,
            "overflow_x": null,
            "overflow_y": null,
            "padding": null,
            "right": null,
            "top": null,
            "visibility": null,
            "width": null
          }
        },
        "b1f14d05b4e54d18bb962e7e1baca14f": {
          "model_module": "@jupyter-widgets/base",
          "model_name": "LayoutModel",
          "state": {
            "_model_module": "@jupyter-widgets/base",
            "_model_module_version": "1.2.0",
            "_model_name": "LayoutModel",
            "_view_count": null,
            "_view_module": "@jupyter-widgets/base",
            "_view_module_version": "1.2.0",
            "_view_name": "LayoutView",
            "align_content": null,
            "align_items": null,
            "align_self": null,
            "border": null,
            "bottom": null,
            "display": null,
            "flex": null,
            "flex_flow": null,
            "grid_area": null,
            "grid_auto_columns": null,
            "grid_auto_flow": null,
            "grid_auto_rows": null,
            "grid_column": null,
            "grid_gap": null,
            "grid_row": null,
            "grid_template_areas": null,
            "grid_template_columns": null,
            "grid_template_rows": null,
            "height": null,
            "justify_content": null,
            "justify_items": null,
            "left": null,
            "margin": null,
            "max_height": null,
            "max_width": null,
            "min_height": null,
            "min_width": null,
            "object_fit": null,
            "object_position": null,
            "order": null,
            "overflow": null,
            "overflow_x": null,
            "overflow_y": null,
            "padding": null,
            "right": null,
            "top": null,
            "visibility": null,
            "width": null
          }
        },
        "476a4fa94dca489fa5df7936f0d1bbe7": {
          "model_module": "@jupyter-widgets/controls",
          "model_name": "ProgressStyleModel",
          "state": {
            "_model_module": "@jupyter-widgets/controls",
            "_model_module_version": "1.5.0",
            "_model_name": "ProgressStyleModel",
            "_view_count": null,
            "_view_module": "@jupyter-widgets/base",
            "_view_module_version": "1.2.0",
            "_view_name": "StyleView",
            "bar_color": null,
            "description_width": "initial"
          }
        },
        "fec03a97908c40e6b614a78fbfef6b90": {
          "model_module": "@jupyter-widgets/base",
          "model_name": "LayoutModel",
          "state": {
            "_model_module": "@jupyter-widgets/base",
            "_model_module_version": "1.2.0",
            "_model_name": "LayoutModel",
            "_view_count": null,
            "_view_module": "@jupyter-widgets/base",
            "_view_module_version": "1.2.0",
            "_view_name": "LayoutView",
            "align_content": null,
            "align_items": null,
            "align_self": null,
            "border": null,
            "bottom": null,
            "display": null,
            "flex": null,
            "flex_flow": null,
            "grid_area": null,
            "grid_auto_columns": null,
            "grid_auto_flow": null,
            "grid_auto_rows": null,
            "grid_column": null,
            "grid_gap": null,
            "grid_row": null,
            "grid_template_areas": null,
            "grid_template_columns": null,
            "grid_template_rows": null,
            "height": null,
            "justify_content": null,
            "justify_items": null,
            "left": null,
            "margin": null,
            "max_height": null,
            "max_width": null,
            "min_height": null,
            "min_width": null,
            "object_fit": null,
            "object_position": null,
            "order": null,
            "overflow": null,
            "overflow_x": null,
            "overflow_y": null,
            "padding": null,
            "right": null,
            "top": null,
            "visibility": null,
            "width": null
          }
        },
        "fd827656e4ca410bb9709d0803402d1f": {
          "model_module": "@jupyter-widgets/controls",
          "model_name": "DescriptionStyleModel",
          "state": {
            "_model_module": "@jupyter-widgets/controls",
            "_model_module_version": "1.5.0",
            "_model_name": "DescriptionStyleModel",
            "_view_count": null,
            "_view_module": "@jupyter-widgets/base",
            "_view_module_version": "1.2.0",
            "_view_name": "StyleView",
            "description_width": ""
          }
        },
        "ab1de94c60e249568bd13de329b68b1c": {
          "model_module": "@jupyter-widgets/controls",
          "model_name": "HBoxModel",
          "state": {
            "_dom_classes": [],
            "_model_module": "@jupyter-widgets/controls",
            "_model_module_version": "1.5.0",
            "_model_name": "HBoxModel",
            "_view_count": null,
            "_view_module": "@jupyter-widgets/controls",
            "_view_module_version": "1.5.0",
            "_view_name": "HBoxView",
            "box_style": "",
            "children": [
              "IPY_MODEL_3a331ecf5324417da01b4e0a1f88143e",
              "IPY_MODEL_b4c2d44be08d4c39a92d7160a37a41a1"
            ],
            "layout": "IPY_MODEL_4619a09f1bea424493be4a17e0703f0e"
          }
        },
        "3a331ecf5324417da01b4e0a1f88143e": {
          "model_module": "@jupyter-widgets/controls",
          "model_name": "FloatProgressModel",
          "state": {
            "_dom_classes": [],
            "_model_module": "@jupyter-widgets/controls",
            "_model_module_version": "1.5.0",
            "_model_name": "FloatProgressModel",
            "_view_count": null,
            "_view_module": "@jupyter-widgets/controls",
            "_view_module_version": "1.5.0",
            "_view_name": "ProgressView",
            "bar_style": "success",
            "description": "Downloading: 100%",
            "description_tooltip": null,
            "layout": "IPY_MODEL_cbac996713154956af2d6e4e38090fc4",
            "max": 231508,
            "min": 0,
            "orientation": "horizontal",
            "style": "IPY_MODEL_1895a9cb272041b998702f3bcceab9cb",
            "value": 231508
          }
        },
        "b4c2d44be08d4c39a92d7160a37a41a1": {
          "model_module": "@jupyter-widgets/controls",
          "model_name": "HTMLModel",
          "state": {
            "_dom_classes": [],
            "_model_module": "@jupyter-widgets/controls",
            "_model_module_version": "1.5.0",
            "_model_name": "HTMLModel",
            "_view_count": null,
            "_view_module": "@jupyter-widgets/controls",
            "_view_module_version": "1.5.0",
            "_view_name": "HTMLView",
            "description": "",
            "description_tooltip": null,
            "layout": "IPY_MODEL_e58ba5ba922e42f2992dc0408e493938",
            "placeholder": "​",
            "style": "IPY_MODEL_0ec48f6a3a874d468d864e459ab51c7c",
            "value": " 232k/232k [00:05&lt;00:00, 38.8kB/s]"
          }
        },
        "4619a09f1bea424493be4a17e0703f0e": {
          "model_module": "@jupyter-widgets/base",
          "model_name": "LayoutModel",
          "state": {
            "_model_module": "@jupyter-widgets/base",
            "_model_module_version": "1.2.0",
            "_model_name": "LayoutModel",
            "_view_count": null,
            "_view_module": "@jupyter-widgets/base",
            "_view_module_version": "1.2.0",
            "_view_name": "LayoutView",
            "align_content": null,
            "align_items": null,
            "align_self": null,
            "border": null,
            "bottom": null,
            "display": null,
            "flex": null,
            "flex_flow": null,
            "grid_area": null,
            "grid_auto_columns": null,
            "grid_auto_flow": null,
            "grid_auto_rows": null,
            "grid_column": null,
            "grid_gap": null,
            "grid_row": null,
            "grid_template_areas": null,
            "grid_template_columns": null,
            "grid_template_rows": null,
            "height": null,
            "justify_content": null,
            "justify_items": null,
            "left": null,
            "margin": null,
            "max_height": null,
            "max_width": null,
            "min_height": null,
            "min_width": null,
            "object_fit": null,
            "object_position": null,
            "order": null,
            "overflow": null,
            "overflow_x": null,
            "overflow_y": null,
            "padding": null,
            "right": null,
            "top": null,
            "visibility": null,
            "width": null
          }
        },
        "cbac996713154956af2d6e4e38090fc4": {
          "model_module": "@jupyter-widgets/base",
          "model_name": "LayoutModel",
          "state": {
            "_model_module": "@jupyter-widgets/base",
            "_model_module_version": "1.2.0",
            "_model_name": "LayoutModel",
            "_view_count": null,
            "_view_module": "@jupyter-widgets/base",
            "_view_module_version": "1.2.0",
            "_view_name": "LayoutView",
            "align_content": null,
            "align_items": null,
            "align_self": null,
            "border": null,
            "bottom": null,
            "display": null,
            "flex": null,
            "flex_flow": null,
            "grid_area": null,
            "grid_auto_columns": null,
            "grid_auto_flow": null,
            "grid_auto_rows": null,
            "grid_column": null,
            "grid_gap": null,
            "grid_row": null,
            "grid_template_areas": null,
            "grid_template_columns": null,
            "grid_template_rows": null,
            "height": null,
            "justify_content": null,
            "justify_items": null,
            "left": null,
            "margin": null,
            "max_height": null,
            "max_width": null,
            "min_height": null,
            "min_width": null,
            "object_fit": null,
            "object_position": null,
            "order": null,
            "overflow": null,
            "overflow_x": null,
            "overflow_y": null,
            "padding": null,
            "right": null,
            "top": null,
            "visibility": null,
            "width": null
          }
        },
        "1895a9cb272041b998702f3bcceab9cb": {
          "model_module": "@jupyter-widgets/controls",
          "model_name": "ProgressStyleModel",
          "state": {
            "_model_module": "@jupyter-widgets/controls",
            "_model_module_version": "1.5.0",
            "_model_name": "ProgressStyleModel",
            "_view_count": null,
            "_view_module": "@jupyter-widgets/base",
            "_view_module_version": "1.2.0",
            "_view_name": "StyleView",
            "bar_color": null,
            "description_width": "initial"
          }
        },
        "e58ba5ba922e42f2992dc0408e493938": {
          "model_module": "@jupyter-widgets/base",
          "model_name": "LayoutModel",
          "state": {
            "_model_module": "@jupyter-widgets/base",
            "_model_module_version": "1.2.0",
            "_model_name": "LayoutModel",
            "_view_count": null,
            "_view_module": "@jupyter-widgets/base",
            "_view_module_version": "1.2.0",
            "_view_name": "LayoutView",
            "align_content": null,
            "align_items": null,
            "align_self": null,
            "border": null,
            "bottom": null,
            "display": null,
            "flex": null,
            "flex_flow": null,
            "grid_area": null,
            "grid_auto_columns": null,
            "grid_auto_flow": null,
            "grid_auto_rows": null,
            "grid_column": null,
            "grid_gap": null,
            "grid_row": null,
            "grid_template_areas": null,
            "grid_template_columns": null,
            "grid_template_rows": null,
            "height": null,
            "justify_content": null,
            "justify_items": null,
            "left": null,
            "margin": null,
            "max_height": null,
            "max_width": null,
            "min_height": null,
            "min_width": null,
            "object_fit": null,
            "object_position": null,
            "order": null,
            "overflow": null,
            "overflow_x": null,
            "overflow_y": null,
            "padding": null,
            "right": null,
            "top": null,
            "visibility": null,
            "width": null
          }
        },
        "0ec48f6a3a874d468d864e459ab51c7c": {
          "model_module": "@jupyter-widgets/controls",
          "model_name": "DescriptionStyleModel",
          "state": {
            "_model_module": "@jupyter-widgets/controls",
            "_model_module_version": "1.5.0",
            "_model_name": "DescriptionStyleModel",
            "_view_count": null,
            "_view_module": "@jupyter-widgets/base",
            "_view_module_version": "1.2.0",
            "_view_name": "StyleView",
            "description_width": ""
          }
        },
        "8f63fbb32f5749cc80c4f6b7a52a7042": {
          "model_module": "@jupyter-widgets/controls",
          "model_name": "HBoxModel",
          "state": {
            "_dom_classes": [],
            "_model_module": "@jupyter-widgets/controls",
            "_model_module_version": "1.5.0",
            "_model_name": "HBoxModel",
            "_view_count": null,
            "_view_module": "@jupyter-widgets/controls",
            "_view_module_version": "1.5.0",
            "_view_name": "HBoxView",
            "box_style": "",
            "children": [
              "IPY_MODEL_b1be1007f7d2474d943b74c8bbf4022d",
              "IPY_MODEL_672b3133b2fb4848aecd443df569e254"
            ],
            "layout": "IPY_MODEL_48f1d3d90bd84f9ab3586a3096ef1a6b"
          }
        },
        "b1be1007f7d2474d943b74c8bbf4022d": {
          "model_module": "@jupyter-widgets/controls",
          "model_name": "FloatProgressModel",
          "state": {
            "_dom_classes": [],
            "_model_module": "@jupyter-widgets/controls",
            "_model_module_version": "1.5.0",
            "_model_name": "FloatProgressModel",
            "_view_count": null,
            "_view_module": "@jupyter-widgets/controls",
            "_view_module_version": "1.5.0",
            "_view_name": "ProgressView",
            "bar_style": "success",
            "description": "Downloading: 100%",
            "description_tooltip": null,
            "layout": "IPY_MODEL_d7874fe78801480199b98e7070ef9470",
            "max": 466062,
            "min": 0,
            "orientation": "horizontal",
            "style": "IPY_MODEL_25962a01beb44ace912fc88686f5dd3b",
            "value": 466062
          }
        },
        "672b3133b2fb4848aecd443df569e254": {
          "model_module": "@jupyter-widgets/controls",
          "model_name": "HTMLModel",
          "state": {
            "_dom_classes": [],
            "_model_module": "@jupyter-widgets/controls",
            "_model_module_version": "1.5.0",
            "_model_name": "HTMLModel",
            "_view_count": null,
            "_view_module": "@jupyter-widgets/controls",
            "_view_module_version": "1.5.0",
            "_view_name": "HTMLView",
            "description": "",
            "description_tooltip": null,
            "layout": "IPY_MODEL_9e235c472db24a7ab45f358be66ee988",
            "placeholder": "​",
            "style": "IPY_MODEL_46b778606c1048239d0746a9a17e3102",
            "value": " 466k/466k [00:05&lt;00:00, 79.7kB/s]"
          }
        },
        "48f1d3d90bd84f9ab3586a3096ef1a6b": {
          "model_module": "@jupyter-widgets/base",
          "model_name": "LayoutModel",
          "state": {
            "_model_module": "@jupyter-widgets/base",
            "_model_module_version": "1.2.0",
            "_model_name": "LayoutModel",
            "_view_count": null,
            "_view_module": "@jupyter-widgets/base",
            "_view_module_version": "1.2.0",
            "_view_name": "LayoutView",
            "align_content": null,
            "align_items": null,
            "align_self": null,
            "border": null,
            "bottom": null,
            "display": null,
            "flex": null,
            "flex_flow": null,
            "grid_area": null,
            "grid_auto_columns": null,
            "grid_auto_flow": null,
            "grid_auto_rows": null,
            "grid_column": null,
            "grid_gap": null,
            "grid_row": null,
            "grid_template_areas": null,
            "grid_template_columns": null,
            "grid_template_rows": null,
            "height": null,
            "justify_content": null,
            "justify_items": null,
            "left": null,
            "margin": null,
            "max_height": null,
            "max_width": null,
            "min_height": null,
            "min_width": null,
            "object_fit": null,
            "object_position": null,
            "order": null,
            "overflow": null,
            "overflow_x": null,
            "overflow_y": null,
            "padding": null,
            "right": null,
            "top": null,
            "visibility": null,
            "width": null
          }
        },
        "d7874fe78801480199b98e7070ef9470": {
          "model_module": "@jupyter-widgets/base",
          "model_name": "LayoutModel",
          "state": {
            "_model_module": "@jupyter-widgets/base",
            "_model_module_version": "1.2.0",
            "_model_name": "LayoutModel",
            "_view_count": null,
            "_view_module": "@jupyter-widgets/base",
            "_view_module_version": "1.2.0",
            "_view_name": "LayoutView",
            "align_content": null,
            "align_items": null,
            "align_self": null,
            "border": null,
            "bottom": null,
            "display": null,
            "flex": null,
            "flex_flow": null,
            "grid_area": null,
            "grid_auto_columns": null,
            "grid_auto_flow": null,
            "grid_auto_rows": null,
            "grid_column": null,
            "grid_gap": null,
            "grid_row": null,
            "grid_template_areas": null,
            "grid_template_columns": null,
            "grid_template_rows": null,
            "height": null,
            "justify_content": null,
            "justify_items": null,
            "left": null,
            "margin": null,
            "max_height": null,
            "max_width": null,
            "min_height": null,
            "min_width": null,
            "object_fit": null,
            "object_position": null,
            "order": null,
            "overflow": null,
            "overflow_x": null,
            "overflow_y": null,
            "padding": null,
            "right": null,
            "top": null,
            "visibility": null,
            "width": null
          }
        },
        "25962a01beb44ace912fc88686f5dd3b": {
          "model_module": "@jupyter-widgets/controls",
          "model_name": "ProgressStyleModel",
          "state": {
            "_model_module": "@jupyter-widgets/controls",
            "_model_module_version": "1.5.0",
            "_model_name": "ProgressStyleModel",
            "_view_count": null,
            "_view_module": "@jupyter-widgets/base",
            "_view_module_version": "1.2.0",
            "_view_name": "StyleView",
            "bar_color": null,
            "description_width": "initial"
          }
        },
        "9e235c472db24a7ab45f358be66ee988": {
          "model_module": "@jupyter-widgets/base",
          "model_name": "LayoutModel",
          "state": {
            "_model_module": "@jupyter-widgets/base",
            "_model_module_version": "1.2.0",
            "_model_name": "LayoutModel",
            "_view_count": null,
            "_view_module": "@jupyter-widgets/base",
            "_view_module_version": "1.2.0",
            "_view_name": "LayoutView",
            "align_content": null,
            "align_items": null,
            "align_self": null,
            "border": null,
            "bottom": null,
            "display": null,
            "flex": null,
            "flex_flow": null,
            "grid_area": null,
            "grid_auto_columns": null,
            "grid_auto_flow": null,
            "grid_auto_rows": null,
            "grid_column": null,
            "grid_gap": null,
            "grid_row": null,
            "grid_template_areas": null,
            "grid_template_columns": null,
            "grid_template_rows": null,
            "height": null,
            "justify_content": null,
            "justify_items": null,
            "left": null,
            "margin": null,
            "max_height": null,
            "max_width": null,
            "min_height": null,
            "min_width": null,
            "object_fit": null,
            "object_position": null,
            "order": null,
            "overflow": null,
            "overflow_x": null,
            "overflow_y": null,
            "padding": null,
            "right": null,
            "top": null,
            "visibility": null,
            "width": null
          }
        },
        "46b778606c1048239d0746a9a17e3102": {
          "model_module": "@jupyter-widgets/controls",
          "model_name": "DescriptionStyleModel",
          "state": {
            "_model_module": "@jupyter-widgets/controls",
            "_model_module_version": "1.5.0",
            "_model_name": "DescriptionStyleModel",
            "_view_count": null,
            "_view_module": "@jupyter-widgets/base",
            "_view_module_version": "1.2.0",
            "_view_name": "StyleView",
            "description_width": ""
          }
        },
        "39cec2ed754b441d82162fbf41893a22": {
          "model_module": "@jupyter-widgets/controls",
          "model_name": "HBoxModel",
          "state": {
            "_dom_classes": [],
            "_model_module": "@jupyter-widgets/controls",
            "_model_module_version": "1.5.0",
            "_model_name": "HBoxModel",
            "_view_count": null,
            "_view_module": "@jupyter-widgets/controls",
            "_view_module_version": "1.5.0",
            "_view_name": "HBoxView",
            "box_style": "",
            "children": [
              "IPY_MODEL_ea88878a08bb4bacae28bf4e774cdd77",
              "IPY_MODEL_61fd8e04a19948a383bb9fa367f62727"
            ],
            "layout": "IPY_MODEL_f8c85e498c064e57a4b470a2bacf791f"
          }
        },
        "ea88878a08bb4bacae28bf4e774cdd77": {
          "model_module": "@jupyter-widgets/controls",
          "model_name": "FloatProgressModel",
          "state": {
            "_dom_classes": [],
            "_model_module": "@jupyter-widgets/controls",
            "_model_module_version": "1.5.0",
            "_model_name": "FloatProgressModel",
            "_view_count": null,
            "_view_module": "@jupyter-widgets/controls",
            "_view_module_version": "1.5.0",
            "_view_name": "ProgressView",
            "bar_style": "success",
            "description": "100%",
            "description_tooltip": null,
            "layout": "IPY_MODEL_9f636b8872ab484aa71e460e93ec53b6",
            "max": 229,
            "min": 0,
            "orientation": "horizontal",
            "style": "IPY_MODEL_cc2f138e84214c8e84166db5effec18c",
            "value": 229
          }
        },
        "61fd8e04a19948a383bb9fa367f62727": {
          "model_module": "@jupyter-widgets/controls",
          "model_name": "HTMLModel",
          "state": {
            "_dom_classes": [],
            "_model_module": "@jupyter-widgets/controls",
            "_model_module_version": "1.5.0",
            "_model_name": "HTMLModel",
            "_view_count": null,
            "_view_module": "@jupyter-widgets/controls",
            "_view_module_version": "1.5.0",
            "_view_name": "HTMLView",
            "description": "",
            "description_tooltip": null,
            "layout": "IPY_MODEL_37aeb2a522594fd89eaebeeb28de2f5c",
            "placeholder": "​",
            "style": "IPY_MODEL_00d59f59f03e48b59ee4bf7c7e6524fc",
            "value": " 229/229 [05:44&lt;00:00,  1.50s/ba]"
          }
        },
        "f8c85e498c064e57a4b470a2bacf791f": {
          "model_module": "@jupyter-widgets/base",
          "model_name": "LayoutModel",
          "state": {
            "_model_module": "@jupyter-widgets/base",
            "_model_module_version": "1.2.0",
            "_model_name": "LayoutModel",
            "_view_count": null,
            "_view_module": "@jupyter-widgets/base",
            "_view_module_version": "1.2.0",
            "_view_name": "LayoutView",
            "align_content": null,
            "align_items": null,
            "align_self": null,
            "border": null,
            "bottom": null,
            "display": null,
            "flex": null,
            "flex_flow": null,
            "grid_area": null,
            "grid_auto_columns": null,
            "grid_auto_flow": null,
            "grid_auto_rows": null,
            "grid_column": null,
            "grid_gap": null,
            "grid_row": null,
            "grid_template_areas": null,
            "grid_template_columns": null,
            "grid_template_rows": null,
            "height": null,
            "justify_content": null,
            "justify_items": null,
            "left": null,
            "margin": null,
            "max_height": null,
            "max_width": null,
            "min_height": null,
            "min_width": null,
            "object_fit": null,
            "object_position": null,
            "order": null,
            "overflow": null,
            "overflow_x": null,
            "overflow_y": null,
            "padding": null,
            "right": null,
            "top": null,
            "visibility": null,
            "width": null
          }
        },
        "9f636b8872ab484aa71e460e93ec53b6": {
          "model_module": "@jupyter-widgets/base",
          "model_name": "LayoutModel",
          "state": {
            "_model_module": "@jupyter-widgets/base",
            "_model_module_version": "1.2.0",
            "_model_name": "LayoutModel",
            "_view_count": null,
            "_view_module": "@jupyter-widgets/base",
            "_view_module_version": "1.2.0",
            "_view_name": "LayoutView",
            "align_content": null,
            "align_items": null,
            "align_self": null,
            "border": null,
            "bottom": null,
            "display": null,
            "flex": null,
            "flex_flow": null,
            "grid_area": null,
            "grid_auto_columns": null,
            "grid_auto_flow": null,
            "grid_auto_rows": null,
            "grid_column": null,
            "grid_gap": null,
            "grid_row": null,
            "grid_template_areas": null,
            "grid_template_columns": null,
            "grid_template_rows": null,
            "height": null,
            "justify_content": null,
            "justify_items": null,
            "left": null,
            "margin": null,
            "max_height": null,
            "max_width": null,
            "min_height": null,
            "min_width": null,
            "object_fit": null,
            "object_position": null,
            "order": null,
            "overflow": null,
            "overflow_x": null,
            "overflow_y": null,
            "padding": null,
            "right": null,
            "top": null,
            "visibility": null,
            "width": null
          }
        },
        "cc2f138e84214c8e84166db5effec18c": {
          "model_module": "@jupyter-widgets/controls",
          "model_name": "ProgressStyleModel",
          "state": {
            "_model_module": "@jupyter-widgets/controls",
            "_model_module_version": "1.5.0",
            "_model_name": "ProgressStyleModel",
            "_view_count": null,
            "_view_module": "@jupyter-widgets/base",
            "_view_module_version": "1.2.0",
            "_view_name": "StyleView",
            "bar_color": null,
            "description_width": "initial"
          }
        },
        "37aeb2a522594fd89eaebeeb28de2f5c": {
          "model_module": "@jupyter-widgets/base",
          "model_name": "LayoutModel",
          "state": {
            "_model_module": "@jupyter-widgets/base",
            "_model_module_version": "1.2.0",
            "_model_name": "LayoutModel",
            "_view_count": null,
            "_view_module": "@jupyter-widgets/base",
            "_view_module_version": "1.2.0",
            "_view_name": "LayoutView",
            "align_content": null,
            "align_items": null,
            "align_self": null,
            "border": null,
            "bottom": null,
            "display": null,
            "flex": null,
            "flex_flow": null,
            "grid_area": null,
            "grid_auto_columns": null,
            "grid_auto_flow": null,
            "grid_auto_rows": null,
            "grid_column": null,
            "grid_gap": null,
            "grid_row": null,
            "grid_template_areas": null,
            "grid_template_columns": null,
            "grid_template_rows": null,
            "height": null,
            "justify_content": null,
            "justify_items": null,
            "left": null,
            "margin": null,
            "max_height": null,
            "max_width": null,
            "min_height": null,
            "min_width": null,
            "object_fit": null,
            "object_position": null,
            "order": null,
            "overflow": null,
            "overflow_x": null,
            "overflow_y": null,
            "padding": null,
            "right": null,
            "top": null,
            "visibility": null,
            "width": null
          }
        },
        "00d59f59f03e48b59ee4bf7c7e6524fc": {
          "model_module": "@jupyter-widgets/controls",
          "model_name": "DescriptionStyleModel",
          "state": {
            "_model_module": "@jupyter-widgets/controls",
            "_model_module_version": "1.5.0",
            "_model_name": "DescriptionStyleModel",
            "_view_count": null,
            "_view_module": "@jupyter-widgets/base",
            "_view_module_version": "1.2.0",
            "_view_name": "StyleView",
            "description_width": ""
          }
        },
        "dbd12254e2804f9ea96c967233b0e285": {
          "model_module": "@jupyter-widgets/controls",
          "model_name": "HBoxModel",
          "state": {
            "_dom_classes": [],
            "_model_module": "@jupyter-widgets/controls",
            "_model_module_version": "1.5.0",
            "_model_name": "HBoxModel",
            "_view_count": null,
            "_view_module": "@jupyter-widgets/controls",
            "_view_module_version": "1.5.0",
            "_view_name": "HBoxView",
            "box_style": "",
            "children": [
              "IPY_MODEL_182efafab0c6402f9be19578f3dc61ac",
              "IPY_MODEL_af3b3057bd274a93b216dfe1faf723ec"
            ],
            "layout": "IPY_MODEL_4c04829b018d43a6888eed3f9caec933"
          }
        },
        "182efafab0c6402f9be19578f3dc61ac": {
          "model_module": "@jupyter-widgets/controls",
          "model_name": "FloatProgressModel",
          "state": {
            "_dom_classes": [],
            "_model_module": "@jupyter-widgets/controls",
            "_model_module_version": "1.5.0",
            "_model_name": "FloatProgressModel",
            "_view_count": null,
            "_view_module": "@jupyter-widgets/controls",
            "_view_module_version": "1.5.0",
            "_view_name": "ProgressView",
            "bar_style": "success",
            "description": "100%",
            "description_tooltip": null,
            "layout": "IPY_MODEL_8cfabcf095744e9bbb0d0fbb273f090b",
            "max": 26,
            "min": 0,
            "orientation": "horizontal",
            "style": "IPY_MODEL_73fc647136b2473c862a02f7b0dd1474",
            "value": 26
          }
        },
        "af3b3057bd274a93b216dfe1faf723ec": {
          "model_module": "@jupyter-widgets/controls",
          "model_name": "HTMLModel",
          "state": {
            "_dom_classes": [],
            "_model_module": "@jupyter-widgets/controls",
            "_model_module_version": "1.5.0",
            "_model_name": "HTMLModel",
            "_view_count": null,
            "_view_module": "@jupyter-widgets/controls",
            "_view_module_version": "1.5.0",
            "_view_name": "HTMLView",
            "description": "",
            "description_tooltip": null,
            "layout": "IPY_MODEL_93972038eb654e0e8c9e413fac23140e",
            "placeholder": "​",
            "style": "IPY_MODEL_21920c3b85f44fac9798eb85454fc373",
            "value": " 26/26 [04:56&lt;00:00, 11.41s/ba]"
          }
        },
        "4c04829b018d43a6888eed3f9caec933": {
          "model_module": "@jupyter-widgets/base",
          "model_name": "LayoutModel",
          "state": {
            "_model_module": "@jupyter-widgets/base",
            "_model_module_version": "1.2.0",
            "_model_name": "LayoutModel",
            "_view_count": null,
            "_view_module": "@jupyter-widgets/base",
            "_view_module_version": "1.2.0",
            "_view_name": "LayoutView",
            "align_content": null,
            "align_items": null,
            "align_self": null,
            "border": null,
            "bottom": null,
            "display": null,
            "flex": null,
            "flex_flow": null,
            "grid_area": null,
            "grid_auto_columns": null,
            "grid_auto_flow": null,
            "grid_auto_rows": null,
            "grid_column": null,
            "grid_gap": null,
            "grid_row": null,
            "grid_template_areas": null,
            "grid_template_columns": null,
            "grid_template_rows": null,
            "height": null,
            "justify_content": null,
            "justify_items": null,
            "left": null,
            "margin": null,
            "max_height": null,
            "max_width": null,
            "min_height": null,
            "min_width": null,
            "object_fit": null,
            "object_position": null,
            "order": null,
            "overflow": null,
            "overflow_x": null,
            "overflow_y": null,
            "padding": null,
            "right": null,
            "top": null,
            "visibility": null,
            "width": null
          }
        },
        "8cfabcf095744e9bbb0d0fbb273f090b": {
          "model_module": "@jupyter-widgets/base",
          "model_name": "LayoutModel",
          "state": {
            "_model_module": "@jupyter-widgets/base",
            "_model_module_version": "1.2.0",
            "_model_name": "LayoutModel",
            "_view_count": null,
            "_view_module": "@jupyter-widgets/base",
            "_view_module_version": "1.2.0",
            "_view_name": "LayoutView",
            "align_content": null,
            "align_items": null,
            "align_self": null,
            "border": null,
            "bottom": null,
            "display": null,
            "flex": null,
            "flex_flow": null,
            "grid_area": null,
            "grid_auto_columns": null,
            "grid_auto_flow": null,
            "grid_auto_rows": null,
            "grid_column": null,
            "grid_gap": null,
            "grid_row": null,
            "grid_template_areas": null,
            "grid_template_columns": null,
            "grid_template_rows": null,
            "height": null,
            "justify_content": null,
            "justify_items": null,
            "left": null,
            "margin": null,
            "max_height": null,
            "max_width": null,
            "min_height": null,
            "min_width": null,
            "object_fit": null,
            "object_position": null,
            "order": null,
            "overflow": null,
            "overflow_x": null,
            "overflow_y": null,
            "padding": null,
            "right": null,
            "top": null,
            "visibility": null,
            "width": null
          }
        },
        "73fc647136b2473c862a02f7b0dd1474": {
          "model_module": "@jupyter-widgets/controls",
          "model_name": "ProgressStyleModel",
          "state": {
            "_model_module": "@jupyter-widgets/controls",
            "_model_module_version": "1.5.0",
            "_model_name": "ProgressStyleModel",
            "_view_count": null,
            "_view_module": "@jupyter-widgets/base",
            "_view_module_version": "1.2.0",
            "_view_name": "StyleView",
            "bar_color": null,
            "description_width": "initial"
          }
        },
        "93972038eb654e0e8c9e413fac23140e": {
          "model_module": "@jupyter-widgets/base",
          "model_name": "LayoutModel",
          "state": {
            "_model_module": "@jupyter-widgets/base",
            "_model_module_version": "1.2.0",
            "_model_name": "LayoutModel",
            "_view_count": null,
            "_view_module": "@jupyter-widgets/base",
            "_view_module_version": "1.2.0",
            "_view_name": "LayoutView",
            "align_content": null,
            "align_items": null,
            "align_self": null,
            "border": null,
            "bottom": null,
            "display": null,
            "flex": null,
            "flex_flow": null,
            "grid_area": null,
            "grid_auto_columns": null,
            "grid_auto_flow": null,
            "grid_auto_rows": null,
            "grid_column": null,
            "grid_gap": null,
            "grid_row": null,
            "grid_template_areas": null,
            "grid_template_columns": null,
            "grid_template_rows": null,
            "height": null,
            "justify_content": null,
            "justify_items": null,
            "left": null,
            "margin": null,
            "max_height": null,
            "max_width": null,
            "min_height": null,
            "min_width": null,
            "object_fit": null,
            "object_position": null,
            "order": null,
            "overflow": null,
            "overflow_x": null,
            "overflow_y": null,
            "padding": null,
            "right": null,
            "top": null,
            "visibility": null,
            "width": null
          }
        },
        "21920c3b85f44fac9798eb85454fc373": {
          "model_module": "@jupyter-widgets/controls",
          "model_name": "DescriptionStyleModel",
          "state": {
            "_model_module": "@jupyter-widgets/controls",
            "_model_module_version": "1.5.0",
            "_model_name": "DescriptionStyleModel",
            "_view_count": null,
            "_view_module": "@jupyter-widgets/base",
            "_view_module_version": "1.2.0",
            "_view_name": "StyleView",
            "description_width": ""
          }
        },
        "db34e11fc01f4f6788bbaedaf17b1397": {
          "model_module": "@jupyter-widgets/controls",
          "model_name": "HBoxModel",
          "state": {
            "_dom_classes": [],
            "_model_module": "@jupyter-widgets/controls",
            "_model_module_version": "1.5.0",
            "_model_name": "HBoxModel",
            "_view_count": null,
            "_view_module": "@jupyter-widgets/controls",
            "_view_module_version": "1.5.0",
            "_view_name": "HBoxView",
            "box_style": "",
            "children": [
              "IPY_MODEL_e81839e614194cbe832ec4314c58a93c",
              "IPY_MODEL_d2272b112ace43a682e27676e67512a2"
            ],
            "layout": "IPY_MODEL_0185a946b552433b8cb305241908fe5c"
          }
        },
        "e81839e614194cbe832ec4314c58a93c": {
          "model_module": "@jupyter-widgets/controls",
          "model_name": "FloatProgressModel",
          "state": {
            "_dom_classes": [],
            "_model_module": "@jupyter-widgets/controls",
            "_model_module_version": "1.5.0",
            "_model_name": "FloatProgressModel",
            "_view_count": null,
            "_view_module": "@jupyter-widgets/controls",
            "_view_module_version": "1.5.0",
            "_view_name": "ProgressView",
            "bar_style": "success",
            "description": "Downloading: 100%",
            "description_tooltip": null,
            "layout": "IPY_MODEL_371aad576a514432b3f69efe5d17e810",
            "max": 267967963,
            "min": 0,
            "orientation": "horizontal",
            "style": "IPY_MODEL_d07e868b4a684039b5d61d91af17d738",
            "value": 267967963
          }
        },
        "d2272b112ace43a682e27676e67512a2": {
          "model_module": "@jupyter-widgets/controls",
          "model_name": "HTMLModel",
          "state": {
            "_dom_classes": [],
            "_model_module": "@jupyter-widgets/controls",
            "_model_module_version": "1.5.0",
            "_model_name": "HTMLModel",
            "_view_count": null,
            "_view_module": "@jupyter-widgets/controls",
            "_view_module_version": "1.5.0",
            "_view_name": "HTMLView",
            "description": "",
            "description_tooltip": null,
            "layout": "IPY_MODEL_a9f0bb9a153e4298b5e31947fbfee2f0",
            "placeholder": "​",
            "style": "IPY_MODEL_516a59b92bcd46c8b0738fe5554ef3dd",
            "value": " 268M/268M [00:06&lt;00:00, 43.9MB/s]"
          }
        },
        "0185a946b552433b8cb305241908fe5c": {
          "model_module": "@jupyter-widgets/base",
          "model_name": "LayoutModel",
          "state": {
            "_model_module": "@jupyter-widgets/base",
            "_model_module_version": "1.2.0",
            "_model_name": "LayoutModel",
            "_view_count": null,
            "_view_module": "@jupyter-widgets/base",
            "_view_module_version": "1.2.0",
            "_view_name": "LayoutView",
            "align_content": null,
            "align_items": null,
            "align_self": null,
            "border": null,
            "bottom": null,
            "display": null,
            "flex": null,
            "flex_flow": null,
            "grid_area": null,
            "grid_auto_columns": null,
            "grid_auto_flow": null,
            "grid_auto_rows": null,
            "grid_column": null,
            "grid_gap": null,
            "grid_row": null,
            "grid_template_areas": null,
            "grid_template_columns": null,
            "grid_template_rows": null,
            "height": null,
            "justify_content": null,
            "justify_items": null,
            "left": null,
            "margin": null,
            "max_height": null,
            "max_width": null,
            "min_height": null,
            "min_width": null,
            "object_fit": null,
            "object_position": null,
            "order": null,
            "overflow": null,
            "overflow_x": null,
            "overflow_y": null,
            "padding": null,
            "right": null,
            "top": null,
            "visibility": null,
            "width": null
          }
        },
        "371aad576a514432b3f69efe5d17e810": {
          "model_module": "@jupyter-widgets/base",
          "model_name": "LayoutModel",
          "state": {
            "_model_module": "@jupyter-widgets/base",
            "_model_module_version": "1.2.0",
            "_model_name": "LayoutModel",
            "_view_count": null,
            "_view_module": "@jupyter-widgets/base",
            "_view_module_version": "1.2.0",
            "_view_name": "LayoutView",
            "align_content": null,
            "align_items": null,
            "align_self": null,
            "border": null,
            "bottom": null,
            "display": null,
            "flex": null,
            "flex_flow": null,
            "grid_area": null,
            "grid_auto_columns": null,
            "grid_auto_flow": null,
            "grid_auto_rows": null,
            "grid_column": null,
            "grid_gap": null,
            "grid_row": null,
            "grid_template_areas": null,
            "grid_template_columns": null,
            "grid_template_rows": null,
            "height": null,
            "justify_content": null,
            "justify_items": null,
            "left": null,
            "margin": null,
            "max_height": null,
            "max_width": null,
            "min_height": null,
            "min_width": null,
            "object_fit": null,
            "object_position": null,
            "order": null,
            "overflow": null,
            "overflow_x": null,
            "overflow_y": null,
            "padding": null,
            "right": null,
            "top": null,
            "visibility": null,
            "width": null
          }
        },
        "d07e868b4a684039b5d61d91af17d738": {
          "model_module": "@jupyter-widgets/controls",
          "model_name": "ProgressStyleModel",
          "state": {
            "_model_module": "@jupyter-widgets/controls",
            "_model_module_version": "1.5.0",
            "_model_name": "ProgressStyleModel",
            "_view_count": null,
            "_view_module": "@jupyter-widgets/base",
            "_view_module_version": "1.2.0",
            "_view_name": "StyleView",
            "bar_color": null,
            "description_width": "initial"
          }
        },
        "a9f0bb9a153e4298b5e31947fbfee2f0": {
          "model_module": "@jupyter-widgets/base",
          "model_name": "LayoutModel",
          "state": {
            "_model_module": "@jupyter-widgets/base",
            "_model_module_version": "1.2.0",
            "_model_name": "LayoutModel",
            "_view_count": null,
            "_view_module": "@jupyter-widgets/base",
            "_view_module_version": "1.2.0",
            "_view_name": "LayoutView",
            "align_content": null,
            "align_items": null,
            "align_self": null,
            "border": null,
            "bottom": null,
            "display": null,
            "flex": null,
            "flex_flow": null,
            "grid_area": null,
            "grid_auto_columns": null,
            "grid_auto_flow": null,
            "grid_auto_rows": null,
            "grid_column": null,
            "grid_gap": null,
            "grid_row": null,
            "grid_template_areas": null,
            "grid_template_columns": null,
            "grid_template_rows": null,
            "height": null,
            "justify_content": null,
            "justify_items": null,
            "left": null,
            "margin": null,
            "max_height": null,
            "max_width": null,
            "min_height": null,
            "min_width": null,
            "object_fit": null,
            "object_position": null,
            "order": null,
            "overflow": null,
            "overflow_x": null,
            "overflow_y": null,
            "padding": null,
            "right": null,
            "top": null,
            "visibility": null,
            "width": null
          }
        },
        "516a59b92bcd46c8b0738fe5554ef3dd": {
          "model_module": "@jupyter-widgets/controls",
          "model_name": "DescriptionStyleModel",
          "state": {
            "_model_module": "@jupyter-widgets/controls",
            "_model_module_version": "1.5.0",
            "_model_name": "DescriptionStyleModel",
            "_view_count": null,
            "_view_module": "@jupyter-widgets/base",
            "_view_module_version": "1.2.0",
            "_view_name": "StyleView",
            "description_width": ""
          }
        }
      }
    }
  },
  "cells": [
    {
      "cell_type": "markdown",
      "metadata": {
        "id": "view-in-github",
        "colab_type": "text"
      },
      "source": [
        "<a href=\"https://colab.research.google.com/github/ValdazoAmerico/NER-HUGGINGFACE/blob/main/HUGGINGFACE_NER.ipynb\" target=\"_parent\"><img src=\"https://colab.research.google.com/assets/colab-badge.svg\" alt=\"Open In Colab\"/></a>"
      ]
    },
    {
      "cell_type": "code",
      "metadata": {
        "colab": {
          "base_uri": "https://localhost:8080/"
        },
        "id": "ia7FmyksAmLE",
        "outputId": "ed5ccd76-34f8-4256-aebd-b20bfc8b6967"
      },
      "source": [
        "!pip install transformers"
      ],
      "execution_count": null,
      "outputs": [
        {
          "output_type": "stream",
          "text": [
            "Collecting transformers\n",
            "\u001b[?25l  Downloading https://files.pythonhosted.org/packages/fd/1a/41c644c963249fd7f3836d926afa1e3f1cc234a1c40d80c5f03ad8f6f1b2/transformers-4.8.2-py3-none-any.whl (2.5MB)\n",
            "\r\u001b[K     |▏                               | 10kB 19.8MB/s eta 0:00:01\r\u001b[K     |▎                               | 20kB 26.3MB/s eta 0:00:01\r\u001b[K     |▍                               | 30kB 30.8MB/s eta 0:00:01\r\u001b[K     |▌                               | 40kB 32.8MB/s eta 0:00:01\r\u001b[K     |▋                               | 51kB 35.1MB/s eta 0:00:01\r\u001b[K     |▉                               | 61kB 37.0MB/s eta 0:00:01\r\u001b[K     |█                               | 71kB 36.9MB/s eta 0:00:01\r\u001b[K     |█                               | 81kB 37.3MB/s eta 0:00:01\r\u001b[K     |█▏                              | 92kB 38.3MB/s eta 0:00:01\r\u001b[K     |█▎                              | 102kB 39.3MB/s eta 0:00:01\r\u001b[K     |█▍                              | 112kB 39.3MB/s eta 0:00:01\r\u001b[K     |█▋                              | 122kB 39.3MB/s eta 0:00:01\r\u001b[K     |█▊                              | 133kB 39.3MB/s eta 0:00:01\r\u001b[K     |█▉                              | 143kB 39.3MB/s eta 0:00:01\r\u001b[K     |██                              | 153kB 39.3MB/s eta 0:00:01\r\u001b[K     |██                              | 163kB 39.3MB/s eta 0:00:01\r\u001b[K     |██▎                             | 174kB 39.3MB/s eta 0:00:01\r\u001b[K     |██▍                             | 184kB 39.3MB/s eta 0:00:01\r\u001b[K     |██▌                             | 194kB 39.3MB/s eta 0:00:01\r\u001b[K     |██▋                             | 204kB 39.3MB/s eta 0:00:01\r\u001b[K     |██▊                             | 215kB 39.3MB/s eta 0:00:01\r\u001b[K     |██▉                             | 225kB 39.3MB/s eta 0:00:01\r\u001b[K     |███                             | 235kB 39.3MB/s eta 0:00:01\r\u001b[K     |███▏                            | 245kB 39.3MB/s eta 0:00:01\r\u001b[K     |███▎                            | 256kB 39.3MB/s eta 0:00:01\r\u001b[K     |███▍                            | 266kB 39.3MB/s eta 0:00:01\r\u001b[K     |███▌                            | 276kB 39.3MB/s eta 0:00:01\r\u001b[K     |███▊                            | 286kB 39.3MB/s eta 0:00:01\r\u001b[K     |███▉                            | 296kB 39.3MB/s eta 0:00:01\r\u001b[K     |████                            | 307kB 39.3MB/s eta 0:00:01\r\u001b[K     |████                            | 317kB 39.3MB/s eta 0:00:01\r\u001b[K     |████▏                           | 327kB 39.3MB/s eta 0:00:01\r\u001b[K     |████▎                           | 337kB 39.3MB/s eta 0:00:01\r\u001b[K     |████▌                           | 348kB 39.3MB/s eta 0:00:01\r\u001b[K     |████▋                           | 358kB 39.3MB/s eta 0:00:01\r\u001b[K     |████▊                           | 368kB 39.3MB/s eta 0:00:01\r\u001b[K     |████▉                           | 378kB 39.3MB/s eta 0:00:01\r\u001b[K     |█████                           | 389kB 39.3MB/s eta 0:00:01\r\u001b[K     |█████▏                          | 399kB 39.3MB/s eta 0:00:01\r\u001b[K     |█████▎                          | 409kB 39.3MB/s eta 0:00:01\r\u001b[K     |█████▍                          | 419kB 39.3MB/s eta 0:00:01\r\u001b[K     |█████▌                          | 430kB 39.3MB/s eta 0:00:01\r\u001b[K     |█████▋                          | 440kB 39.3MB/s eta 0:00:01\r\u001b[K     |█████▊                          | 450kB 39.3MB/s eta 0:00:01\r\u001b[K     |██████                          | 460kB 39.3MB/s eta 0:00:01\r\u001b[K     |██████                          | 471kB 39.3MB/s eta 0:00:01\r\u001b[K     |██████▏                         | 481kB 39.3MB/s eta 0:00:01\r\u001b[K     |██████▎                         | 491kB 39.3MB/s eta 0:00:01\r\u001b[K     |██████▍                         | 501kB 39.3MB/s eta 0:00:01\r\u001b[K     |██████▌                         | 512kB 39.3MB/s eta 0:00:01\r\u001b[K     |██████▊                         | 522kB 39.3MB/s eta 0:00:01\r\u001b[K     |██████▉                         | 532kB 39.3MB/s eta 0:00:01\r\u001b[K     |███████                         | 542kB 39.3MB/s eta 0:00:01\r\u001b[K     |███████                         | 552kB 39.3MB/s eta 0:00:01\r\u001b[K     |███████▏                        | 563kB 39.3MB/s eta 0:00:01\r\u001b[K     |███████▍                        | 573kB 39.3MB/s eta 0:00:01\r\u001b[K     |███████▌                        | 583kB 39.3MB/s eta 0:00:01\r\u001b[K     |███████▋                        | 593kB 39.3MB/s eta 0:00:01\r\u001b[K     |███████▊                        | 604kB 39.3MB/s eta 0:00:01\r\u001b[K     |███████▉                        | 614kB 39.3MB/s eta 0:00:01\r\u001b[K     |████████                        | 624kB 39.3MB/s eta 0:00:01\r\u001b[K     |████████▏                       | 634kB 39.3MB/s eta 0:00:01\r\u001b[K     |████████▎                       | 645kB 39.3MB/s eta 0:00:01\r\u001b[K     |████████▍                       | 655kB 39.3MB/s eta 0:00:01\r\u001b[K     |████████▌                       | 665kB 39.3MB/s eta 0:00:01\r\u001b[K     |████████▋                       | 675kB 39.3MB/s eta 0:00:01\r\u001b[K     |████████▉                       | 686kB 39.3MB/s eta 0:00:01\r\u001b[K     |█████████                       | 696kB 39.3MB/s eta 0:00:01\r\u001b[K     |█████████                       | 706kB 39.3MB/s eta 0:00:01\r\u001b[K     |█████████▏                      | 716kB 39.3MB/s eta 0:00:01\r\u001b[K     |█████████▎                      | 727kB 39.3MB/s eta 0:00:01\r\u001b[K     |█████████▍                      | 737kB 39.3MB/s eta 0:00:01\r\u001b[K     |█████████▋                      | 747kB 39.3MB/s eta 0:00:01\r\u001b[K     |█████████▊                      | 757kB 39.3MB/s eta 0:00:01\r\u001b[K     |█████████▉                      | 768kB 39.3MB/s eta 0:00:01\r\u001b[K     |██████████                      | 778kB 39.3MB/s eta 0:00:01\r\u001b[K     |██████████                      | 788kB 39.3MB/s eta 0:00:01\r\u001b[K     |██████████▎                     | 798kB 39.3MB/s eta 0:00:01\r\u001b[K     |██████████▍                     | 808kB 39.3MB/s eta 0:00:01\r\u001b[K     |██████████▌                     | 819kB 39.3MB/s eta 0:00:01\r\u001b[K     |██████████▋                     | 829kB 39.3MB/s eta 0:00:01\r\u001b[K     |██████████▊                     | 839kB 39.3MB/s eta 0:00:01\r\u001b[K     |██████████▉                     | 849kB 39.3MB/s eta 0:00:01\r\u001b[K     |███████████                     | 860kB 39.3MB/s eta 0:00:01\r\u001b[K     |███████████▏                    | 870kB 39.3MB/s eta 0:00:01\r\u001b[K     |███████████▎                    | 880kB 39.3MB/s eta 0:00:01\r\u001b[K     |███████████▍                    | 890kB 39.3MB/s eta 0:00:01\r\u001b[K     |███████████▌                    | 901kB 39.3MB/s eta 0:00:01\r\u001b[K     |███████████▊                    | 911kB 39.3MB/s eta 0:00:01\r\u001b[K     |███████████▉                    | 921kB 39.3MB/s eta 0:00:01\r\u001b[K     |████████████                    | 931kB 39.3MB/s eta 0:00:01\r\u001b[K     |████████████                    | 942kB 39.3MB/s eta 0:00:01\r\u001b[K     |████████████▏                   | 952kB 39.3MB/s eta 0:00:01\r\u001b[K     |████████████▎                   | 962kB 39.3MB/s eta 0:00:01\r\u001b[K     |████████████▌                   | 972kB 39.3MB/s eta 0:00:01\r\u001b[K     |████████████▋                   | 983kB 39.3MB/s eta 0:00:01\r\u001b[K     |████████████▊                   | 993kB 39.3MB/s eta 0:00:01\r\u001b[K     |████████████▉                   | 1.0MB 39.3MB/s eta 0:00:01\r\u001b[K     |█████████████                   | 1.0MB 39.3MB/s eta 0:00:01\r\u001b[K     |█████████████                   | 1.0MB 39.3MB/s eta 0:00:01\r\u001b[K     |█████████████▎                  | 1.0MB 39.3MB/s eta 0:00:01\r\u001b[K     |█████████████▍                  | 1.0MB 39.3MB/s eta 0:00:01\r\u001b[K     |█████████████▌                  | 1.1MB 39.3MB/s eta 0:00:01\r\u001b[K     |█████████████▋                  | 1.1MB 39.3MB/s eta 0:00:01\r\u001b[K     |█████████████▊                  | 1.1MB 39.3MB/s eta 0:00:01\r\u001b[K     |██████████████                  | 1.1MB 39.3MB/s eta 0:00:01\r\u001b[K     |██████████████                  | 1.1MB 39.3MB/s eta 0:00:01\r\u001b[K     |██████████████▏                 | 1.1MB 39.3MB/s eta 0:00:01\r\u001b[K     |██████████████▎                 | 1.1MB 39.3MB/s eta 0:00:01\r\u001b[K     |██████████████▍                 | 1.1MB 39.3MB/s eta 0:00:01\r\u001b[K     |██████████████▌                 | 1.1MB 39.3MB/s eta 0:00:01\r\u001b[K     |██████████████▊                 | 1.1MB 39.3MB/s eta 0:00:01\r\u001b[K     |██████████████▉                 | 1.2MB 39.3MB/s eta 0:00:01\r\u001b[K     |███████████████                 | 1.2MB 39.3MB/s eta 0:00:01\r\u001b[K     |███████████████                 | 1.2MB 39.3MB/s eta 0:00:01\r\u001b[K     |███████████████▏                | 1.2MB 39.3MB/s eta 0:00:01\r\u001b[K     |███████████████▍                | 1.2MB 39.3MB/s eta 0:00:01\r\u001b[K     |███████████████▌                | 1.2MB 39.3MB/s eta 0:00:01\r\u001b[K     |███████████████▋                | 1.2MB 39.3MB/s eta 0:00:01\r\u001b[K     |███████████████▊                | 1.2MB 39.3MB/s eta 0:00:01\r\u001b[K     |███████████████▉                | 1.2MB 39.3MB/s eta 0:00:01\r\u001b[K     |████████████████                | 1.2MB 39.3MB/s eta 0:00:01\r\u001b[K     |████████████████▏               | 1.3MB 39.3MB/s eta 0:00:01\r\u001b[K     |████████████████▎               | 1.3MB 39.3MB/s eta 0:00:01\r\u001b[K     |████████████████▍               | 1.3MB 39.3MB/s eta 0:00:01\r\u001b[K     |████████████████▌               | 1.3MB 39.3MB/s eta 0:00:01\r\u001b[K     |████████████████▋               | 1.3MB 39.3MB/s eta 0:00:01\r\u001b[K     |████████████████▉               | 1.3MB 39.3MB/s eta 0:00:01\r\u001b[K     |█████████████████               | 1.3MB 39.3MB/s eta 0:00:01\r\u001b[K     |█████████████████               | 1.3MB 39.3MB/s eta 0:00:01\r\u001b[K     |█████████████████▏              | 1.3MB 39.3MB/s eta 0:00:01\r\u001b[K     |█████████████████▎              | 1.4MB 39.3MB/s eta 0:00:01\r\u001b[K     |█████████████████▍              | 1.4MB 39.3MB/s eta 0:00:01\r\u001b[K     |█████████████████▋              | 1.4MB 39.3MB/s eta 0:00:01\r\u001b[K     |█████████████████▊              | 1.4MB 39.3MB/s eta 0:00:01\r\u001b[K     |█████████████████▉              | 1.4MB 39.3MB/s eta 0:00:01\r\u001b[K     |██████████████████              | 1.4MB 39.3MB/s eta 0:00:01\r\u001b[K     |██████████████████              | 1.4MB 39.3MB/s eta 0:00:01\r\u001b[K     |██████████████████▎             | 1.4MB 39.3MB/s eta 0:00:01\r\u001b[K     |██████████████████▍             | 1.4MB 39.3MB/s eta 0:00:01\r\u001b[K     |██████████████████▌             | 1.4MB 39.3MB/s eta 0:00:01\r\u001b[K     |██████████████████▋             | 1.5MB 39.3MB/s eta 0:00:01\r\u001b[K     |██████████████████▊             | 1.5MB 39.3MB/s eta 0:00:01\r\u001b[K     |██████████████████▉             | 1.5MB 39.3MB/s eta 0:00:01\r\u001b[K     |███████████████████             | 1.5MB 39.3MB/s eta 0:00:01\r\u001b[K     |███████████████████▏            | 1.5MB 39.3MB/s eta 0:00:01\r\u001b[K     |███████████████████▎            | 1.5MB 39.3MB/s eta 0:00:01\r\u001b[K     |███████████████████▍            | 1.5MB 39.3MB/s eta 0:00:01\r\u001b[K     |███████████████████▌            | 1.5MB 39.3MB/s eta 0:00:01\r\u001b[K     |███████████████████▋            | 1.5MB 39.3MB/s eta 0:00:01\r\u001b[K     |███████████████████▉            | 1.5MB 39.3MB/s eta 0:00:01\r\u001b[K     |████████████████████            | 1.6MB 39.3MB/s eta 0:00:01\r\u001b[K     |████████████████████            | 1.6MB 39.3MB/s eta 0:00:01\r\u001b[K     |████████████████████▏           | 1.6MB 39.3MB/s eta 0:00:01\r\u001b[K     |████████████████████▎           | 1.6MB 39.3MB/s eta 0:00:01\r\u001b[K     |████████████████████▌           | 1.6MB 39.3MB/s eta 0:00:01\r\u001b[K     |████████████████████▋           | 1.6MB 39.3MB/s eta 0:00:01\r\u001b[K     |████████████████████▊           | 1.6MB 39.3MB/s eta 0:00:01\r\u001b[K     |████████████████████▉           | 1.6MB 39.3MB/s eta 0:00:01\r\u001b[K     |█████████████████████           | 1.6MB 39.3MB/s eta 0:00:01\r\u001b[K     |█████████████████████           | 1.6MB 39.3MB/s eta 0:00:01\r\u001b[K     |█████████████████████▎          | 1.7MB 39.3MB/s eta 0:00:01\r\u001b[K     |█████████████████████▍          | 1.7MB 39.3MB/s eta 0:00:01\r\u001b[K     |█████████████████████▌          | 1.7MB 39.3MB/s eta 0:00:01\r\u001b[K     |█████████████████████▋          | 1.7MB 39.3MB/s eta 0:00:01\r\u001b[K     |█████████████████████▊          | 1.7MB 39.3MB/s eta 0:00:01\r\u001b[K     |██████████████████████          | 1.7MB 39.3MB/s eta 0:00:01\r\u001b[K     |██████████████████████          | 1.7MB 39.3MB/s eta 0:00:01\r\u001b[K     |██████████████████████▏         | 1.7MB 39.3MB/s eta 0:00:01\r\u001b[K     |██████████████████████▎         | 1.7MB 39.3MB/s eta 0:00:01\r\u001b[K     |██████████████████████▍         | 1.8MB 39.3MB/s eta 0:00:01\r\u001b[K     |██████████████████████▌         | 1.8MB 39.3MB/s eta 0:00:01\r\u001b[K     |██████████████████████▊         | 1.8MB 39.3MB/s eta 0:00:01\r\u001b[K     |██████████████████████▉         | 1.8MB 39.3MB/s eta 0:00:01\r\u001b[K     |███████████████████████         | 1.8MB 39.3MB/s eta 0:00:01\r\u001b[K     |███████████████████████         | 1.8MB 39.3MB/s eta 0:00:01\r\u001b[K     |███████████████████████▏        | 1.8MB 39.3MB/s eta 0:00:01\r\u001b[K     |███████████████████████▍        | 1.8MB 39.3MB/s eta 0:00:01\r\u001b[K     |███████████████████████▌        | 1.8MB 39.3MB/s eta 0:00:01\r\u001b[K     |███████████████████████▋        | 1.8MB 39.3MB/s eta 0:00:01\r\u001b[K     |███████████████████████▊        | 1.9MB 39.3MB/s eta 0:00:01\r\u001b[K     |███████████████████████▉        | 1.9MB 39.3MB/s eta 0:00:01\r\u001b[K     |████████████████████████        | 1.9MB 39.3MB/s eta 0:00:01\r\u001b[K     |████████████████████████▏       | 1.9MB 39.3MB/s eta 0:00:01\r\u001b[K     |████████████████████████▎       | 1.9MB 39.3MB/s eta 0:00:01\r\u001b[K     |████████████████████████▍       | 1.9MB 39.3MB/s eta 0:00:01\r\u001b[K     |████████████████████████▌       | 1.9MB 39.3MB/s eta 0:00:01\r\u001b[K     |████████████████████████▋       | 1.9MB 39.3MB/s eta 0:00:01\r\u001b[K     |████████████████████████▉       | 1.9MB 39.3MB/s eta 0:00:01\r\u001b[K     |█████████████████████████       | 1.9MB 39.3MB/s eta 0:00:01\r\u001b[K     |█████████████████████████       | 2.0MB 39.3MB/s eta 0:00:01\r\u001b[K     |█████████████████████████▏      | 2.0MB 39.3MB/s eta 0:00:01\r\u001b[K     |█████████████████████████▎      | 2.0MB 39.3MB/s eta 0:00:01\r\u001b[K     |█████████████████████████▍      | 2.0MB 39.3MB/s eta 0:00:01\r\u001b[K     |█████████████████████████▋      | 2.0MB 39.3MB/s eta 0:00:01\r\u001b[K     |█████████████████████████▊      | 2.0MB 39.3MB/s eta 0:00:01\r\u001b[K     |█████████████████████████▉      | 2.0MB 39.3MB/s eta 0:00:01\r\u001b[K     |██████████████████████████      | 2.0MB 39.3MB/s eta 0:00:01\r\u001b[K     |██████████████████████████      | 2.0MB 39.3MB/s eta 0:00:01\r\u001b[K     |██████████████████████████▏     | 2.0MB 39.3MB/s eta 0:00:01\r\u001b[K     |██████████████████████████▍     | 2.1MB 39.3MB/s eta 0:00:01\r\u001b[K     |██████████████████████████▌     | 2.1MB 39.3MB/s eta 0:00:01\r\u001b[K     |██████████████████████████▋     | 2.1MB 39.3MB/s eta 0:00:01\r\u001b[K     |██████████████████████████▊     | 2.1MB 39.3MB/s eta 0:00:01\r\u001b[K     |██████████████████████████▉     | 2.1MB 39.3MB/s eta 0:00:01\r\u001b[K     |███████████████████████████     | 2.1MB 39.3MB/s eta 0:00:01\r\u001b[K     |███████████████████████████▏    | 2.1MB 39.3MB/s eta 0:00:01\r\u001b[K     |███████████████████████████▎    | 2.1MB 39.3MB/s eta 0:00:01\r\u001b[K     |███████████████████████████▍    | 2.1MB 39.3MB/s eta 0:00:01\r\u001b[K     |███████████████████████████▌    | 2.2MB 39.3MB/s eta 0:00:01\r\u001b[K     |███████████████████████████▋    | 2.2MB 39.3MB/s eta 0:00:01\r\u001b[K     |███████████████████████████▉    | 2.2MB 39.3MB/s eta 0:00:01\r\u001b[K     |████████████████████████████    | 2.2MB 39.3MB/s eta 0:00:01\r\u001b[K     |████████████████████████████    | 2.2MB 39.3MB/s eta 0:00:01\r\u001b[K     |████████████████████████████▏   | 2.2MB 39.3MB/s eta 0:00:01\r\u001b[K     |████████████████████████████▎   | 2.2MB 39.3MB/s eta 0:00:01\r\u001b[K     |████████████████████████████▌   | 2.2MB 39.3MB/s eta 0:00:01\r\u001b[K     |████████████████████████████▋   | 2.2MB 39.3MB/s eta 0:00:01\r\u001b[K     |████████████████████████████▊   | 2.2MB 39.3MB/s eta 0:00:01\r\u001b[K     |████████████████████████████▉   | 2.3MB 39.3MB/s eta 0:00:01\r\u001b[K     |█████████████████████████████   | 2.3MB 39.3MB/s eta 0:00:01\r\u001b[K     |█████████████████████████████   | 2.3MB 39.3MB/s eta 0:00:01\r\u001b[K     |█████████████████████████████▎  | 2.3MB 39.3MB/s eta 0:00:01\r\u001b[K     |█████████████████████████████▍  | 2.3MB 39.3MB/s eta 0:00:01\r\u001b[K     |█████████████████████████████▌  | 2.3MB 39.3MB/s eta 0:00:01\r\u001b[K     |█████████████████████████████▋  | 2.3MB 39.3MB/s eta 0:00:01\r\u001b[K     |█████████████████████████████▊  | 2.3MB 39.3MB/s eta 0:00:01\r\u001b[K     |██████████████████████████████  | 2.3MB 39.3MB/s eta 0:00:01\r\u001b[K     |██████████████████████████████  | 2.3MB 39.3MB/s eta 0:00:01\r\u001b[K     |██████████████████████████████▏ | 2.4MB 39.3MB/s eta 0:00:01\r\u001b[K     |██████████████████████████████▎ | 2.4MB 39.3MB/s eta 0:00:01\r\u001b[K     |██████████████████████████████▍ | 2.4MB 39.3MB/s eta 0:00:01\r\u001b[K     |██████████████████████████████▌ | 2.4MB 39.3MB/s eta 0:00:01\r\u001b[K     |██████████████████████████████▊ | 2.4MB 39.3MB/s eta 0:00:01\r\u001b[K     |██████████████████████████████▉ | 2.4MB 39.3MB/s eta 0:00:01\r\u001b[K     |███████████████████████████████ | 2.4MB 39.3MB/s eta 0:00:01\r\u001b[K     |███████████████████████████████ | 2.4MB 39.3MB/s eta 0:00:01\r\u001b[K     |███████████████████████████████▏| 2.4MB 39.3MB/s eta 0:00:01\r\u001b[K     |███████████████████████████████▍| 2.4MB 39.3MB/s eta 0:00:01\r\u001b[K     |███████████████████████████████▌| 2.5MB 39.3MB/s eta 0:00:01\r\u001b[K     |███████████████████████████████▋| 2.5MB 39.3MB/s eta 0:00:01\r\u001b[K     |███████████████████████████████▊| 2.5MB 39.3MB/s eta 0:00:01\r\u001b[K     |███████████████████████████████▉| 2.5MB 39.3MB/s eta 0:00:01\r\u001b[K     |████████████████████████████████| 2.5MB 39.3MB/s eta 0:00:01\r\u001b[K     |████████████████████████████████| 2.5MB 39.3MB/s \n",
            "\u001b[?25hRequirement already satisfied: packaging in /usr/local/lib/python3.7/dist-packages (from transformers) (20.9)\n",
            "Requirement already satisfied: requests in /usr/local/lib/python3.7/dist-packages (from transformers) (2.23.0)\n",
            "Requirement already satisfied: filelock in /usr/local/lib/python3.7/dist-packages (from transformers) (3.0.12)\n",
            "Collecting huggingface-hub==0.0.12\n",
            "  Downloading https://files.pythonhosted.org/packages/2f/ee/97e253668fda9b17e968b3f97b2f8e53aa0127e8807d24a547687423fe0b/huggingface_hub-0.0.12-py3-none-any.whl\n",
            "Collecting sacremoses\n",
            "\u001b[?25l  Downloading https://files.pythonhosted.org/packages/75/ee/67241dc87f266093c533a2d4d3d69438e57d7a90abb216fa076e7d475d4a/sacremoses-0.0.45-py3-none-any.whl (895kB)\n",
            "\u001b[K     |████████████████████████████████| 901kB 47.8MB/s \n",
            "\u001b[?25hRequirement already satisfied: regex!=2019.12.17 in /usr/local/lib/python3.7/dist-packages (from transformers) (2019.12.20)\n",
            "Collecting tokenizers<0.11,>=0.10.1\n",
            "\u001b[?25l  Downloading https://files.pythonhosted.org/packages/d4/e2/df3543e8ffdab68f5acc73f613de9c2b155ac47f162e725dcac87c521c11/tokenizers-0.10.3-cp37-cp37m-manylinux_2_5_x86_64.manylinux1_x86_64.manylinux_2_12_x86_64.manylinux2010_x86_64.whl (3.3MB)\n",
            "\u001b[K     |████████████████████████████████| 3.3MB 29.3MB/s \n",
            "\u001b[?25hRequirement already satisfied: numpy>=1.17 in /usr/local/lib/python3.7/dist-packages (from transformers) (1.19.5)\n",
            "Requirement already satisfied: tqdm>=4.27 in /usr/local/lib/python3.7/dist-packages (from transformers) (4.41.1)\n",
            "Requirement already satisfied: importlib-metadata; python_version < \"3.8\" in /usr/local/lib/python3.7/dist-packages (from transformers) (4.5.0)\n",
            "Requirement already satisfied: pyyaml in /usr/local/lib/python3.7/dist-packages (from transformers) (3.13)\n",
            "Requirement already satisfied: pyparsing>=2.0.2 in /usr/local/lib/python3.7/dist-packages (from packaging->transformers) (2.4.7)\n",
            "Requirement already satisfied: chardet<4,>=3.0.2 in /usr/local/lib/python3.7/dist-packages (from requests->transformers) (3.0.4)\n",
            "Requirement already satisfied: certifi>=2017.4.17 in /usr/local/lib/python3.7/dist-packages (from requests->transformers) (2021.5.30)\n",
            "Requirement already satisfied: urllib3!=1.25.0,!=1.25.1,<1.26,>=1.21.1 in /usr/local/lib/python3.7/dist-packages (from requests->transformers) (1.24.3)\n",
            "Requirement already satisfied: idna<3,>=2.5 in /usr/local/lib/python3.7/dist-packages (from requests->transformers) (2.10)\n",
            "Requirement already satisfied: typing-extensions in /usr/local/lib/python3.7/dist-packages (from huggingface-hub==0.0.12->transformers) (3.7.4.3)\n",
            "Requirement already satisfied: joblib in /usr/local/lib/python3.7/dist-packages (from sacremoses->transformers) (1.0.1)\n",
            "Requirement already satisfied: click in /usr/local/lib/python3.7/dist-packages (from sacremoses->transformers) (7.1.2)\n",
            "Requirement already satisfied: six in /usr/local/lib/python3.7/dist-packages (from sacremoses->transformers) (1.15.0)\n",
            "Requirement already satisfied: zipp>=0.5 in /usr/local/lib/python3.7/dist-packages (from importlib-metadata; python_version < \"3.8\"->transformers) (3.4.1)\n",
            "Installing collected packages: huggingface-hub, sacremoses, tokenizers, transformers\n",
            "Successfully installed huggingface-hub-0.0.12 sacremoses-0.0.45 tokenizers-0.10.3 transformers-4.8.2\n"
          ],
          "name": "stdout"
        }
      ]
    },
    {
      "cell_type": "code",
      "metadata": {
        "colab": {
          "base_uri": "https://localhost:8080/"
        },
        "id": "1_bypKNoAQsC",
        "outputId": "901030c7-69ac-44bb-caeb-79332ed9cd0b"
      },
      "source": [
        "pip install tensorflow"
      ],
      "execution_count": null,
      "outputs": [
        {
          "output_type": "stream",
          "text": [
            "Requirement already satisfied: tensorflow in /usr/local/lib/python3.7/dist-packages (2.5.0)\n",
            "Requirement already satisfied: astunparse~=1.6.3 in /usr/local/lib/python3.7/dist-packages (from tensorflow) (1.6.3)\n",
            "Requirement already satisfied: h5py~=3.1.0 in /usr/local/lib/python3.7/dist-packages (from tensorflow) (3.1.0)\n",
            "Requirement already satisfied: six~=1.15.0 in /usr/local/lib/python3.7/dist-packages (from tensorflow) (1.15.0)\n",
            "Requirement already satisfied: flatbuffers~=1.12.0 in /usr/local/lib/python3.7/dist-packages (from tensorflow) (1.12)\n",
            "Requirement already satisfied: keras-nightly~=2.5.0.dev in /usr/local/lib/python3.7/dist-packages (from tensorflow) (2.5.0.dev2021032900)\n",
            "Requirement already satisfied: google-pasta~=0.2 in /usr/local/lib/python3.7/dist-packages (from tensorflow) (0.2.0)\n",
            "Requirement already satisfied: wrapt~=1.12.1 in /usr/local/lib/python3.7/dist-packages (from tensorflow) (1.12.1)\n",
            "Requirement already satisfied: termcolor~=1.1.0 in /usr/local/lib/python3.7/dist-packages (from tensorflow) (1.1.0)\n",
            "Requirement already satisfied: gast==0.4.0 in /usr/local/lib/python3.7/dist-packages (from tensorflow) (0.4.0)\n",
            "Requirement already satisfied: typing-extensions~=3.7.4 in /usr/local/lib/python3.7/dist-packages (from tensorflow) (3.7.4.3)\n",
            "Requirement already satisfied: numpy~=1.19.2 in /usr/local/lib/python3.7/dist-packages (from tensorflow) (1.19.5)\n",
            "Requirement already satisfied: keras-preprocessing~=1.1.2 in /usr/local/lib/python3.7/dist-packages (from tensorflow) (1.1.2)\n",
            "Requirement already satisfied: tensorboard~=2.5 in /usr/local/lib/python3.7/dist-packages (from tensorflow) (2.5.0)\n",
            "Requirement already satisfied: absl-py~=0.10 in /usr/local/lib/python3.7/dist-packages (from tensorflow) (0.12.0)\n",
            "Requirement already satisfied: grpcio~=1.34.0 in /usr/local/lib/python3.7/dist-packages (from tensorflow) (1.34.1)\n",
            "Requirement already satisfied: opt-einsum~=3.3.0 in /usr/local/lib/python3.7/dist-packages (from tensorflow) (3.3.0)\n",
            "Requirement already satisfied: protobuf>=3.9.2 in /usr/local/lib/python3.7/dist-packages (from tensorflow) (3.12.4)\n",
            "Requirement already satisfied: tensorflow-estimator<2.6.0,>=2.5.0rc0 in /usr/local/lib/python3.7/dist-packages (from tensorflow) (2.5.0)\n",
            "Requirement already satisfied: wheel~=0.35 in /usr/local/lib/python3.7/dist-packages (from tensorflow) (0.36.2)\n",
            "Requirement already satisfied: cached-property; python_version < \"3.8\" in /usr/local/lib/python3.7/dist-packages (from h5py~=3.1.0->tensorflow) (1.5.2)\n",
            "Requirement already satisfied: google-auth<2,>=1.6.3 in /usr/local/lib/python3.7/dist-packages (from tensorboard~=2.5->tensorflow) (1.31.0)\n",
            "Requirement already satisfied: tensorboard-data-server<0.7.0,>=0.6.0 in /usr/local/lib/python3.7/dist-packages (from tensorboard~=2.5->tensorflow) (0.6.1)\n",
            "Requirement already satisfied: setuptools>=41.0.0 in /usr/local/lib/python3.7/dist-packages (from tensorboard~=2.5->tensorflow) (57.0.0)\n",
            "Requirement already satisfied: google-auth-oauthlib<0.5,>=0.4.1 in /usr/local/lib/python3.7/dist-packages (from tensorboard~=2.5->tensorflow) (0.4.4)\n",
            "Requirement already satisfied: werkzeug>=0.11.15 in /usr/local/lib/python3.7/dist-packages (from tensorboard~=2.5->tensorflow) (1.0.1)\n",
            "Requirement already satisfied: markdown>=2.6.8 in /usr/local/lib/python3.7/dist-packages (from tensorboard~=2.5->tensorflow) (3.3.4)\n",
            "Requirement already satisfied: tensorboard-plugin-wit>=1.6.0 in /usr/local/lib/python3.7/dist-packages (from tensorboard~=2.5->tensorflow) (1.8.0)\n",
            "Requirement already satisfied: requests<3,>=2.21.0 in /usr/local/lib/python3.7/dist-packages (from tensorboard~=2.5->tensorflow) (2.23.0)\n",
            "Requirement already satisfied: pyasn1-modules>=0.2.1 in /usr/local/lib/python3.7/dist-packages (from google-auth<2,>=1.6.3->tensorboard~=2.5->tensorflow) (0.2.8)\n",
            "Requirement already satisfied: cachetools<5.0,>=2.0.0 in /usr/local/lib/python3.7/dist-packages (from google-auth<2,>=1.6.3->tensorboard~=2.5->tensorflow) (4.2.2)\n",
            "Requirement already satisfied: rsa<5,>=3.1.4; python_version >= \"3.6\" in /usr/local/lib/python3.7/dist-packages (from google-auth<2,>=1.6.3->tensorboard~=2.5->tensorflow) (4.7.2)\n",
            "Requirement already satisfied: requests-oauthlib>=0.7.0 in /usr/local/lib/python3.7/dist-packages (from google-auth-oauthlib<0.5,>=0.4.1->tensorboard~=2.5->tensorflow) (1.3.0)\n",
            "Requirement already satisfied: importlib-metadata; python_version < \"3.8\" in /usr/local/lib/python3.7/dist-packages (from markdown>=2.6.8->tensorboard~=2.5->tensorflow) (4.5.0)\n",
            "Requirement already satisfied: certifi>=2017.4.17 in /usr/local/lib/python3.7/dist-packages (from requests<3,>=2.21.0->tensorboard~=2.5->tensorflow) (2021.5.30)\n",
            "Requirement already satisfied: urllib3!=1.25.0,!=1.25.1,<1.26,>=1.21.1 in /usr/local/lib/python3.7/dist-packages (from requests<3,>=2.21.0->tensorboard~=2.5->tensorflow) (1.24.3)\n",
            "Requirement already satisfied: idna<3,>=2.5 in /usr/local/lib/python3.7/dist-packages (from requests<3,>=2.21.0->tensorboard~=2.5->tensorflow) (2.10)\n",
            "Requirement already satisfied: chardet<4,>=3.0.2 in /usr/local/lib/python3.7/dist-packages (from requests<3,>=2.21.0->tensorboard~=2.5->tensorflow) (3.0.4)\n",
            "Requirement already satisfied: pyasn1<0.5.0,>=0.4.6 in /usr/local/lib/python3.7/dist-packages (from pyasn1-modules>=0.2.1->google-auth<2,>=1.6.3->tensorboard~=2.5->tensorflow) (0.4.8)\n",
            "Requirement already satisfied: oauthlib>=3.0.0 in /usr/local/lib/python3.7/dist-packages (from requests-oauthlib>=0.7.0->google-auth-oauthlib<0.5,>=0.4.1->tensorboard~=2.5->tensorflow) (3.1.1)\n",
            "Requirement already satisfied: zipp>=0.5 in /usr/local/lib/python3.7/dist-packages (from importlib-metadata; python_version < \"3.8\"->markdown>=2.6.8->tensorboard~=2.5->tensorflow) (3.4.1)\n"
          ],
          "name": "stdout"
        }
      ]
    },
    {
      "cell_type": "code",
      "metadata": {
        "colab": {
          "base_uri": "https://localhost:8080/"
        },
        "id": "rpUqytluNnfX",
        "outputId": "7baa02dc-1a3a-4a73-f125-ec8a4ea9526a"
      },
      "source": [
        "! pip install datasets transformers seqeval"
      ],
      "execution_count": null,
      "outputs": [
        {
          "output_type": "stream",
          "text": [
            "Collecting datasets\n",
            "\u001b[?25l  Downloading https://files.pythonhosted.org/packages/08/a2/d4e1024c891506e1cee8f9d719d20831bac31cb5b7416983c4d2f65a6287/datasets-1.8.0-py3-none-any.whl (237kB)\n",
            "\u001b[K     |████████████████████████████████| 245kB 24.8MB/s \n",
            "\u001b[?25hRequirement already satisfied: transformers in /usr/local/lib/python3.7/dist-packages (4.8.2)\n",
            "Collecting seqeval\n",
            "\u001b[?25l  Downloading https://files.pythonhosted.org/packages/9d/2d/233c79d5b4e5ab1dbf111242299153f3caddddbb691219f363ad55ce783d/seqeval-1.2.2.tar.gz (43kB)\n",
            "\u001b[K     |████████████████████████████████| 51kB 6.4MB/s \n",
            "\u001b[?25hRequirement already satisfied: multiprocess in /usr/local/lib/python3.7/dist-packages (from datasets) (0.70.12.2)\n",
            "Requirement already satisfied: pandas in /usr/local/lib/python3.7/dist-packages (from datasets) (1.1.5)\n",
            "Collecting fsspec\n",
            "\u001b[?25l  Downloading https://files.pythonhosted.org/packages/0e/3a/666e63625a19883ae8e1674099e631f9737bd5478c4790e5ad49c5ac5261/fsspec-2021.6.1-py3-none-any.whl (115kB)\n",
            "\u001b[K     |████████████████████████████████| 122kB 45.0MB/s \n",
            "\u001b[?25hRequirement already satisfied: requests>=2.19.0 in /usr/local/lib/python3.7/dist-packages (from datasets) (2.23.0)\n",
            "Requirement already satisfied: huggingface-hub<0.1.0 in /usr/local/lib/python3.7/dist-packages (from datasets) (0.0.12)\n",
            "Requirement already satisfied: tqdm<4.50.0,>=4.27 in /usr/local/lib/python3.7/dist-packages (from datasets) (4.41.1)\n",
            "Requirement already satisfied: pyarrow<4.0.0,>=1.0.0 in /usr/local/lib/python3.7/dist-packages (from datasets) (3.0.0)\n",
            "Requirement already satisfied: dill in /usr/local/lib/python3.7/dist-packages (from datasets) (0.3.4)\n",
            "Collecting xxhash\n",
            "\u001b[?25l  Downloading https://files.pythonhosted.org/packages/7d/4f/0a862cad26aa2ed7a7cd87178cbbfa824fc1383e472d63596a0d018374e7/xxhash-2.0.2-cp37-cp37m-manylinux2010_x86_64.whl (243kB)\n",
            "\u001b[K     |████████████████████████████████| 245kB 50.1MB/s \n",
            "\u001b[?25hRequirement already satisfied: numpy>=1.17 in /usr/local/lib/python3.7/dist-packages (from datasets) (1.19.5)\n",
            "Requirement already satisfied: packaging in /usr/local/lib/python3.7/dist-packages (from datasets) (20.9)\n",
            "Requirement already satisfied: importlib-metadata; python_version < \"3.8\" in /usr/local/lib/python3.7/dist-packages (from datasets) (4.5.0)\n",
            "Requirement already satisfied: regex!=2019.12.17 in /usr/local/lib/python3.7/dist-packages (from transformers) (2019.12.20)\n",
            "Requirement already satisfied: sacremoses in /usr/local/lib/python3.7/dist-packages (from transformers) (0.0.45)\n",
            "Requirement already satisfied: filelock in /usr/local/lib/python3.7/dist-packages (from transformers) (3.0.12)\n",
            "Requirement already satisfied: tokenizers<0.11,>=0.10.1 in /usr/local/lib/python3.7/dist-packages (from transformers) (0.10.3)\n",
            "Requirement already satisfied: pyyaml in /usr/local/lib/python3.7/dist-packages (from transformers) (3.13)\n",
            "Requirement already satisfied: scikit-learn>=0.21.3 in /usr/local/lib/python3.7/dist-packages (from seqeval) (0.22.2.post1)\n",
            "Requirement already satisfied: pytz>=2017.2 in /usr/local/lib/python3.7/dist-packages (from pandas->datasets) (2018.9)\n",
            "Requirement already satisfied: python-dateutil>=2.7.3 in /usr/local/lib/python3.7/dist-packages (from pandas->datasets) (2.8.1)\n",
            "Requirement already satisfied: idna<3,>=2.5 in /usr/local/lib/python3.7/dist-packages (from requests>=2.19.0->datasets) (2.10)\n",
            "Requirement already satisfied: chardet<4,>=3.0.2 in /usr/local/lib/python3.7/dist-packages (from requests>=2.19.0->datasets) (3.0.4)\n",
            "Requirement already satisfied: certifi>=2017.4.17 in /usr/local/lib/python3.7/dist-packages (from requests>=2.19.0->datasets) (2021.5.30)\n",
            "Requirement already satisfied: urllib3!=1.25.0,!=1.25.1,<1.26,>=1.21.1 in /usr/local/lib/python3.7/dist-packages (from requests>=2.19.0->datasets) (1.24.3)\n",
            "Requirement already satisfied: typing-extensions in /usr/local/lib/python3.7/dist-packages (from huggingface-hub<0.1.0->datasets) (3.7.4.3)\n",
            "Requirement already satisfied: pyparsing>=2.0.2 in /usr/local/lib/python3.7/dist-packages (from packaging->datasets) (2.4.7)\n",
            "Requirement already satisfied: zipp>=0.5 in /usr/local/lib/python3.7/dist-packages (from importlib-metadata; python_version < \"3.8\"->datasets) (3.4.1)\n",
            "Requirement already satisfied: six in /usr/local/lib/python3.7/dist-packages (from sacremoses->transformers) (1.15.0)\n",
            "Requirement already satisfied: joblib in /usr/local/lib/python3.7/dist-packages (from sacremoses->transformers) (1.0.1)\n",
            "Requirement already satisfied: click in /usr/local/lib/python3.7/dist-packages (from sacremoses->transformers) (7.1.2)\n",
            "Requirement already satisfied: scipy>=0.17.0 in /usr/local/lib/python3.7/dist-packages (from scikit-learn>=0.21.3->seqeval) (1.4.1)\n",
            "Building wheels for collected packages: seqeval\n",
            "  Building wheel for seqeval (setup.py) ... \u001b[?25l\u001b[?25hdone\n",
            "  Created wheel for seqeval: filename=seqeval-1.2.2-cp37-none-any.whl size=16184 sha256=acebad51eb1b5afce52fadda9d3e906dafbe275636817ba4c2b734e99a8eb3af\n",
            "  Stored in directory: /root/.cache/pip/wheels/52/df/1b/45d75646c37428f7e626214704a0e35bd3cfc32eda37e59e5f\n",
            "Successfully built seqeval\n",
            "Installing collected packages: fsspec, xxhash, datasets, seqeval\n",
            "Successfully installed datasets-1.8.0 fsspec-2021.6.1 seqeval-1.2.2 xxhash-2.0.2\n"
          ],
          "name": "stdout"
        }
      ]
    },
    {
      "cell_type": "code",
      "metadata": {
        "id": "r9abPQiUAUJc"
      },
      "source": [
        "import tensorflow as tf"
      ],
      "execution_count": null,
      "outputs": []
    },
    {
      "cell_type": "code",
      "metadata": {
        "colab": {
          "base_uri": "https://localhost:8080/"
        },
        "id": "s7DlNNeBMnNM",
        "outputId": "59306f92-2ea8-41bd-8ed9-b187419b4b98"
      },
      "source": [
        "from google.colab import drive\n",
        "drive.mount('/content/gdrive')"
      ],
      "execution_count": null,
      "outputs": [
        {
          "output_type": "stream",
          "text": [
            "Mounted at /content/gdrive\n"
          ],
          "name": "stdout"
        }
      ]
    },
    {
      "cell_type": "code",
      "metadata": {
        "id": "M67Vo9CmMpuu"
      },
      "source": [
        "path = \"/content/gdrive/My Drive/keras_model_ner/\""
      ],
      "execution_count": null,
      "outputs": []
    },
    {
      "cell_type": "code",
      "metadata": {
        "id": "q6yofMB-MuU4"
      },
      "source": [
        "import pickle\n",
        "pickle_in = open(path + 'tuplas_antecedentes_18_junio.pkl',\"rb\")\n",
        "sentences = pickle.load(pickle_in)"
      ],
      "execution_count": null,
      "outputs": []
    },
    {
      "cell_type": "code",
      "metadata": {
        "id": "rtwadNhXF7gR"
      },
      "source": [
        "palabras = []\n",
        "for k in sentences:\n",
        "  frases = []\n",
        "  for m in k:\n",
        "    frases.append(str(m[0]))\n",
        "  palabras.append(frases)"
      ],
      "execution_count": null,
      "outputs": []
    },
    {
      "cell_type": "code",
      "metadata": {
        "id": "4v8kllL8GOTQ"
      },
      "source": [
        "ner = []\n",
        "for k in sentences:\n",
        "  frases = []\n",
        "  for m in k:\n",
        "    frases.append(m[1])\n",
        "  ner.append(frases)"
      ],
      "execution_count": null,
      "outputs": []
    },
    {
      "cell_type": "code",
      "metadata": {
        "id": "PNnf1fxrBMnQ"
      },
      "source": [
        "dic = {'ner_tags': ner, 'tokens': palabras}"
      ],
      "execution_count": null,
      "outputs": []
    },
    {
      "cell_type": "code",
      "metadata": {
        "id": "kkG428pC5Fmo"
      },
      "source": [
        "import pandas as pd"
      ],
      "execution_count": null,
      "outputs": []
    },
    {
      "cell_type": "code",
      "metadata": {
        "id": "OY5J0vmOBmVU"
      },
      "source": [
        "df = pd.DataFrame.from_dict(dic)"
      ],
      "execution_count": null,
      "outputs": []
    },
    {
      "cell_type": "code",
      "metadata": {
        "colab": {
          "base_uri": "https://localhost:8080/",
          "height": 419
        },
        "id": "5Ral9BQd5HcM",
        "outputId": "b232edff-56b1-4b88-de43-c3c4edbbeb2e"
      },
      "source": [
        "df"
      ],
      "execution_count": null,
      "outputs": [
        {
          "output_type": "execute_result",
          "data": {
            "text/html": [
              "<div>\n",
              "<style scoped>\n",
              "    .dataframe tbody tr th:only-of-type {\n",
              "        vertical-align: middle;\n",
              "    }\n",
              "\n",
              "    .dataframe tbody tr th {\n",
              "        vertical-align: top;\n",
              "    }\n",
              "\n",
              "    .dataframe thead th {\n",
              "        text-align: right;\n",
              "    }\n",
              "</style>\n",
              "<table border=\"1\" class=\"dataframe\">\n",
              "  <thead>\n",
              "    <tr style=\"text-align: right;\">\n",
              "      <th></th>\n",
              "      <th>ner_tags</th>\n",
              "      <th>tokens</th>\n",
              "    </tr>\n",
              "  </thead>\n",
              "  <tbody>\n",
              "    <tr>\n",
              "      <th>0</th>\n",
              "      <td>[O, O, B-antecedentes, O, O, O, O]</td>\n",
              "      <td>[control, clinico, cefalea, solicito, mnp, fnp...</td>\n",
              "    </tr>\n",
              "    <tr>\n",
              "      <th>1</th>\n",
              "      <td>[O, O, O, O, B-antecedentes, O, O, O]</td>\n",
              "      <td>[control, clinico, dl, p, tbq, leve, sol, rutina]</td>\n",
              "    </tr>\n",
              "    <tr>\n",
              "      <th>2</th>\n",
              "      <td>[B-antecedentes, O, O, O, O, O, O, O, O, O, O,...</td>\n",
              "      <td>[hta, bajo, tx, mx, ok, registors, border, lin...</td>\n",
              "    </tr>\n",
              "    <tr>\n",
              "      <th>3</th>\n",
              "      <td>[O, O, O]</td>\n",
              "      <td>[paciente, que, consultando]</td>\n",
              "    </tr>\n",
              "    <tr>\n",
              "      <th>4</th>\n",
              "      <td>[O, O, O, O, O, O, O, O, O, O, O, O, O, O, O, ...</td>\n",
              "      <td>[dice, que, desde, 72, hs, despus, de, un, pre...</td>\n",
              "    </tr>\n",
              "    <tr>\n",
              "      <th>...</th>\n",
              "      <td>...</td>\n",
              "      <td>...</td>\n",
              "    </tr>\n",
              "    <tr>\n",
              "      <th>253572</th>\n",
              "      <td>[O, O, O, O, O, O, B-antecedentes, O, O, O, O,...</td>\n",
              "      <td>[infecciones, urinarias, a, repetición\\r\\r, \\r...</td>\n",
              "    </tr>\n",
              "    <tr>\n",
              "      <th>253573</th>\n",
              "      <td>[O, O, O, O, O, O, O, O, O]</td>\n",
              "      <td>[concurre, para, recetas, de, medicaciòn, anti...</td>\n",
              "    </tr>\n",
              "    <tr>\n",
              "      <th>253574</th>\n",
              "      <td>[O, O, O, O, O, O, O, O, O, O, O, O, O, O, O, ...</td>\n",
              "      <td>[hto, 35, hb, 10, 9g, dl, vcm, 76, 9, hcm, 24,...</td>\n",
              "    </tr>\n",
              "    <tr>\n",
              "      <th>253575</th>\n",
              "      <td>[O, O, O, O, B-antecedentes, B-antecedentes, O...</td>\n",
              "      <td>[ecg, rs, fc, 70, brd, hbai, sin, signos, de, ...</td>\n",
              "    </tr>\n",
              "    <tr>\n",
              "      <th>253576</th>\n",
              "      <td>[O, O, O, O, O, O, O, O, O, O, O, O, O, O, O, ...</td>\n",
              "      <td>[control, de, salud, \\r\\r, \\r\\r, desempleado\\r...</td>\n",
              "    </tr>\n",
              "  </tbody>\n",
              "</table>\n",
              "<p>253577 rows × 2 columns</p>\n",
              "</div>"
            ],
            "text/plain": [
              "                                                 ner_tags                                             tokens\n",
              "0                      [O, O, B-antecedentes, O, O, O, O]  [control, clinico, cefalea, solicito, mnp, fnp...\n",
              "1                   [O, O, O, O, B-antecedentes, O, O, O]  [control, clinico, dl, p, tbq, leve, sol, rutina]\n",
              "2       [B-antecedentes, O, O, O, O, O, O, O, O, O, O,...  [hta, bajo, tx, mx, ok, registors, border, lin...\n",
              "3                                               [O, O, O]                       [paciente, que, consultando]\n",
              "4       [O, O, O, O, O, O, O, O, O, O, O, O, O, O, O, ...  [dice, que, desde, 72, hs, despus, de, un, pre...\n",
              "...                                                   ...                                                ...\n",
              "253572  [O, O, O, O, O, O, B-antecedentes, O, O, O, O,...  [infecciones, urinarias, a, repetición\\r\\r, \\r...\n",
              "253573                        [O, O, O, O, O, O, O, O, O]  [concurre, para, recetas, de, medicaciòn, anti...\n",
              "253574  [O, O, O, O, O, O, O, O, O, O, O, O, O, O, O, ...  [hto, 35, hb, 10, 9g, dl, vcm, 76, 9, hcm, 24,...\n",
              "253575  [O, O, O, O, B-antecedentes, B-antecedentes, O...  [ecg, rs, fc, 70, brd, hbai, sin, signos, de, ...\n",
              "253576  [O, O, O, O, O, O, O, O, O, O, O, O, O, O, O, ...  [control, de, salud, \\r\\r, \\r\\r, desempleado\\r...\n",
              "\n",
              "[253577 rows x 2 columns]"
            ]
          },
          "metadata": {
            "tags": []
          },
          "execution_count": 13
        }
      ]
    },
    {
      "cell_type": "code",
      "metadata": {
        "id": "bS9jpTIIPDNl"
      },
      "source": [
        "labels_tag = []\n",
        "for x in ner:\n",
        "  for y in x:\n",
        "    labels_tag.append(y)\n",
        "dic = {}    \n",
        "for e, i in enumerate ( list (set (labels_tag))):\n",
        "  dic[i] = e"
      ],
      "execution_count": null,
      "outputs": []
    },
    {
      "cell_type": "code",
      "metadata": {
        "id": "Whzin3nQ5MaA"
      },
      "source": [
        "int_tag_list = []\n",
        "for x in ner:\n",
        "  int_tag =[]\n",
        "  for y in x:\n",
        "    int_tag.append (dic[y])\n",
        "  int_tag_list.append(int_tag)   "
      ],
      "execution_count": null,
      "outputs": []
    },
    {
      "cell_type": "code",
      "metadata": {
        "id": "syMQ1T485xaz"
      },
      "source": [
        "dic = {'ner_tags': int_tag_list, 'tokens': palabras}"
      ],
      "execution_count": null,
      "outputs": []
    },
    {
      "cell_type": "code",
      "metadata": {
        "id": "HHfLY9db51Wv"
      },
      "source": [
        "df = pd.DataFrame.from_dict(dic)"
      ],
      "execution_count": null,
      "outputs": []
    },
    {
      "cell_type": "code",
      "metadata": {
        "colab": {
          "base_uri": "https://localhost:8080/",
          "height": 204
        },
        "id": "dzfA5VIE53JZ",
        "outputId": "5df71bac-b3e7-4eda-9761-a1a0fc25ff32"
      },
      "source": [
        "df.head()"
      ],
      "execution_count": null,
      "outputs": [
        {
          "output_type": "execute_result",
          "data": {
            "text/html": [
              "<div>\n",
              "<style scoped>\n",
              "    .dataframe tbody tr th:only-of-type {\n",
              "        vertical-align: middle;\n",
              "    }\n",
              "\n",
              "    .dataframe tbody tr th {\n",
              "        vertical-align: top;\n",
              "    }\n",
              "\n",
              "    .dataframe thead th {\n",
              "        text-align: right;\n",
              "    }\n",
              "</style>\n",
              "<table border=\"1\" class=\"dataframe\">\n",
              "  <thead>\n",
              "    <tr style=\"text-align: right;\">\n",
              "      <th></th>\n",
              "      <th>ner_tags</th>\n",
              "      <th>tokens</th>\n",
              "    </tr>\n",
              "  </thead>\n",
              "  <tbody>\n",
              "    <tr>\n",
              "      <th>0</th>\n",
              "      <td>[0, 0, 2, 0, 0, 0, 0]</td>\n",
              "      <td>[control, clinico, cefalea, solicito, mnp, fnp...</td>\n",
              "    </tr>\n",
              "    <tr>\n",
              "      <th>1</th>\n",
              "      <td>[0, 0, 0, 0, 2, 0, 0, 0]</td>\n",
              "      <td>[control, clinico, dl, p, tbq, leve, sol, rutina]</td>\n",
              "    </tr>\n",
              "    <tr>\n",
              "      <th>2</th>\n",
              "      <td>[2, 0, 0, 0, 0, 0, 0, 0, 0, 0, 0, 0, 0, 0, 0, ...</td>\n",
              "      <td>[hta, bajo, tx, mx, ok, registors, border, lin...</td>\n",
              "    </tr>\n",
              "    <tr>\n",
              "      <th>3</th>\n",
              "      <td>[0, 0, 0]</td>\n",
              "      <td>[paciente, que, consultando]</td>\n",
              "    </tr>\n",
              "    <tr>\n",
              "      <th>4</th>\n",
              "      <td>[0, 0, 0, 0, 0, 0, 0, 0, 0, 0, 0, 0, 0, 0, 0, ...</td>\n",
              "      <td>[dice, que, desde, 72, hs, despus, de, un, pre...</td>\n",
              "    </tr>\n",
              "  </tbody>\n",
              "</table>\n",
              "</div>"
            ],
            "text/plain": [
              "                                            ner_tags                                             tokens\n",
              "0                              [0, 0, 2, 0, 0, 0, 0]  [control, clinico, cefalea, solicito, mnp, fnp...\n",
              "1                           [0, 0, 0, 0, 2, 0, 0, 0]  [control, clinico, dl, p, tbq, leve, sol, rutina]\n",
              "2  [2, 0, 0, 0, 0, 0, 0, 0, 0, 0, 0, 0, 0, 0, 0, ...  [hta, bajo, tx, mx, ok, registors, border, lin...\n",
              "3                                          [0, 0, 0]                       [paciente, que, consultando]\n",
              "4  [0, 0, 0, 0, 0, 0, 0, 0, 0, 0, 0, 0, 0, 0, 0, ...  [dice, que, desde, 72, hs, despus, de, un, pre..."
            ]
          },
          "metadata": {
            "tags": []
          },
          "execution_count": 18
        }
      ]
    },
    {
      "cell_type": "code",
      "metadata": {
        "id": "favrbeBU5_yx"
      },
      "source": [
        "from datasets import Dataset\n",
        "dataset = Dataset.from_pandas(df)"
      ],
      "execution_count": null,
      "outputs": []
    },
    {
      "cell_type": "code",
      "metadata": {
        "id": "xlrcBDQTNz3M"
      },
      "source": [
        "task = \"ner\" # Should be one of \"ner\", \"pos\" or \"chunk\"\n",
        "model_checkpoint = \"distilbert-base-multilingual-uncased\"\n",
        "batch_size = 16"
      ],
      "execution_count": null,
      "outputs": []
    },
    {
      "cell_type": "code",
      "metadata": {
        "colab": {
          "base_uri": "https://localhost:8080/",
          "height": 213,
          "referenced_widgets": [
            "e392f3bd95d14fe1a0ee9d12186a1997",
            "ddd3b23c928f4fd8a5e9ad15e105eb68",
            "28700ac02ddc412fab80133984f4c52d",
            "fd4e45c945e4415da16aa946efe40289",
            "1e89b1660e614796aa3bb2c9b88650e6",
            "14df568f433d4e8da316e6238ce6c1e6",
            "34c39ee449bf46109c3ace8cd69fb5bb",
            "5feff798230148dc928ebebe09bdc6cc",
            "ff2325078cf04843b6b7e4b5a0b6d8e0",
            "bd09a433f399450394810e7ddba8ec91",
            "af2866849f8b415183b273eb2f6fd0d4",
            "7929708f7b4245f5854af0a5718d9ea1",
            "b1f14d05b4e54d18bb962e7e1baca14f",
            "476a4fa94dca489fa5df7936f0d1bbe7",
            "fec03a97908c40e6b614a78fbfef6b90",
            "fd827656e4ca410bb9709d0803402d1f",
            "ab1de94c60e249568bd13de329b68b1c",
            "3a331ecf5324417da01b4e0a1f88143e",
            "b4c2d44be08d4c39a92d7160a37a41a1",
            "4619a09f1bea424493be4a17e0703f0e",
            "cbac996713154956af2d6e4e38090fc4",
            "1895a9cb272041b998702f3bcceab9cb",
            "e58ba5ba922e42f2992dc0408e493938",
            "0ec48f6a3a874d468d864e459ab51c7c",
            "8f63fbb32f5749cc80c4f6b7a52a7042",
            "b1be1007f7d2474d943b74c8bbf4022d",
            "672b3133b2fb4848aecd443df569e254",
            "48f1d3d90bd84f9ab3586a3096ef1a6b",
            "d7874fe78801480199b98e7070ef9470",
            "25962a01beb44ace912fc88686f5dd3b",
            "9e235c472db24a7ab45f358be66ee988",
            "46b778606c1048239d0746a9a17e3102"
          ]
        },
        "id": "amRl73jp5_qh",
        "outputId": "60408d08-5fb1-4569-f343-101d76779493"
      },
      "source": [
        "from transformers import AutoTokenizer\n",
        "    \n",
        "tokenizer = AutoTokenizer.from_pretrained(model_checkpoint)"
      ],
      "execution_count": null,
      "outputs": [
        {
          "output_type": "display_data",
          "data": {
            "application/vnd.jupyter.widget-view+json": {
              "model_id": "e392f3bd95d14fe1a0ee9d12186a1997",
              "version_major": 2,
              "version_minor": 0
            },
            "text/plain": [
              "HBox(children=(FloatProgress(value=0.0, description='Downloading', max=28.0, style=ProgressStyle(description_w…"
            ]
          },
          "metadata": {
            "tags": []
          }
        },
        {
          "output_type": "stream",
          "text": [
            "\n"
          ],
          "name": "stdout"
        },
        {
          "output_type": "display_data",
          "data": {
            "application/vnd.jupyter.widget-view+json": {
              "model_id": "ff2325078cf04843b6b7e4b5a0b6d8e0",
              "version_major": 2,
              "version_minor": 0
            },
            "text/plain": [
              "HBox(children=(FloatProgress(value=0.0, description='Downloading', max=442.0, style=ProgressStyle(description_…"
            ]
          },
          "metadata": {
            "tags": []
          }
        },
        {
          "output_type": "stream",
          "text": [
            "\n"
          ],
          "name": "stdout"
        },
        {
          "output_type": "display_data",
          "data": {
            "application/vnd.jupyter.widget-view+json": {
              "model_id": "ab1de94c60e249568bd13de329b68b1c",
              "version_major": 2,
              "version_minor": 0
            },
            "text/plain": [
              "HBox(children=(FloatProgress(value=0.0, description='Downloading', max=231508.0, style=ProgressStyle(descripti…"
            ]
          },
          "metadata": {
            "tags": []
          }
        },
        {
          "output_type": "stream",
          "text": [
            "\n"
          ],
          "name": "stdout"
        },
        {
          "output_type": "display_data",
          "data": {
            "application/vnd.jupyter.widget-view+json": {
              "model_id": "8f63fbb32f5749cc80c4f6b7a52a7042",
              "version_major": 2,
              "version_minor": 0
            },
            "text/plain": [
              "HBox(children=(FloatProgress(value=0.0, description='Downloading', max=466062.0, style=ProgressStyle(descripti…"
            ]
          },
          "metadata": {
            "tags": []
          }
        },
        {
          "output_type": "stream",
          "text": [
            "\n"
          ],
          "name": "stdout"
        }
      ]
    },
    {
      "cell_type": "code",
      "metadata": {
        "id": "IzeK6W5sN0NQ"
      },
      "source": [
        "datasets = dataset.train_test_split(test_size=0.1)"
      ],
      "execution_count": null,
      "outputs": []
    },
    {
      "cell_type": "code",
      "metadata": {
        "colab": {
          "base_uri": "https://localhost:8080/"
        },
        "id": "d0WvrMwVONRi",
        "outputId": "4c94556a-04b3-47a7-bf23-1b4503962687"
      },
      "source": [
        "example = datasets[\"train\"][4]\n",
        "print(example[\"tokens\"])"
      ],
      "execution_count": null,
      "outputs": [
        {
          "output_type": "stream",
          "text": [
            "['asintomatico', 'ta', 'controlada', 'eco', 'bidi', 'ddvi', '43', 'dsvi', '24', 'siv', '9', '1', 'ppvi', '9', '1', 'ai', '44', 'raor', '38', 'fey', '65', 'fsvi', 'y', 'motilidad', 'parietal', 'normal', 'alteracion', 'de', 'la', 'relajacion']\n"
          ],
          "name": "stdout"
        }
      ]
    },
    {
      "cell_type": "code",
      "metadata": {
        "colab": {
          "base_uri": "https://localhost:8080/"
        },
        "id": "g0MXAFFqOTTc",
        "outputId": "1085c1e9-00d1-413d-bc27-0a5705bb2e8a"
      },
      "source": [
        "tokenized_input = tokenizer(example[\"tokens\"], is_split_into_words=True)\n",
        "tokens = tokenizer.convert_ids_to_tokens(tokenized_input[\"input_ids\"])\n",
        "print(tokens)"
      ],
      "execution_count": null,
      "outputs": [
        {
          "output_type": "stream",
          "text": [
            "['[CLS]', 'as', '##int', '##oma', '##tic', '##o', 'ta', 'control', '##ada', 'eco', 'bid', '##i', 'dd', '##vi', '43', 'ds', '##vi', '24', 'si', '##v', '9', '1', 'pp', '##vi', '9', '1', 'ai', '44', 'rao', '##r', '38', 'fey', '65', 'f', '##s', '##vi', 'y', 'mo', '##ti', '##lid', '##ad', 'par', '##ie', '##tal', 'normal', 'alter', '##acion', 'de', 'la', 're', '##la', '##ja', '##cion', '[SEP]']\n"
          ],
          "name": "stdout"
        }
      ]
    },
    {
      "cell_type": "code",
      "metadata": {
        "colab": {
          "base_uri": "https://localhost:8080/"
        },
        "id": "d1lKMOIaOYtL",
        "outputId": "2c8989cb-0d8f-4ecf-bdcb-fc3a35d8c86e"
      },
      "source": [
        "word_ids = tokenized_input.word_ids()\n",
        "aligned_labels = [-100 if i is None else example[f\"{task}_tags\"][i] for i in word_ids]\n",
        "print(aligned_labels) \n",
        "# len(tokenized_input[\"input_ids\"]))"
      ],
      "execution_count": null,
      "outputs": [
        {
          "output_type": "stream",
          "text": [
            "[-100, 0, 0, 0, 0, 0, 0, 0, 0, 0, 0, 0, 0, 0, 0, 0, 0, 0, 0, 0, 0, 0, 0, 0, 0, 0, 0, 0, 0, 0, 0, 0, 0, 0, 0, 0, 0, 0, 0, 0, 0, 0, 0, 0, 0, 0, 0, 0, 0, 0, 0, 0, 0, -100]\n"
          ],
          "name": "stdout"
        }
      ]
    },
    {
      "cell_type": "code",
      "metadata": {
        "id": "CfiikpHROf4f"
      },
      "source": [
        "label_all_tokens = True"
      ],
      "execution_count": null,
      "outputs": []
    },
    {
      "cell_type": "code",
      "metadata": {
        "id": "dUYlUzZEOiHh"
      },
      "source": [
        "def tokenize_and_align_labels(examples):\n",
        "    tokenized_inputs = tokenizer(examples[\"tokens\"], truncation=True, is_split_into_words=True)\n",
        "\n",
        "    labels = []\n",
        "    for i, label in enumerate(examples[f\"{task}_tags\"]):\n",
        "        word_ids = tokenized_inputs.word_ids(batch_index=i)\n",
        "        previous_word_idx = None\n",
        "        label_ids = []\n",
        "        for word_idx in word_ids:\n",
        "            # Special tokens have a word id that is None. We set the label to -100 so they are automatically\n",
        "            # ignored in the loss function.\n",
        "            if word_idx is None:\n",
        "                label_ids.append(-100)\n",
        "            # We set the label for the first token of each word.\n",
        "            elif word_idx != previous_word_idx:\n",
        "                label_ids.append(label[word_idx])\n",
        "            # For the other tokens in a word, we set the label to either the current label or -100, depending on\n",
        "            # the label_all_tokens flag.\n",
        "            else:\n",
        "                label_ids.append(label[word_idx] if label_all_tokens else -100)\n",
        "            previous_word_idx = word_idx\n",
        "\n",
        "        labels.append(label_ids)\n",
        "\n",
        "    tokenized_inputs[\"labels\"] = labels\n",
        "    return tokenized_inputs"
      ],
      "execution_count": null,
      "outputs": []
    },
    {
      "cell_type": "code",
      "metadata": {
        "colab": {
          "base_uri": "https://localhost:8080/"
        },
        "id": "rTBmvz5mOj-W",
        "outputId": "3713b28e-c14a-4c57-ef98-5e69b2e1e899"
      },
      "source": [
        "tokenize_and_align_labels(datasets['train'][:5])"
      ],
      "execution_count": null,
      "outputs": [
        {
          "output_type": "execute_result",
          "data": {
            "text/plain": [
              "{'input_ids': [[101, 14397, 25099, 3348, 2080, 10768, 3549, 5740, 4583, 1037, 29657, 2891, 15578, 3736, 5099, 8743, 6132, 2050, 1061, 22939, 20915, 5555, 4372, 23746, 2080, 9530, 8823, 3630, 4135, 2140, 1061, 4372, 7911, 18098, 4014, 23363, 2050, 11498, 14925, 2290, 12667, 15030, 10975, 1014, 2321, 25416, 21253, 14412, 23270, 21736, 2229, 8254, 2128, 2721, 10446, 9530, 9686, 11263, 2121, 6844, 27424, 11261, 2139, 9706, 8486, 10446, 1061, 2345, 21335, 10446, 7987, 2271, 3540, 14017, 28775, 3406, 12621, 2121, 102], [101, 17151, 15781, 102], [101, 14397, 25099, 2139, 4805, 1037, 29657, 2891, 8254, 2012, 2278, 6986, 12898, 12863, 2891, 2139, 12324, 2319, 7405, 2053, 7367, 16454, 10980, 2053, 9530, 17421, 2080, 2139, 21628, 22684, 6544, 1051, 19960, 5555, 10446, 2229, 21469, 2361, 23310, 2063, 24260, 6369, 2890, 10427, 8787, 3672, 2063, 28667, 25099, 3672, 2063, 2123, 2080, 6369, 2890, 5292, 3401, 2184, 22939, 2015, 11320, 20265, 2139, 8840, 12731, 2389, 2025, 2050, 18484, 2319, 9793, 2222, 8067, 29068, 2080, 9530, 10841, 14343, 1037, 2491, 2139, 16183, 6784, 102], [101, 14397, 25099, 10861, 11320, 20265, 2139, 27776, 22939, 2015, 2139, 12436, 3540, 10446, 2229, 2556, 2080, 9341, 4862, 25500, 2139, 10514, 3767, 7559, 2053, 16405, 3527, 2613, 21335, 22573, 9765, 21041, 2891, 1061, 6289, 6525, 7367, 4372, 10841, 4765, 2527, 29316, 8740, 2078, 4226, 102], [101, 2004, 18447, 9626, 4588, 2080, 11937, 2491, 8447, 17338, 7226, 2072, 20315, 5737, 4724, 16233, 5737, 2484, 9033, 2615, 1023, 1015, 4903, 5737, 1023, 1015, 9932, 4008, 10546, 2099, 4229, 23864, 3515, 1042, 2015, 5737, 1061, 9587, 3775, 21273, 4215, 11968, 2666, 9080, 3671, 11477, 21736, 2139, 2474, 2128, 2721, 3900, 10446, 102]], 'attention_mask': [[1, 1, 1, 1, 1, 1, 1, 1, 1, 1, 1, 1, 1, 1, 1, 1, 1, 1, 1, 1, 1, 1, 1, 1, 1, 1, 1, 1, 1, 1, 1, 1, 1, 1, 1, 1, 1, 1, 1, 1, 1, 1, 1, 1, 1, 1, 1, 1, 1, 1, 1, 1, 1, 1, 1, 1, 1, 1, 1, 1, 1, 1, 1, 1, 1, 1, 1, 1, 1, 1, 1, 1, 1, 1, 1, 1, 1, 1, 1], [1, 1, 1, 1], [1, 1, 1, 1, 1, 1, 1, 1, 1, 1, 1, 1, 1, 1, 1, 1, 1, 1, 1, 1, 1, 1, 1, 1, 1, 1, 1, 1, 1, 1, 1, 1, 1, 1, 1, 1, 1, 1, 1, 1, 1, 1, 1, 1, 1, 1, 1, 1, 1, 1, 1, 1, 1, 1, 1, 1, 1, 1, 1, 1, 1, 1, 1, 1, 1, 1, 1, 1, 1, 1, 1, 1, 1, 1, 1, 1, 1, 1, 1, 1, 1, 1, 1, 1], [1, 1, 1, 1, 1, 1, 1, 1, 1, 1, 1, 1, 1, 1, 1, 1, 1, 1, 1, 1, 1, 1, 1, 1, 1, 1, 1, 1, 1, 1, 1, 1, 1, 1, 1, 1, 1, 1, 1, 1, 1, 1, 1, 1, 1, 1], [1, 1, 1, 1, 1, 1, 1, 1, 1, 1, 1, 1, 1, 1, 1, 1, 1, 1, 1, 1, 1, 1, 1, 1, 1, 1, 1, 1, 1, 1, 1, 1, 1, 1, 1, 1, 1, 1, 1, 1, 1, 1, 1, 1, 1, 1, 1, 1, 1, 1, 1, 1, 1, 1]], 'labels': [[-100, 0, 0, 0, 0, 0, 0, 0, 0, 0, 0, 0, 2, 2, 2, 2, 2, 2, 0, 2, 2, 2, 0, 0, 0, 0, 0, 0, 0, 0, 0, 0, 0, 0, 0, 0, 0, 0, 0, 0, 0, 0, 0, 0, 0, 0, 0, 2, 2, 2, 2, 0, 0, 0, 0, 0, 0, 0, 0, 0, 0, 0, 0, 0, 0, 0, 0, 0, 0, 0, 0, 0, 0, 0, 0, 0, 0, 0, -100], [-100, 0, 0, -100], [-100, 0, 0, 0, 0, 0, 0, 0, 0, 0, 0, 0, 0, 0, 0, 0, 0, 0, 0, 0, 0, 0, 0, 0, 0, 0, 0, 0, 0, 0, 0, 0, 0, 0, 0, 0, 2, 2, 0, 0, 0, 0, 0, 0, 0, 0, 0, 0, 0, 0, 0, 0, 0, 0, 0, 0, 0, 0, 0, 0, 0, 0, 0, 0, 0, 0, 0, 0, 0, 0, 0, 0, 0, 0, 0, 0, 0, 0, 0, 0, 0, 0, 0, -100], [-100, 0, 0, 0, 0, 0, 0, 0, 0, 0, 0, 0, 0, 0, 0, 0, 0, 0, 0, 0, 0, 0, 0, 0, 0, 0, 0, 0, 0, 0, 0, 0, 0, 0, 0, 0, 0, 0, 0, 0, 0, 0, 0, 0, 0, -100], [-100, 0, 0, 0, 0, 0, 0, 0, 0, 0, 0, 0, 0, 0, 0, 0, 0, 0, 0, 0, 0, 0, 0, 0, 0, 0, 0, 0, 0, 0, 0, 0, 0, 0, 0, 0, 0, 0, 0, 0, 0, 0, 0, 0, 0, 0, 0, 0, 0, 0, 0, 0, 0, -100]]}"
            ]
          },
          "metadata": {
            "tags": []
          },
          "execution_count": 28
        }
      ]
    },
    {
      "cell_type": "code",
      "metadata": {
        "colab": {
          "base_uri": "https://localhost:8080/",
          "height": 115,
          "referenced_widgets": [
            "39cec2ed754b441d82162fbf41893a22",
            "ea88878a08bb4bacae28bf4e774cdd77",
            "61fd8e04a19948a383bb9fa367f62727",
            "f8c85e498c064e57a4b470a2bacf791f",
            "9f636b8872ab484aa71e460e93ec53b6",
            "cc2f138e84214c8e84166db5effec18c",
            "37aeb2a522594fd89eaebeeb28de2f5c",
            "00d59f59f03e48b59ee4bf7c7e6524fc",
            "dbd12254e2804f9ea96c967233b0e285",
            "182efafab0c6402f9be19578f3dc61ac",
            "af3b3057bd274a93b216dfe1faf723ec",
            "4c04829b018d43a6888eed3f9caec933",
            "8cfabcf095744e9bbb0d0fbb273f090b",
            "73fc647136b2473c862a02f7b0dd1474",
            "93972038eb654e0e8c9e413fac23140e",
            "21920c3b85f44fac9798eb85454fc373"
          ]
        },
        "id": "ZedwEqX1OlqX",
        "outputId": "19df3f77-6ef1-4364-f864-8974603d352a"
      },
      "source": [
        "tokenized_datasets = datasets.map(tokenize_and_align_labels, batched=True)"
      ],
      "execution_count": null,
      "outputs": [
        {
          "output_type": "display_data",
          "data": {
            "application/vnd.jupyter.widget-view+json": {
              "model_id": "39cec2ed754b441d82162fbf41893a22",
              "version_major": 2,
              "version_minor": 0
            },
            "text/plain": [
              "HBox(children=(FloatProgress(value=0.0, max=229.0), HTML(value='')))"
            ]
          },
          "metadata": {
            "tags": []
          }
        },
        {
          "output_type": "stream",
          "text": [
            "\n"
          ],
          "name": "stdout"
        },
        {
          "output_type": "display_data",
          "data": {
            "application/vnd.jupyter.widget-view+json": {
              "model_id": "dbd12254e2804f9ea96c967233b0e285",
              "version_major": 2,
              "version_minor": 0
            },
            "text/plain": [
              "HBox(children=(FloatProgress(value=0.0, max=26.0), HTML(value='')))"
            ]
          },
          "metadata": {
            "tags": []
          }
        },
        {
          "output_type": "stream",
          "text": [
            "\n"
          ],
          "name": "stdout"
        }
      ]
    },
    {
      "cell_type": "code",
      "metadata": {
        "id": "S9mrlCPBDWRX"
      },
      "source": [
        "# model2.save_pretrained(path_tf)"
      ],
      "execution_count": null,
      "outputs": []
    },
    {
      "cell_type": "code",
      "metadata": {
        "colab": {
          "base_uri": "https://localhost:8080/",
          "height": 817,
          "referenced_widgets": [
            "db34e11fc01f4f6788bbaedaf17b1397",
            "e81839e614194cbe832ec4314c58a93c",
            "d2272b112ace43a682e27676e67512a2",
            "0185a946b552433b8cb305241908fe5c",
            "371aad576a514432b3f69efe5d17e810",
            "d07e868b4a684039b5d61d91af17d738",
            "a9f0bb9a153e4298b5e31947fbfee2f0",
            "516a59b92bcd46c8b0738fe5554ef3dd"
          ]
        },
        "id": "UG8zezyKOoip",
        "outputId": "e2b7012a-41a3-4b96-c130-77b704b1f834"
      },
      "source": [
        "from transformers import TFDistilBertForTokenClassification, AutoConfig, AutoModelForTokenClassification,  TrainingArguments, Trainer\n",
        "\n",
        "model = AutoModelForTokenClassification.from_pretrained(model_checkpoint, num_labels=3)"
      ],
      "execution_count": null,
      "outputs": [
        {
          "output_type": "stream",
          "text": [
            "loading configuration file https://huggingface.co/distilbert-base-uncased/resolve/main/config.json from cache at /root/.cache/huggingface/transformers/23454919702d26495337f3da04d1655c7ee010d5ec9d77bdb9e399e00302c0a1.d423bdf2f58dc8b77d5f5d18028d7ae4a72dcfd8f468e81fe979ada957a8c361\n",
            "Model config DistilBertConfig {\n",
            "  \"activation\": \"gelu\",\n",
            "  \"architectures\": [\n",
            "    \"DistilBertForMaskedLM\"\n",
            "  ],\n",
            "  \"attention_dropout\": 0.1,\n",
            "  \"dim\": 768,\n",
            "  \"dropout\": 0.1,\n",
            "  \"hidden_dim\": 3072,\n",
            "  \"id2label\": {\n",
            "    \"0\": \"LABEL_0\",\n",
            "    \"1\": \"LABEL_1\",\n",
            "    \"2\": \"LABEL_2\"\n",
            "  },\n",
            "  \"initializer_range\": 0.02,\n",
            "  \"label2id\": {\n",
            "    \"LABEL_0\": 0,\n",
            "    \"LABEL_1\": 1,\n",
            "    \"LABEL_2\": 2\n",
            "  },\n",
            "  \"max_position_embeddings\": 512,\n",
            "  \"model_type\": \"distilbert\",\n",
            "  \"n_heads\": 12,\n",
            "  \"n_layers\": 6,\n",
            "  \"pad_token_id\": 0,\n",
            "  \"qa_dropout\": 0.1,\n",
            "  \"seq_classif_dropout\": 0.2,\n",
            "  \"sinusoidal_pos_embds\": false,\n",
            "  \"tie_weights_\": true,\n",
            "  \"transformers_version\": \"4.8.2\",\n",
            "  \"vocab_size\": 30522\n",
            "}\n",
            "\n",
            "https://huggingface.co/distilbert-base-uncased/resolve/main/pytorch_model.bin not found in cache or force_download set to True, downloading to /root/.cache/huggingface/transformers/tmpguqtxgwv\n"
          ],
          "name": "stderr"
        },
        {
          "output_type": "display_data",
          "data": {
            "application/vnd.jupyter.widget-view+json": {
              "model_id": "db34e11fc01f4f6788bbaedaf17b1397",
              "version_major": 2,
              "version_minor": 0
            },
            "text/plain": [
              "HBox(children=(FloatProgress(value=0.0, description='Downloading', max=267967963.0, style=ProgressStyle(descri…"
            ]
          },
          "metadata": {
            "tags": []
          }
        },
        {
          "output_type": "stream",
          "text": [
            "storing https://huggingface.co/distilbert-base-uncased/resolve/main/pytorch_model.bin in cache at /root/.cache/huggingface/transformers/9c169103d7e5a73936dd2b627e42851bec0831212b677c637033ee4bce9ab5ee.126183e36667471617ae2f0835fab707baa54b731f991507ebbb55ea85adb12a\n",
            "creating metadata file for /root/.cache/huggingface/transformers/9c169103d7e5a73936dd2b627e42851bec0831212b677c637033ee4bce9ab5ee.126183e36667471617ae2f0835fab707baa54b731f991507ebbb55ea85adb12a\n",
            "loading weights file https://huggingface.co/distilbert-base-uncased/resolve/main/pytorch_model.bin from cache at /root/.cache/huggingface/transformers/9c169103d7e5a73936dd2b627e42851bec0831212b677c637033ee4bce9ab5ee.126183e36667471617ae2f0835fab707baa54b731f991507ebbb55ea85adb12a\n"
          ],
          "name": "stderr"
        },
        {
          "output_type": "stream",
          "text": [
            "\n"
          ],
          "name": "stdout"
        },
        {
          "output_type": "stream",
          "text": [
            "Some weights of the model checkpoint at distilbert-base-uncased were not used when initializing DistilBertForTokenClassification: ['vocab_layer_norm.weight', 'vocab_projector.weight', 'vocab_layer_norm.bias', 'vocab_transform.weight', 'vocab_projector.bias', 'vocab_transform.bias']\n",
            "- This IS expected if you are initializing DistilBertForTokenClassification from the checkpoint of a model trained on another task or with another architecture (e.g. initializing a BertForSequenceClassification model from a BertForPreTraining model).\n",
            "- This IS NOT expected if you are initializing DistilBertForTokenClassification from the checkpoint of a model that you expect to be exactly identical (initializing a BertForSequenceClassification model from a BertForSequenceClassification model).\n",
            "Some weights of DistilBertForTokenClassification were not initialized from the model checkpoint at distilbert-base-uncased and are newly initialized: ['classifier.bias', 'classifier.weight']\n",
            "You should probably TRAIN this model on a down-stream task to be able to use it for predictions and inference.\n"
          ],
          "name": "stderr"
        }
      ]
    },
    {
      "cell_type": "code",
      "metadata": {
        "colab": {
          "base_uri": "https://localhost:8080/"
        },
        "id": "DksfJoMZOw-Y",
        "outputId": "7b13d0a1-32c1-4242-f628-49ea40f57d18"
      },
      "source": [
        "args = TrainingArguments(\n",
        "    f\"test-{task}\",\n",
        "    evaluation_strategy = \"epoch\",\n",
        "    learning_rate=2e-5,\n",
        "    per_device_train_batch_size=batch_size,\n",
        "    per_device_eval_batch_size=batch_size,\n",
        "    num_train_epochs=1,\n",
        "    weight_decay=0.01,\n",
        ")"
      ],
      "execution_count": null,
      "outputs": [
        {
          "output_type": "stream",
          "text": [
            "PyTorch: setting up devices\n",
            "The default value for the training argument `--report_to` will change in v5 (from all installed integrations to none). In v5, you will need to use `--report_to all` to get the same behavior as now. You should start updating your code and make this info disappear :-).\n"
          ],
          "name": "stderr"
        }
      ]
    },
    {
      "cell_type": "code",
      "metadata": {
        "id": "BHT4iZk9O0mY"
      },
      "source": [
        "from transformers import DataCollatorForTokenClassification\n",
        "\n",
        "data_collator = DataCollatorForTokenClassification(tokenizer)"
      ],
      "execution_count": null,
      "outputs": []
    },
    {
      "cell_type": "code",
      "metadata": {
        "id": "6GYNPwchPizB"
      },
      "source": [
        "from datasets import load_dataset, load_metric"
      ],
      "execution_count": null,
      "outputs": []
    },
    {
      "cell_type": "code",
      "metadata": {
        "id": "s4NZOF5OPmV3"
      },
      "source": [
        "metric = load_metric(\"seqeval\")"
      ],
      "execution_count": null,
      "outputs": []
    },
    {
      "cell_type": "code",
      "metadata": {
        "id": "f3GIh3SV0VOv"
      },
      "source": [
        "label_list = ['O', 'B-antecedentes', 'I-antecedentes']"
      ],
      "execution_count": null,
      "outputs": []
    },
    {
      "cell_type": "code",
      "metadata": {
        "id": "iwJpUkKuP1hU"
      },
      "source": [
        "import numpy as np\n",
        "\n",
        "def compute_metrics(p):\n",
        "    predictions, labels = p\n",
        "    predictions = np.argmax(predictions, axis=2)\n",
        "\n",
        "    # Remove ignored index (special tokens)\n",
        "    true_predictions = [\n",
        "        [label_list[p] for (p, l) in zip(prediction, label) if l != -100]\n",
        "        for prediction, label in zip(predictions, labels)\n",
        "    ]\n",
        "    true_labels = [\n",
        "        [label_list[l] for (p, l) in zip(prediction, label) if l != -100]\n",
        "        for prediction, label in zip(predictions, labels)\n",
        "    ]\n",
        "\n",
        "    results = metric.compute(predictions=true_predictions, references=true_labels)\n",
        "    return {\n",
        "        \"precision\": results[\"overall_precision\"],\n",
        "        \"recall\": results[\"overall_recall\"],\n",
        "        \"f1\": results[\"overall_f1\"],\n",
        "        \"accuracy\": results[\"overall_accuracy\"],\n",
        "    }"
      ],
      "execution_count": null,
      "outputs": []
    },
    {
      "cell_type": "code",
      "metadata": {
        "id": "gvLS7OI3QBU9"
      },
      "source": [
        "trainer = Trainer(\n",
        "    model,\n",
        "    args,\n",
        "    train_dataset=tokenized_datasets[\"train\"],\n",
        "    eval_dataset=tokenized_datasets[\"test\"],\n",
        "    data_collator=data_collator,\n",
        "    tokenizer=tokenizer,\n",
        ")"
      ],
      "execution_count": null,
      "outputs": []
    },
    {
      "cell_type": "code",
      "metadata": {
        "colab": {
          "base_uri": "https://localhost:8080/",
          "height": 1000
        },
        "id": "b-EbHKZ6QI6V",
        "outputId": "53457ee9-7e3a-4ed6-d2e7-cc5bb7172ede"
      },
      "source": [
        "trainer.train()"
      ],
      "execution_count": null,
      "outputs": [
        {
          "output_type": "stream",
          "text": [
            "The following columns in the training set  don't have a corresponding argument in `DistilBertForTokenClassification.forward` and have been ignored: ner_tags, tokens.\n",
            "***** Running training *****\n",
            "  Num examples = 228219\n",
            "  Num Epochs = 1\n",
            "  Instantaneous batch size per device = 16\n",
            "  Total train batch size (w. parallel, distributed & accumulation) = 16\n",
            "  Gradient Accumulation steps = 1\n",
            "  Total optimization steps = 14264\n"
          ],
          "name": "stderr"
        },
        {
          "output_type": "display_data",
          "data": {
            "text/html": [
              "\n",
              "    <div>\n",
              "      \n",
              "      <progress value='14264' max='14264' style='width:300px; height:20px; vertical-align: middle;'></progress>\n",
              "      [14264/14264 36:54, Epoch 1/1]\n",
              "    </div>\n",
              "    <table border=\"1\" class=\"dataframe\">\n",
              "  <thead>\n",
              "    <tr style=\"text-align: left;\">\n",
              "      <th>Epoch</th>\n",
              "      <th>Training Loss</th>\n",
              "      <th>Validation Loss</th>\n",
              "    </tr>\n",
              "  </thead>\n",
              "  <tbody>\n",
              "    <tr>\n",
              "      <td>1</td>\n",
              "      <td>0.005100</td>\n",
              "      <td>0.005455</td>\n",
              "    </tr>\n",
              "  </tbody>\n",
              "</table><p>"
            ],
            "text/plain": [
              "<IPython.core.display.HTML object>"
            ]
          },
          "metadata": {
            "tags": []
          }
        },
        {
          "output_type": "stream",
          "text": [
            "Saving model checkpoint to test-ner/checkpoint-500\n",
            "Configuration saved in test-ner/checkpoint-500/config.json\n",
            "Model weights saved in test-ner/checkpoint-500/pytorch_model.bin\n",
            "tokenizer config file saved in test-ner/checkpoint-500/tokenizer_config.json\n",
            "Special tokens file saved in test-ner/checkpoint-500/special_tokens_map.json\n",
            "Saving model checkpoint to test-ner/checkpoint-1000\n",
            "Configuration saved in test-ner/checkpoint-1000/config.json\n",
            "Model weights saved in test-ner/checkpoint-1000/pytorch_model.bin\n",
            "tokenizer config file saved in test-ner/checkpoint-1000/tokenizer_config.json\n",
            "Special tokens file saved in test-ner/checkpoint-1000/special_tokens_map.json\n",
            "Saving model checkpoint to test-ner/checkpoint-1500\n",
            "Configuration saved in test-ner/checkpoint-1500/config.json\n",
            "Model weights saved in test-ner/checkpoint-1500/pytorch_model.bin\n",
            "tokenizer config file saved in test-ner/checkpoint-1500/tokenizer_config.json\n",
            "Special tokens file saved in test-ner/checkpoint-1500/special_tokens_map.json\n",
            "Saving model checkpoint to test-ner/checkpoint-2000\n",
            "Configuration saved in test-ner/checkpoint-2000/config.json\n",
            "Model weights saved in test-ner/checkpoint-2000/pytorch_model.bin\n",
            "tokenizer config file saved in test-ner/checkpoint-2000/tokenizer_config.json\n",
            "Special tokens file saved in test-ner/checkpoint-2000/special_tokens_map.json\n",
            "Saving model checkpoint to test-ner/checkpoint-2500\n",
            "Configuration saved in test-ner/checkpoint-2500/config.json\n",
            "Model weights saved in test-ner/checkpoint-2500/pytorch_model.bin\n",
            "tokenizer config file saved in test-ner/checkpoint-2500/tokenizer_config.json\n",
            "Special tokens file saved in test-ner/checkpoint-2500/special_tokens_map.json\n",
            "Saving model checkpoint to test-ner/checkpoint-3000\n",
            "Configuration saved in test-ner/checkpoint-3000/config.json\n",
            "Model weights saved in test-ner/checkpoint-3000/pytorch_model.bin\n",
            "tokenizer config file saved in test-ner/checkpoint-3000/tokenizer_config.json\n",
            "Special tokens file saved in test-ner/checkpoint-3000/special_tokens_map.json\n",
            "Saving model checkpoint to test-ner/checkpoint-3500\n",
            "Configuration saved in test-ner/checkpoint-3500/config.json\n",
            "Model weights saved in test-ner/checkpoint-3500/pytorch_model.bin\n",
            "tokenizer config file saved in test-ner/checkpoint-3500/tokenizer_config.json\n",
            "Special tokens file saved in test-ner/checkpoint-3500/special_tokens_map.json\n",
            "Saving model checkpoint to test-ner/checkpoint-4000\n",
            "Configuration saved in test-ner/checkpoint-4000/config.json\n",
            "Model weights saved in test-ner/checkpoint-4000/pytorch_model.bin\n",
            "tokenizer config file saved in test-ner/checkpoint-4000/tokenizer_config.json\n",
            "Special tokens file saved in test-ner/checkpoint-4000/special_tokens_map.json\n",
            "Saving model checkpoint to test-ner/checkpoint-4500\n",
            "Configuration saved in test-ner/checkpoint-4500/config.json\n",
            "Model weights saved in test-ner/checkpoint-4500/pytorch_model.bin\n",
            "tokenizer config file saved in test-ner/checkpoint-4500/tokenizer_config.json\n",
            "Special tokens file saved in test-ner/checkpoint-4500/special_tokens_map.json\n",
            "Saving model checkpoint to test-ner/checkpoint-5000\n",
            "Configuration saved in test-ner/checkpoint-5000/config.json\n",
            "Model weights saved in test-ner/checkpoint-5000/pytorch_model.bin\n",
            "tokenizer config file saved in test-ner/checkpoint-5000/tokenizer_config.json\n",
            "Special tokens file saved in test-ner/checkpoint-5000/special_tokens_map.json\n",
            "Saving model checkpoint to test-ner/checkpoint-5500\n",
            "Configuration saved in test-ner/checkpoint-5500/config.json\n",
            "Model weights saved in test-ner/checkpoint-5500/pytorch_model.bin\n",
            "tokenizer config file saved in test-ner/checkpoint-5500/tokenizer_config.json\n",
            "Special tokens file saved in test-ner/checkpoint-5500/special_tokens_map.json\n",
            "Saving model checkpoint to test-ner/checkpoint-6000\n",
            "Configuration saved in test-ner/checkpoint-6000/config.json\n",
            "Model weights saved in test-ner/checkpoint-6000/pytorch_model.bin\n",
            "tokenizer config file saved in test-ner/checkpoint-6000/tokenizer_config.json\n",
            "Special tokens file saved in test-ner/checkpoint-6000/special_tokens_map.json\n",
            "Saving model checkpoint to test-ner/checkpoint-6500\n",
            "Configuration saved in test-ner/checkpoint-6500/config.json\n",
            "Model weights saved in test-ner/checkpoint-6500/pytorch_model.bin\n",
            "tokenizer config file saved in test-ner/checkpoint-6500/tokenizer_config.json\n",
            "Special tokens file saved in test-ner/checkpoint-6500/special_tokens_map.json\n",
            "Saving model checkpoint to test-ner/checkpoint-7000\n",
            "Configuration saved in test-ner/checkpoint-7000/config.json\n",
            "Model weights saved in test-ner/checkpoint-7000/pytorch_model.bin\n",
            "tokenizer config file saved in test-ner/checkpoint-7000/tokenizer_config.json\n",
            "Special tokens file saved in test-ner/checkpoint-7000/special_tokens_map.json\n",
            "Saving model checkpoint to test-ner/checkpoint-7500\n",
            "Configuration saved in test-ner/checkpoint-7500/config.json\n",
            "Model weights saved in test-ner/checkpoint-7500/pytorch_model.bin\n",
            "tokenizer config file saved in test-ner/checkpoint-7500/tokenizer_config.json\n",
            "Special tokens file saved in test-ner/checkpoint-7500/special_tokens_map.json\n",
            "Saving model checkpoint to test-ner/checkpoint-8000\n",
            "Configuration saved in test-ner/checkpoint-8000/config.json\n",
            "Model weights saved in test-ner/checkpoint-8000/pytorch_model.bin\n",
            "tokenizer config file saved in test-ner/checkpoint-8000/tokenizer_config.json\n",
            "Special tokens file saved in test-ner/checkpoint-8000/special_tokens_map.json\n",
            "Saving model checkpoint to test-ner/checkpoint-8500\n",
            "Configuration saved in test-ner/checkpoint-8500/config.json\n",
            "Model weights saved in test-ner/checkpoint-8500/pytorch_model.bin\n",
            "tokenizer config file saved in test-ner/checkpoint-8500/tokenizer_config.json\n",
            "Special tokens file saved in test-ner/checkpoint-8500/special_tokens_map.json\n",
            "Saving model checkpoint to test-ner/checkpoint-9000\n",
            "Configuration saved in test-ner/checkpoint-9000/config.json\n",
            "Model weights saved in test-ner/checkpoint-9000/pytorch_model.bin\n",
            "tokenizer config file saved in test-ner/checkpoint-9000/tokenizer_config.json\n",
            "Special tokens file saved in test-ner/checkpoint-9000/special_tokens_map.json\n",
            "Saving model checkpoint to test-ner/checkpoint-9500\n",
            "Configuration saved in test-ner/checkpoint-9500/config.json\n",
            "Model weights saved in test-ner/checkpoint-9500/pytorch_model.bin\n",
            "tokenizer config file saved in test-ner/checkpoint-9500/tokenizer_config.json\n",
            "Special tokens file saved in test-ner/checkpoint-9500/special_tokens_map.json\n",
            "Saving model checkpoint to test-ner/checkpoint-10000\n",
            "Configuration saved in test-ner/checkpoint-10000/config.json\n",
            "Model weights saved in test-ner/checkpoint-10000/pytorch_model.bin\n",
            "tokenizer config file saved in test-ner/checkpoint-10000/tokenizer_config.json\n",
            "Special tokens file saved in test-ner/checkpoint-10000/special_tokens_map.json\n",
            "Saving model checkpoint to test-ner/checkpoint-10500\n",
            "Configuration saved in test-ner/checkpoint-10500/config.json\n",
            "Model weights saved in test-ner/checkpoint-10500/pytorch_model.bin\n",
            "tokenizer config file saved in test-ner/checkpoint-10500/tokenizer_config.json\n",
            "Special tokens file saved in test-ner/checkpoint-10500/special_tokens_map.json\n",
            "Saving model checkpoint to test-ner/checkpoint-11000\n",
            "Configuration saved in test-ner/checkpoint-11000/config.json\n",
            "Model weights saved in test-ner/checkpoint-11000/pytorch_model.bin\n",
            "tokenizer config file saved in test-ner/checkpoint-11000/tokenizer_config.json\n",
            "Special tokens file saved in test-ner/checkpoint-11000/special_tokens_map.json\n",
            "Saving model checkpoint to test-ner/checkpoint-11500\n",
            "Configuration saved in test-ner/checkpoint-11500/config.json\n",
            "Model weights saved in test-ner/checkpoint-11500/pytorch_model.bin\n",
            "tokenizer config file saved in test-ner/checkpoint-11500/tokenizer_config.json\n",
            "Special tokens file saved in test-ner/checkpoint-11500/special_tokens_map.json\n",
            "Saving model checkpoint to test-ner/checkpoint-12000\n",
            "Configuration saved in test-ner/checkpoint-12000/config.json\n",
            "Model weights saved in test-ner/checkpoint-12000/pytorch_model.bin\n",
            "tokenizer config file saved in test-ner/checkpoint-12000/tokenizer_config.json\n",
            "Special tokens file saved in test-ner/checkpoint-12000/special_tokens_map.json\n",
            "Saving model checkpoint to test-ner/checkpoint-12500\n",
            "Configuration saved in test-ner/checkpoint-12500/config.json\n",
            "Model weights saved in test-ner/checkpoint-12500/pytorch_model.bin\n",
            "tokenizer config file saved in test-ner/checkpoint-12500/tokenizer_config.json\n",
            "Special tokens file saved in test-ner/checkpoint-12500/special_tokens_map.json\n",
            "Saving model checkpoint to test-ner/checkpoint-13000\n",
            "Configuration saved in test-ner/checkpoint-13000/config.json\n",
            "Model weights saved in test-ner/checkpoint-13000/pytorch_model.bin\n",
            "tokenizer config file saved in test-ner/checkpoint-13000/tokenizer_config.json\n",
            "Special tokens file saved in test-ner/checkpoint-13000/special_tokens_map.json\n",
            "Saving model checkpoint to test-ner/checkpoint-13500\n",
            "Configuration saved in test-ner/checkpoint-13500/config.json\n",
            "Model weights saved in test-ner/checkpoint-13500/pytorch_model.bin\n",
            "tokenizer config file saved in test-ner/checkpoint-13500/tokenizer_config.json\n",
            "Special tokens file saved in test-ner/checkpoint-13500/special_tokens_map.json\n",
            "Saving model checkpoint to test-ner/checkpoint-14000\n",
            "Configuration saved in test-ner/checkpoint-14000/config.json\n",
            "Model weights saved in test-ner/checkpoint-14000/pytorch_model.bin\n",
            "tokenizer config file saved in test-ner/checkpoint-14000/tokenizer_config.json\n",
            "Special tokens file saved in test-ner/checkpoint-14000/special_tokens_map.json\n",
            "The following columns in the evaluation set  don't have a corresponding argument in `DistilBertForTokenClassification.forward` and have been ignored: ner_tags, tokens.\n",
            "***** Running Evaluation *****\n",
            "  Num examples = 25358\n",
            "  Batch size = 16\n",
            "\n",
            "\n",
            "Training completed. Do not forget to share your model on huggingface.co/models =)\n",
            "\n",
            "\n"
          ],
          "name": "stderr"
        },
        {
          "output_type": "execute_result",
          "data": {
            "text/plain": [
              "TrainOutput(global_step=14264, training_loss=0.013126678468134052, metrics={'train_runtime': 2214.6902, 'train_samples_per_second': 103.048, 'train_steps_per_second': 6.441, 'total_flos': 8219222623841922.0, 'train_loss': 0.013126678468134052, 'epoch': 1.0})"
            ]
          },
          "metadata": {
            "tags": []
          },
          "execution_count": 43
        }
      ]
    },
    {
      "cell_type": "code",
      "metadata": {
        "colab": {
          "base_uri": "https://localhost:8080/",
          "height": 210
        },
        "id": "wU1pgzupQLBT",
        "outputId": "fe6fa35b-44ed-406e-94cc-d0308b8e8dc9"
      },
      "source": [
        "trainer.evaluate()"
      ],
      "execution_count": null,
      "outputs": [
        {
          "output_type": "stream",
          "text": [
            "The following columns in the evaluation set  don't have a corresponding argument in `DistilBertForTokenClassification.forward` and have been ignored: ner_tags, tokens.\n",
            "***** Running Evaluation *****\n",
            "  Num examples = 25358\n",
            "  Batch size = 16\n"
          ],
          "name": "stderr"
        },
        {
          "output_type": "display_data",
          "data": {
            "text/html": [
              "\n",
              "    <div>\n",
              "      \n",
              "      <progress value='1585' max='1585' style='width:300px; height:20px; vertical-align: middle;'></progress>\n",
              "      [1585/1585 01:15]\n",
              "    </div>\n",
              "    "
            ],
            "text/plain": [
              "<IPython.core.display.HTML object>"
            ]
          },
          "metadata": {
            "tags": []
          }
        },
        {
          "output_type": "execute_result",
          "data": {
            "text/plain": [
              "{'epoch': 1.0,\n",
              " 'eval_loss': 0.005454836413264275,\n",
              " 'eval_runtime': 75.8124,\n",
              " 'eval_samples_per_second': 334.483,\n",
              " 'eval_steps_per_second': 20.907}"
            ]
          },
          "metadata": {
            "tags": []
          },
          "execution_count": 55
        }
      ]
    },
    {
      "cell_type": "code",
      "metadata": {
        "colab": {
          "base_uri": "https://localhost:8080/",
          "height": 261
        },
        "id": "5UUCPvOU9DTR",
        "outputId": "cfdc7b03-6a01-4dfe-dcf6-6cfb49ef95f0"
      },
      "source": [
        "import numpy as np\n",
        "predictions, labels, _ = trainer.predict(tokenized_datasets[\"test\"])\n",
        "predictions = np.argmax(predictions, axis=2)\n",
        "\n",
        "# Remove ignored index (special tokens)\n",
        "true_predictions = [\n",
        "    [label_list[p] for (p, l) in zip(prediction, label) if l != -100]\n",
        "    for prediction, label in zip(predictions, labels)\n",
        "]\n",
        "true_labels = [\n",
        "    [label_list[l] for (p, l) in zip(prediction, label) if l != -100]\n",
        "    for prediction, label in zip(predictions, labels)\n",
        "]\n",
        "\n",
        "results = metric.compute(predictions=true_predictions, references=true_labels)\n",
        "results"
      ],
      "execution_count": null,
      "outputs": [
        {
          "output_type": "stream",
          "text": [
            "The following columns in the test set  don't have a corresponding argument in `DistilBertForTokenClassification.forward` and have been ignored: ner_tags, tokens.\n",
            "***** Running Prediction *****\n",
            "  Num examples = 25358\n",
            "  Batch size = 16\n"
          ],
          "name": "stderr"
        },
        {
          "output_type": "display_data",
          "data": {
            "text/html": [
              "\n",
              "    <div>\n",
              "      \n",
              "      <progress value='4755' max='1585' style='width:300px; height:20px; vertical-align: middle;'></progress>\n",
              "      [1585/1585 05:10]\n",
              "    </div>\n",
              "    "
            ],
            "text/plain": [
              "<IPython.core.display.HTML object>"
            ]
          },
          "metadata": {
            "tags": []
          }
        },
        {
          "output_type": "execute_result",
          "data": {
            "text/plain": [
              "{'antecedentes': {'f1': 0.9990947397710359,\n",
              "  'number': 1049935,\n",
              "  'precision': 0.9995833766322912,\n",
              "  'recall': 0.9986065804073585},\n",
              " 'overall_accuracy': 0.9983559991352983,\n",
              " 'overall_f1': 0.9990947397710359,\n",
              " 'overall_precision': 0.9995833766322912,\n",
              " 'overall_recall': 0.9986065804073585}"
            ]
          },
          "metadata": {
            "tags": []
          },
          "execution_count": 57
        }
      ]
    },
    {
      "cell_type": "code",
      "metadata": {
        "id": "MDgm0basYbs5"
      },
      "source": [
        "path = \"/content/gdrive/My Drive/NER_HUGGINGFACE/\""
      ],
      "execution_count": null,
      "outputs": []
    },
    {
      "cell_type": "code",
      "metadata": {
        "colab": {
          "base_uri": "https://localhost:8080/"
        },
        "id": "DrB83812Ybs6",
        "outputId": "01be5eb1-e312-448b-da2f-470b666e13a5"
      },
      "source": [
        "trainer.save_model(path)"
      ],
      "execution_count": null,
      "outputs": [
        {
          "output_type": "stream",
          "text": [
            "Saving model checkpoint to /content/gdrive/My Drive/NER_HUGGINGFACE/\n",
            "Configuration saved in /content/gdrive/My Drive/NER_HUGGINGFACE/config.json\n",
            "Model weights saved in /content/gdrive/My Drive/NER_HUGGINGFACE/pytorch_model.bin\n",
            "tokenizer config file saved in /content/gdrive/My Drive/NER_HUGGINGFACE/tokenizer_config.json\n",
            "Special tokens file saved in /content/gdrive/My Drive/NER_HUGGINGFACE/special_tokens_map.json\n"
          ],
          "name": "stderr"
        }
      ]
    },
    {
      "cell_type": "code",
      "metadata": {
        "colab": {
          "base_uri": "https://localhost:8080/",
          "height": 374
        },
        "id": "Hnxe1mOb4ONX",
        "outputId": "def593f6-68f2-4cc0-b8e9-ec3f4c32235e"
      },
      "source": [
        "config = TFAutoModelForTokenClassification.from_pretrained(path)\n",
        "model2 = TFAutoModelForTokenClassification.from_config(config)"
      ],
      "execution_count": null,
      "outputs": [
        {
          "output_type": "error",
          "ename": "OSError",
          "evalue": "ignored",
          "traceback": [
            "\u001b[0;31m---------------------------------------------------------------------------\u001b[0m",
            "\u001b[0;31mOSError\u001b[0m                                   Traceback (most recent call last)",
            "\u001b[0;32m<ipython-input-24-46cd58f03735>\u001b[0m in \u001b[0;36m<module>\u001b[0;34m()\u001b[0m\n\u001b[0;32m----> 1\u001b[0;31m \u001b[0mconfig\u001b[0m \u001b[0;34m=\u001b[0m \u001b[0mTFAutoModelForTokenClassification\u001b[0m\u001b[0;34m.\u001b[0m\u001b[0mfrom_pretrained\u001b[0m\u001b[0;34m(\u001b[0m\u001b[0mpath\u001b[0m\u001b[0;34m)\u001b[0m\u001b[0;34m\u001b[0m\u001b[0;34m\u001b[0m\u001b[0m\n\u001b[0m\u001b[1;32m      2\u001b[0m \u001b[0mmodel2\u001b[0m \u001b[0;34m=\u001b[0m \u001b[0mTFAutoModelForTokenClassification\u001b[0m\u001b[0;34m.\u001b[0m\u001b[0mfrom_config\u001b[0m\u001b[0;34m(\u001b[0m\u001b[0mconfig\u001b[0m\u001b[0;34m)\u001b[0m\u001b[0;34m\u001b[0m\u001b[0;34m\u001b[0m\u001b[0m\n",
            "\u001b[0;32m/usr/local/lib/python3.7/dist-packages/transformers/models/auto/auto_factory.py\u001b[0m in \u001b[0;36mfrom_pretrained\u001b[0;34m(cls, pretrained_model_name_or_path, *model_args, **kwargs)\u001b[0m\n\u001b[1;32m    393\u001b[0m         \u001b[0;32mif\u001b[0m \u001b[0mtype\u001b[0m\u001b[0;34m(\u001b[0m\u001b[0mconfig\u001b[0m\u001b[0;34m)\u001b[0m \u001b[0;32min\u001b[0m \u001b[0mcls\u001b[0m\u001b[0;34m.\u001b[0m\u001b[0m_model_mapping\u001b[0m\u001b[0;34m.\u001b[0m\u001b[0mkeys\u001b[0m\u001b[0;34m(\u001b[0m\u001b[0;34m)\u001b[0m\u001b[0;34m:\u001b[0m\u001b[0;34m\u001b[0m\u001b[0;34m\u001b[0m\u001b[0m\n\u001b[1;32m    394\u001b[0m             \u001b[0mmodel_class\u001b[0m \u001b[0;34m=\u001b[0m \u001b[0m_get_model_class\u001b[0m\u001b[0;34m(\u001b[0m\u001b[0mconfig\u001b[0m\u001b[0;34m,\u001b[0m \u001b[0mcls\u001b[0m\u001b[0;34m.\u001b[0m\u001b[0m_model_mapping\u001b[0m\u001b[0;34m)\u001b[0m\u001b[0;34m\u001b[0m\u001b[0;34m\u001b[0m\u001b[0m\n\u001b[0;32m--> 395\u001b[0;31m             \u001b[0;32mreturn\u001b[0m \u001b[0mmodel_class\u001b[0m\u001b[0;34m.\u001b[0m\u001b[0mfrom_pretrained\u001b[0m\u001b[0;34m(\u001b[0m\u001b[0mpretrained_model_name_or_path\u001b[0m\u001b[0;34m,\u001b[0m \u001b[0;34m*\u001b[0m\u001b[0mmodel_args\u001b[0m\u001b[0;34m,\u001b[0m \u001b[0mconfig\u001b[0m\u001b[0;34m=\u001b[0m\u001b[0mconfig\u001b[0m\u001b[0;34m,\u001b[0m \u001b[0;34m**\u001b[0m\u001b[0mkwargs\u001b[0m\u001b[0;34m)\u001b[0m\u001b[0;34m\u001b[0m\u001b[0;34m\u001b[0m\u001b[0m\n\u001b[0m\u001b[1;32m    396\u001b[0m         raise ValueError(\n\u001b[1;32m    397\u001b[0m             \u001b[0;34mf\"Unrecognized configuration class {config.__class__} for this kind of AutoModel: {cls.__name__}.\\n\"\u001b[0m\u001b[0;34m\u001b[0m\u001b[0;34m\u001b[0m\u001b[0m\n",
            "\u001b[0;32m/usr/local/lib/python3.7/dist-packages/transformers/modeling_tf_utils.py\u001b[0m in \u001b[0;36mfrom_pretrained\u001b[0;34m(cls, pretrained_model_name_or_path, *model_args, **kwargs)\u001b[0m\n\u001b[1;32m   1232\u001b[0m                 \u001b[0;32melse\u001b[0m\u001b[0;34m:\u001b[0m\u001b[0;34m\u001b[0m\u001b[0;34m\u001b[0m\u001b[0m\n\u001b[1;32m   1233\u001b[0m                     raise EnvironmentError(\n\u001b[0;32m-> 1234\u001b[0;31m                         \u001b[0;34mf\"Error no file named {[WEIGHTS_NAME, TF2_WEIGHTS_NAME]} found in directory \"\u001b[0m\u001b[0;34m\u001b[0m\u001b[0;34m\u001b[0m\u001b[0m\n\u001b[0m\u001b[1;32m   1235\u001b[0m                         \u001b[0;34mf\"{pretrained_model_name_or_path} or `from_pt` set to False\"\u001b[0m\u001b[0;34m\u001b[0m\u001b[0;34m\u001b[0m\u001b[0m\n\u001b[1;32m   1236\u001b[0m                     )\n",
            "\u001b[0;31mOSError\u001b[0m: Error no file named ['pytorch_model.bin', 'tf_model.h5'] found in directory /content/gdrive/My Drive/NER_HUGGINGFACE/ or `from_pt` set to False"
          ]
        }
      ]
    },
    {
      "cell_type": "markdown",
      "metadata": {
        "id": "3vWcro6RNg72"
      },
      "source": [
        "# PREDICT"
      ]
    },
    {
      "cell_type": "code",
      "metadata": {
        "id": "akR46eisIxuE"
      },
      "source": [
        "test_sentence = \" '* HIPERTENSION ARTERIAL de más de 30 años de evolución. \\r\\r\\n* HIPERTROFIA VENTRICULAR IZQUIERDA. \\r\\r\\n* Esclerosis valvular aórtica, insuficiencia mitral leve. \\r\\r\\n* EXTRASISTOLIA VENTRICULAR ASILADA monofmorfa. \\r\\r\\n* GASTRITIS en 1999 (FEDA). \\r\\r\\n* HISTERECTOM-A TOTAL en 1968 por MIOMATOSIS UTERINA. \\r\\r\\n* CIRUG-A DE CADERA IZQUIERDA  (fractura) con colocación de placa de titanio en 1995. \\r\\r\\n* HIPOACUSIA PERCETPTIVA bilateral, OTOESCLEROSIS IZQUIERDA. \\r\\r\\n* Piel: Verrugas seborreicas en  mejillas , cuello. Manchas actinicas  en cara.  Seborrea del cuero cabelludo.\\r\\r\\n* Olvidos irrelevantes, fue medicada con memantine en dosis de 20 mg pero lo suspendió porque le daba cefaleas. Tiene una RM (atendida en FLENI) que no mostraba alteraciones relevantes. \\r\\r\\n* Medicación: AMLODIPINA 5 mg (Pelmec 5) diarios; SIMVASTATINA 10 mg (Labistatin) uno por día. No toma AAS por antecedentes de gastritis. \\r\\r\\n* DESCENSO DE 12 kg de PESO en 2008 por presunta DEPRESION (no la atendió ningún especialista y el cuadro no parece tan claro). Vive con su marido; dos hijos biológicos y 1 adoptivo (problemas de aprendizaje).\\r\\r\\n* CATARATAS BILATERALES. \\r\\r\\n* Doctora en filososfía. Ama de casa. Jubilada. Lee mucho. \\r\\r\\n* No alergias conocidas. \\r\\r\\n* No tabaco ni alcohol. refiere dlp y IAM. tiene cataratas y depresión, tiene HTA y FUMA\""
      ],
      "execution_count": null,
      "outputs": []
    },
    {
      "cell_type": "code",
      "metadata": {
        "id": "tJ9nBYSuCPJ1"
      },
      "source": [
        "test_sentence2 = \" '* HIPERTENSION ARTERIAL de más de 30 años de evolución. \\r\\r\\n* HIPERTROFIA VENTRICULAR IZQUIERDA. \\r\\r\\n* Esclerosis valvular aórtica, insuficiencia mitral leve. \\r\\r\\n* EXTRASISTOLIA VENTRICULAR ASILADA monofmorfa. \\r\\r\\n* GASTRITIS en 1999 (FEDA). \\r\\r\\n* HISTERECTOM-A TOTAL en 1968 por MIOMATOSIS UTERINA. \\r\\r\\n* CIRUG-A DE CADERA IZQUIERDA  (fractura) con colocación de placa de titanio en 1995. \\r\\r\\n* HIPOACUSIA PERCETPTIVA bilateral, OTOESCLEROSIS IZQUIERDA. \\r\\r\\n* Piel: Verrugas seborreicas en  mejillas , cuello. Manchas actinicas  en cara.  Seborrea del cuero cabelludo.\\r\\r\\n* Olvidos irrelevantes, fue medicada con memantine en dosis de 20 mg pero lo suspendió porque le daba cefaleas. Tiene una RM (atendida en FLENI) que no mostraba alteraciones relevantes. \\r\\r\\n* Medicación: AMLODIPINA 5 mg (Pelmec 5) diarios; SIMVASTATINA 10 mg (Labistatin) uno por día. No toma AAS por antecedentes de gastritis. \\r\\r\\n* DESCENSO DE 12 kg de PESO en 2008 por presunta DEPRESION (no la atendió ningún especialista y el cuadro no parece tan claro). Vive con su marido; dos hijos biológicos y 1 adoptivo (problemas de aprendizaje).\\r\\r\\n* CATARATAS BILATERALES. \\r\\r\\n* Doctora en filososfía. Ama de casa. Jubilada. Lee mucho. \\r\\r\\n* No alergias conocidas. \\r\\r\\n* No tabaco ni alcohol. refiere dlp y IAM. tiene cataratas y depresión, tiene HTA y FUMA\""
      ],
      "execution_count": null,
      "outputs": []
    },
    {
      "cell_type": "code",
      "metadata": {
        "id": "ljSaRuRpA2vr"
      },
      "source": [
        "tokenized_inputs = tokenizer(test_sentence2.split(), truncation=True, is_split_into_words=True)"
      ],
      "execution_count": null,
      "outputs": []
    },
    {
      "cell_type": "code",
      "metadata": {
        "colab": {
          "base_uri": "https://localhost:8080/",
          "height": 163
        },
        "id": "fxNsbz83EYDu",
        "outputId": "b4bea4fa-9a2c-4511-8da5-a29ff211cac7"
      },
      "source": [
        "tokenized_inputs"
      ],
      "execution_count": null,
      "outputs": [
        {
          "output_type": "error",
          "ename": "NameError",
          "evalue": "ignored",
          "traceback": [
            "\u001b[0;31m---------------------------------------------------------------------------\u001b[0m",
            "\u001b[0;31mNameError\u001b[0m                                 Traceback (most recent call last)",
            "\u001b[0;32m<ipython-input-103-87251ca4cae0>\u001b[0m in \u001b[0;36m<module>\u001b[0;34m()\u001b[0m\n\u001b[0;32m----> 1\u001b[0;31m \u001b[0mtokenized_inputs\u001b[0m\u001b[0;34m\u001b[0m\u001b[0;34m\u001b[0m\u001b[0m\n\u001b[0m",
            "\u001b[0;31mNameError\u001b[0m: name 'tokenized_inputs' is not defined"
          ]
        }
      ]
    },
    {
      "cell_type": "code",
      "metadata": {
        "id": "Gw7OcMWfG3ZR"
      },
      "source": [
        "dic = {'input_ids': [tokenized_inputs.input_ids]}"
      ],
      "execution_count": null,
      "outputs": []
    },
    {
      "cell_type": "code",
      "metadata": {
        "id": "2uX7AC8ZU8u5"
      },
      "source": [
        "dataset2 = Dataset.from_dict(dic)"
      ],
      "execution_count": null,
      "outputs": []
    },
    {
      "cell_type": "code",
      "metadata": {
        "colab": {
          "base_uri": "https://localhost:8080/",
          "height": 363
        },
        "id": "z6F7Kod_9l5H",
        "outputId": "829b2ae1-3860-44d4-89ac-2f11d60e1c66"
      },
      "source": [
        "predictions, labels, _ = trainer.predict(dataset2)\n",
        "predictions = np.argmax(predictions, axis=2)\n",
        "\n",
        "tokens = tokenizer.convert_ids_to_tokens(tokenized_inputs[\"input_ids\"])\n",
        "mensaje_original = tokenizer.convert_tokens_to_string(tokens)\n",
        "print(\"NER Tags:\", predictions[0])\n",
        "print(\"Tokens:\",tokens)\n",
        "print(\"Mensaje original:\",mensaje_original)"
      ],
      "execution_count": null,
      "outputs": [
        {
          "output_type": "stream",
          "text": [
            "***** Running Prediction *****\n",
            "  Num examples = 1\n",
            "  Batch size = 16\n"
          ],
          "name": "stderr"
        },
        {
          "output_type": "display_data",
          "data": {
            "text/html": [
              "\n",
              "    <div>\n",
              "      \n",
              "      <progress value='4790' max='1585' style='width:300px; height:20px; vertical-align: middle;'></progress>\n",
              "      [1585/1585 5:43:04]\n",
              "    </div>\n",
              "    "
            ],
            "text/plain": [
              "<IPython.core.display.HTML object>"
            ]
          },
          "metadata": {
            "tags": []
          }
        },
        {
          "output_type": "stream",
          "text": [
            "NER Tags: [1 1 1 0 0 0 0 2 1 1 1 1 1 1 1 1 1 1 1 1 1 0 0 0 0 2 2 2 1 1 1 1 1 1 1 0 0\n",
            " 0 1 1 1 1 1 1 1 0 0 0 0 2 2 1 1 1 1 0 0 0 2 2 2 1 1 1 1 1 1 1 1 1 0 0 0 1\n",
            " 1 1 1 1 1 1 1 1 1 1 1 1 1 1 1 1 1 0 0 0 1 1 1 1 1 1 1 1 1 1 1 1 1 1 1 1 1\n",
            " 0 0 0 0 1 1 1 1 1 0 0 1 1 1 1 1 1 1 0 0 0 0 1 1 1 1 1 1 1 1 1 1 1 1 1 1 1\n",
            " 1 1 1 1 1 1 1 1 1 1 1 1 1 1 1 1 1 1 1 1 1 1 1 1 1 1 1 1 1 1 1 1 1 1 1 1 1\n",
            " 1 1 1 1 1 1 1 1 1 1 1 1 1 1 1 1 1 1 1 1 1 1 1 1 1 1 1 1 1 1 1 1 1 1 1 1 1\n",
            " 1 0 0 0 0 1 1 1 1 1 1 1 1 1 1 1 1 1 1 1 1 1 1 1 1 1 1 1 1 1 1 1 1 1 1 1 1\n",
            " 1 1 1 1 1 1 1 1 1 1 1 1 1 1 1 1 1 1 1 1 1 1 1 1 1 1 1 1 1 1 1 1 1 1 1 1 1\n",
            " 1 1 0 0 0 0 1 1 1 1 1 1 1 1 1 1 1 1 1 1 1 1 0 0 0 1 1 1 1 1 1 1 1 1 1 1 1\n",
            " 1 1 1 1 1 1 1 1 1 1 1 1 1 1 1 1 1 1 1 1 1 1 1 1 1 1 1 1 1 1 1 1 1 1 1 1 1\n",
            " 1 1 1 1 1 0 0 0 1 1 1 1 1 1 1 1 1 1 1 1 1 1 1 1 1 1 1 1 1 1 1 1 1 1 1 1 1\n",
            " 1 1 1 1 1 1 1 1 1 1 1 1 1 1 0 0 1 0 0 1 1 1 0 0 0 1 0 0 0 1 1 1 0 0 1 1 1\n",
            " 1]\n",
            "Tokens: ['[CLS]', \"'\", '*', 'hip', '##ert', '##ens', '##ion', 'arterial', 'de', 'mas', 'de', '30', 'an', '##os', 'de', 'ev', '##ol', '##uc', '##ion', '.', '*', 'hip', '##ert', '##ro', '##fia', 'vent', '##ric', '##ular', 'i', '##z', '##qui', '##er', '##da', '.', '*', 'es', '##cle', '##rosis', 'val', '##vu', '##lar', 'ao', '##rti', '##ca', ',', 'ins', '##uf', '##ici', '##encia', 'mit', '##ral', 'lev', '##e', '.', '*', 'extras', '##isto', '##lia', 'vent', '##ric', '##ular', 'as', '##ila', '##da', 'mono', '##fm', '##orf', '##a', '.', '*', 'gas', '##tri', '##tis', 'en', '1999', '(', 'fed', '##a', ')', '.', '*', 'his', '##ter', '##ect', '##om', '-', 'a', 'total', 'en', '1968', 'por', 'mi', '##oma', '##tosis', 'ut', '##erina', '.', '*', 'ci', '##rug', '-', 'a', 'de', 'cade', '##ra', 'i', '##z', '##qui', '##er', '##da', '(', 'fra', '##ct', '##ura', ')', 'con', 'col', '##oca', '##cion', 'de', 'pl', '##aca', 'de', 'titan', '##io', 'en', '1995', '.', '*', 'hip', '##oa', '##cus', '##ia', 'per', '##ce', '##tp', '##tiv', '##a', 'bilateral', ',', 'ot', '##oes', '##cle', '##rosis', 'i', '##z', '##qui', '##er', '##da', '.', '*', 'pie', '##l', ':', 've', '##rr', '##uga', '##s', 'se', '##bor', '##re', '##ica', '##s', 'en', 'me', '##ji', '##llas', ',', 'cue', '##llo', '.', 'man', '##cha', '##s', 'act', '##ini', '##cas', 'en', 'cara', '.', 'se', '##bor', '##rea', 'del', 'cue', '##ro', 'cab', '##ell', '##ud', '##o', '.', '*', 'ol', '##vid', '##os', 'irrelevant', '##es', ',', 'fu', '##e', 'med', '##ica', '##da', 'con', 'me', '##man', '##tine', 'en', 'dos', '##is', 'de', '20', 'mg', 'per', '##o', 'lo', 'suspend', '##io', 'por', '##que', 'le', 'da', '##ba', 'ce', '##fa', '##lea', '##s', '.', 'tie', '##ne', 'una', 'rm', '(', 'ate', '##ndi', '##da', 'en', 'fl', '##eni', ')', 'que', 'no', 'most', '##ra', '##ba', 'alter', '##acion', '##es', 'relevant', '##es', '.', '*', 'med', '##ica', '##cion', ':', 'am', '##lo', '##di', '##pina', '5', 'mg', '(', 'pe', '##lm', '##ec', '5', ')', 'dia', '##rio', '##s', ';', 'sim', '##vas', '##tat', '##ina', '10', 'mg', '(', 'lab', '##ista', '##tin', ')', 'uno', 'por', 'dia', '.', 'no', 'tom', '##a', 'aa', '##s', 'por', 'ant', '##ece', '##dent', '##es', 'de', 'gas', '##tri', '##tis', '.', '*', 'des', '##cens', '##o', 'de', '12', 'kg', 'de', 'pe', '##so', 'en', '2008', 'por', 'pre', '##sun', '##ta', 'de', '##pres', '##ion', '(', 'no', 'la', 'ate', '##ndi', '##o', 'ni', '##ng', '##un', 'es', '##pe', '##cial', '##ista', 'y', 'el', 'cu', '##ad', '##ro', 'no', 'par', '##ece', 'tan', 'cl', '##aro', ')', '.', 'vi', '##ve', 'con', 'su', 'mari', '##do', ';', 'dos', 'hi', '##jos', 'bio', '##logic', '##os', 'y', '1', 'adopt', '##ivo', '(', 'problem', '##as', 'de', 'apr', '##end', '##iza', '##je', ')', '.', '*', 'cat', '##arat', '##as', 'bilateral', '##es', '.', '*', 'doctor', '##a', 'en', 'fi', '##los', '##os', '##fia', '.', 'ama', 'de', 'casa', '.', 'ju', '##bil', '##ada', '.', 'lee', 'much', '##o', '.', '*', 'no', 'ale', '##rg', '##ias', 'con', '##oc', '##ida', '##s', '.', '*', 'no', 'tab', '##aco', 'ni', 'alcohol', '.', 'ref', '##iere', 'dl', '##p', 'y', 'ia', '##m', '.', 'tie', '##ne', 'cat', '##arat', '##as', 'y', 'de', '##pres', '##ion', ',', 'tie', '##ne', 'h', '##ta', 'y', 'fu', '##ma', '[SEP]']\n",
            "Mensaje original: [CLS]'* hipertension arterial de mas de 30 anos de evolucion. * hipertrofia ventricular izquierda. * esclerosis valvular aortica, insuficiencia mitral leve. * extrasistolia ventricular asilada monofmorfa. * gastritis en 1999 ( feda ). * histerectom - a total en 1968 por miomatosis uterina. * cirug - a de cadera izquierda ( fractura ) con colocacion de placa de titanio en 1995. * hipoacusia percetptiva bilateral, otoesclerosis izquierda. * piel : verrugas seborreicas en mejillas, cuello. manchas actinicas en cara. seborrea del cuero cabelludo. * olvidos irrelevantes, fue medicada con memantine en dosis de 20 mg pero lo suspendio porque le daba cefaleas. tiene una rm ( atendida en fleni ) que no mostraba alteraciones relevantes. * medicacion : amlodipina 5 mg ( pelmec 5 ) diarios ; simvastatina 10 mg ( labistatin ) uno por dia. no toma aas por antecedentes de gastritis. * descenso de 12 kg de peso en 2008 por presunta depresion ( no la atendio ningun especialista y el cuadro no parece tan claro ). vive con su marido ; dos hijos biologicos y 1 adoptivo ( problemas de aprendizaje ). * cataratas bilaterales. * doctora en filososfia. ama de casa. jubilada. lee mucho. * no alergias conocidas. * no tabaco ni alcohol. refiere dlp y iam. tiene cataratas y depresion, tiene hta y fuma [SEP]\n"
          ],
          "name": "stdout"
        }
      ]
    },
    {
      "cell_type": "markdown",
      "metadata": {
        "id": "rk200rDVI8qz"
      },
      "source": [
        "# LOAD MODEL"
      ]
    },
    {
      "cell_type": "code",
      "metadata": {
        "id": "Z3RX8VyGJMxn"
      },
      "source": [
        "from transformers import TFDistilBertForTokenClassification, AutoTokenizer"
      ],
      "execution_count": null,
      "outputs": []
    },
    {
      "cell_type": "code",
      "metadata": {
        "id": "Z5L8YcnoJCxp"
      },
      "source": [
        "model_checkpoint = \"distilbert-base-uncased\""
      ],
      "execution_count": null,
      "outputs": []
    },
    {
      "cell_type": "code",
      "metadata": {
        "colab": {
          "base_uri": "https://localhost:8080/"
        },
        "id": "IN54ysVXJCiu",
        "outputId": "2689e94b-b432-4c42-ea85-ca44653b2341"
      },
      "source": [
        "tokenizer = AutoTokenizer.from_pretrained(model_checkpoint)"
      ],
      "execution_count": null,
      "outputs": [
        {
          "output_type": "stream",
          "text": [
            "loading configuration file https://huggingface.co/distilbert-base-uncased/resolve/main/config.json from cache at /root/.cache/huggingface/transformers/23454919702d26495337f3da04d1655c7ee010d5ec9d77bdb9e399e00302c0a1.d423bdf2f58dc8b77d5f5d18028d7ae4a72dcfd8f468e81fe979ada957a8c361\n",
            "Model config DistilBertConfig {\n",
            "  \"activation\": \"gelu\",\n",
            "  \"architectures\": [\n",
            "    \"DistilBertForMaskedLM\"\n",
            "  ],\n",
            "  \"attention_dropout\": 0.1,\n",
            "  \"dim\": 768,\n",
            "  \"dropout\": 0.1,\n",
            "  \"hidden_dim\": 3072,\n",
            "  \"initializer_range\": 0.02,\n",
            "  \"max_position_embeddings\": 512,\n",
            "  \"model_type\": \"distilbert\",\n",
            "  \"n_heads\": 12,\n",
            "  \"n_layers\": 6,\n",
            "  \"pad_token_id\": 0,\n",
            "  \"qa_dropout\": 0.1,\n",
            "  \"seq_classif_dropout\": 0.2,\n",
            "  \"sinusoidal_pos_embds\": false,\n",
            "  \"tie_weights_\": true,\n",
            "  \"transformers_version\": \"4.8.2\",\n",
            "  \"vocab_size\": 30522\n",
            "}\n",
            "\n",
            "loading file https://huggingface.co/distilbert-base-uncased/resolve/main/vocab.txt from cache at /root/.cache/huggingface/transformers/0e1bbfda7f63a99bb52e3915dcf10c3c92122b827d92eb2d34ce94ee79ba486c.d789d64ebfe299b0e416afc4a169632f903f693095b4629a7ea271d5a0cf2c99\n",
            "loading file https://huggingface.co/distilbert-base-uncased/resolve/main/tokenizer.json from cache at /root/.cache/huggingface/transformers/75abb59d7a06f4f640158a9bfcde005264e59e8d566781ab1415b139d2e4c603.7f2721073f19841be16f41b0a70b600ca6b880c8f3df6f3535cbc704371bdfa4\n",
            "loading file https://huggingface.co/distilbert-base-uncased/resolve/main/added_tokens.json from cache at None\n",
            "loading file https://huggingface.co/distilbert-base-uncased/resolve/main/special_tokens_map.json from cache at None\n",
            "loading file https://huggingface.co/distilbert-base-uncased/resolve/main/tokenizer_config.json from cache at /root/.cache/huggingface/transformers/8c8624b8ac8aa99c60c912161f8332de003484428c47906d7ff7eb7f73eecdbb.20430bd8e10ef77a7d2977accefe796051e01bc2fc4aa146bc862997a1a15e79\n"
          ],
          "name": "stderr"
        }
      ]
    },
    {
      "cell_type": "code",
      "metadata": {
        "id": "kAVcoWugJMxm"
      },
      "source": [
        "path_tf = '/content/gdrive/My Drive/NER_HUGGINGFACE_TF/'"
      ],
      "execution_count": null,
      "outputs": []
    },
    {
      "cell_type": "code",
      "metadata": {
        "colab": {
          "base_uri": "https://localhost:8080/"
        },
        "id": "M2iTuZw5JMxl",
        "outputId": "2f937a63-8912-48aa-820f-7e46b830e6a8"
      },
      "source": [
        "model = TFDistilBertForTokenClassification.from_pretrained(path_tf)"
      ],
      "execution_count": null,
      "outputs": [
        {
          "output_type": "stream",
          "text": [
            "loading configuration file /content/gdrive/My Drive/NER_HUGGINGFACE_TF/config.json\n",
            "Model config DistilBertConfig {\n",
            "  \"_name_or_path\": \"/content/gdrive/My Drive/NER_HUGGINGFACE/\",\n",
            "  \"activation\": \"gelu\",\n",
            "  \"architectures\": [\n",
            "    \"DistilBertForTokenClassification\"\n",
            "  ],\n",
            "  \"attention_dropout\": 0.1,\n",
            "  \"dim\": 768,\n",
            "  \"dropout\": 0.1,\n",
            "  \"hidden_dim\": 3072,\n",
            "  \"id2label\": {\n",
            "    \"0\": \"LABEL_0\",\n",
            "    \"1\": \"LABEL_1\",\n",
            "    \"2\": \"LABEL_2\"\n",
            "  },\n",
            "  \"initializer_range\": 0.02,\n",
            "  \"label2id\": {\n",
            "    \"LABEL_0\": 0,\n",
            "    \"LABEL_1\": 1,\n",
            "    \"LABEL_2\": 2\n",
            "  },\n",
            "  \"max_position_embeddings\": 512,\n",
            "  \"model_type\": \"distilbert\",\n",
            "  \"n_heads\": 12,\n",
            "  \"n_layers\": 6,\n",
            "  \"pad_token_id\": 0,\n",
            "  \"qa_dropout\": 0.1,\n",
            "  \"seq_classif_dropout\": 0.2,\n",
            "  \"sinusoidal_pos_embds\": false,\n",
            "  \"tie_weights_\": true,\n",
            "  \"transformers_version\": \"4.8.2\",\n",
            "  \"vocab_size\": 30522\n",
            "}\n",
            "\n",
            "loading weights file /content/gdrive/My Drive/NER_HUGGINGFACE_TF/tf_model.h5\n",
            "Some layers from the model checkpoint at /content/gdrive/My Drive/NER_HUGGINGFACE_TF/ were not used when initializing TFDistilBertForTokenClassification: ['dropout_19']\n",
            "- This IS expected if you are initializing TFDistilBertForTokenClassification from the checkpoint of a model trained on another task or with another architecture (e.g. initializing a BertForSequenceClassification model from a BertForPreTraining model).\n",
            "- This IS NOT expected if you are initializing TFDistilBertForTokenClassification from the checkpoint of a model that you expect to be exactly identical (initializing a BertForSequenceClassification model from a BertForSequenceClassification model).\n",
            "Some layers of TFDistilBertForTokenClassification were not initialized from the model checkpoint at /content/gdrive/My Drive/NER_HUGGINGFACE_TF/ and are newly initialized: ['dropout_39']\n",
            "You should probably TRAIN this model on a down-stream task to be able to use it for predictions and inference.\n"
          ],
          "name": "stderr"
        }
      ]
    },
    {
      "cell_type": "code",
      "metadata": {
        "id": "6Nzgm_YMqbMJ"
      },
      "source": [
        "from transformers import pipeline\n",
        "nlp = pipeline('ner', model=model, tokenizer=tokenizer, aggregation_strategy=\"first\")"
      ],
      "execution_count": null,
      "outputs": []
    },
    {
      "cell_type": "code",
      "metadata": {
        "colab": {
          "background_save": true,
          "base_uri": "https://localhost:8080/"
        },
        "id": "mZPH3SNpZUZt",
        "outputId": "69b70949-2917-4e71-e4f6-5994f8ce4639"
      },
      "source": [
        "nlp(\"tengo tos\")"
      ],
      "execution_count": null,
      "outputs": [
        {
          "output_type": "execute_result",
          "data": {
            "text/plain": [
              "[{'end': 5,\n",
              "  'entity_group': 'LABEL_1',\n",
              "  'score': 0.9999653,\n",
              "  'start': 0,\n",
              "  'word': 'tengo'},\n",
              " {'end': 9,\n",
              "  'entity_group': 'LABEL_0',\n",
              "  'score': 0.99958634,\n",
              "  'start': 6,\n",
              "  'word': 'tos'}]"
            ]
          },
          "metadata": {
            "tags": []
          },
          "execution_count": 0
        }
      ]
    },
    {
      "cell_type": "code",
      "metadata": {
        "id": "5JU1noy6NVGj"
      },
      "source": [
        "filter = ['cefalea',\n",
        "          'cefaleas',\n",
        "          'tos',\n",
        "          'diarrea',\n",
        "          'disnea',\n",
        "          'astenia',\n",
        "          'mareos',\n",
        "          'edema',\n",
        "          'lumbalgia',\n",
        "          'cervicalgia',\n",
        "          'colico',\n",
        "          'placas',\n",
        "          'fatiga',\n",
        "          'epigastralgia',\n",
        "          'faringitis',\n",
        "          'dolores',\n",
        "          'placa',\n",
        "          'esencial',\n",
        "          'higado',\n",
        "          'faringitis aguda',\n",
        "          'diarrea guda',\n",
        "          'gastroenteritis aguda',\n",
        "          'astenica']"
      ],
      "execution_count": null,
      "outputs": []
    },
    {
      "cell_type": "code",
      "metadata": {
        "id": "HTpcq9SjO-bT"
      },
      "source": [
        "import re\n",
        "def preprocess(txt):\n",
        "  text = txt.lower()\n",
        "  text = text.translate(str.maketrans(\"áéíóú\", \"aeiou\"))\n",
        "  text = re.sub(r'[^\\w\\s]',' ',txt)\n",
        "  return text"
      ],
      "execution_count": null,
      "outputs": []
    },
    {
      "cell_type": "code",
      "metadata": {
        "id": "YQxlVCu8PGgq"
      },
      "source": [
        "def predict(txt):\n",
        "  prediction = nlp(txt)\n",
        "  return prediction"
      ],
      "execution_count": null,
      "outputs": []
    },
    {
      "cell_type": "code",
      "metadata": {
        "id": "Pqnn1T7DPO3E"
      },
      "source": [
        "def postprocess(output):\n",
        "   antecedentes = []\n",
        "   for w in output:\n",
        "    if w['entity_group'] == \"LABEL_0\":\n",
        "      if w['word'] not in filter:\n",
        "        antecedentes.append(w['word'])\n",
        "    if w['entity_group'] == \"LABEL_2\":\n",
        "        if len(antecedentes) > 0:\n",
        "          last = antecedentes.pop()\n",
        "          antecedentes.append(last + \" \" + w['word'])\n",
        "        \n",
        "   antecedentes = list(set(antecedentes))\n",
        "   for a in antecedentes:\n",
        "     if a in filter:\n",
        "       antecedentes.remove(a)\n",
        "   return antecedentes"
      ],
      "execution_count": null,
      "outputs": []
    },
    {
      "cell_type": "code",
      "metadata": {
        "id": "toHQ_v6pPYmk"
      },
      "source": [
        "text1 = \"hipertension arterial aguda hipertension arterial hipertension aguda faringitis aguda\"\n",
        "text_largo = \" '* HIPERTENSION ARTERIAL de más de 30 años de faringitis aguda evolución. \\r\\r\\n* HIPERTROFIA VENTRICULAR IZQUIERDA. \\r\\r\\n* Esclerosis valvular aórtica, insuficiencia mitral leve. \\r\\r\\n* EXTRASISTOLIA VENTRICULAR ASILADA monofmorfa. \\r\\r\\n* GASTRITIS en 1999 (FEDA). \\r\\r\\n* HISTERECTOM-A TOTAL en 1968 por MIOMATOSIS UTERINA. \\r\\r\\n* CIRUG-A DE CADERA IZQUIERDA  (fractura) con colocación de placa de titanio en 1995. \\r\\r\\n* HIPOACUSIA PERCETPTIVA bilateral, OTOESCLEROSIS IZQUIERDA. \\r\\r\\n* Piel: Verrugas seborreicas en  mejillas , cuello. Manchas actinicas  en cara.  Seborrea del cuero cabelludo.\\r\\r\\n* Olvidos irrelevantes, fue medicada con memantine en dosis de 20 mg pero lo suspendió porque le daba cefaleas. Tiene una RM (atendida en FLENI) que no mostraba alteraciones relevantes. \\r\\r\\n* Medicación: AMLODIPINA 5 mg (Pelmec 5) diarios; SIMVASTATINA 10 mg (Labistatin) uno por día. No toma AAS por antecedentes de gastritis. \\r\\r\\n* DESCENSO DE 12 kg de PESO en 2008 por presunta DEPRESION (no la atendió ningún especialista y el cuadro no parece tan claro). Vive con su marido; dos hijos biológicos y 1 adoptivo (problemas de aprendizaje).\\r\\r\\n* CATARATAS BILATERALES. \\r\\r\\n* Doctora en filososfía. Ama de casa. Jubilada. Lee mucho. \\r\\r\\n* No alergias conocidas. \\r\\r\\n* No tabaco ni alcohol. refiere dlp y IAM. tiene cataratas y depresión, tiene HTA y FUMA\"\n",
        "text_largo2 = \"'* Asmático desde los 9 meses de edad.\\r\\r\\n* Presentó neumonías a los 9 meses, 12 años, 20 años y a los 36 años, complicada esta última con absceso pulmonar y septicemia.\\r\\r\\n* Apendicectomía y amigdalectomía en infancia. Hernioplastia inguinal en edad adulta. No medicamentos.                              PADECE  COLITIS ULCEROSA. \\r\\r\\n Cirugía de C-NCER DE ESOFAGO el 31 de marzo de 2004. \\r\\r\\n* Biopsia de MASA ABDOMINAL (oct. 2006): CARCINOMA POCO DIFERENCIADO (no se determina primitivo). En seguimiento para tratamiento oncológico. \\r\\r\\n* EPISODIOS SINCOPALES desde agosto de 2004, estudiado con Holter sp, ECG sp. se sugirió una dudosa hipoglucemia, TAC cerebral normal, Doppler de vasos del cuello (set. 2005)  normal. TEST DE MOVIMIENTO OSCILATORIO CORPORAL (TILT TEST) del 1 de nov. de 2004: Negativo (sin medicación). \\r\\r\\n* GLAUCOMA de ANGULO ABIERTO (puede usar antiespasmódicos). Tiene antecedentes de IAM y presentó síncope'\"\n",
        "text_largo3 = '64 años(2005)Litiasis biliar no operada.cesarea 3. Noidulectomia mamaria./r/DLP sin TTO.Osteoporosis sin TTO.'"
      ],
      "execution_count": null,
      "outputs": []
    },
    {
      "cell_type": "code",
      "metadata": {
        "colab": {
          "base_uri": "https://localhost:8080/"
        },
        "id": "eK8BZUWxM9gW",
        "outputId": "683ed7e1-7f01-44aa-a35c-ba64cd41d857"
      },
      "source": [
        "model_input = preprocess(text_largo)\n",
        "model_output = predict(model_input)\n",
        "postprocess(model_output)"
      ],
      "execution_count": null,
      "outputs": [
        {
          "output_type": "execute_result",
          "data": {
            "text/plain": [
              "['extrasistolia ventricular',\n",
              " 'hipoacusia',\n",
              " 'hta',\n",
              " 'esclerosis',\n",
              " 'hipertrofia ventricular',\n",
              " 'cataratas',\n",
              " 'gastritis',\n",
              " 'insuficiencia mitral',\n",
              " 'fractura',\n",
              " 'dlp',\n",
              " 'miomatosis',\n",
              " 'iam',\n",
              " 'hipertension arterial aguda',\n",
              " 'depresion']"
            ]
          },
          "metadata": {
            "tags": []
          },
          "execution_count": 106
        }
      ]
    },
    {
      "cell_type": "code",
      "metadata": {
        "id": "Wc94WPPcwIiQ"
      },
      "source": [
        "def text2ant(txt):\n",
        "  model_input = preprocess(txt)\n",
        "  model_output = predict(model_input)\n",
        "  return postprocess(model_output)\n"
      ],
      "execution_count": null,
      "outputs": []
    },
    {
      "cell_type": "markdown",
      "metadata": {
        "id": "3gKP-IN7b1U8"
      },
      "source": [
        "# TEST CON LISTA DE ANTECEDENTES"
      ]
    },
    {
      "cell_type": "code",
      "metadata": {
        "colab": {
          "base_uri": "https://localhost:8080/"
        },
        "id": "Hp_cASe2vAeI",
        "outputId": "f14ca0e3-bad8-4f6d-a34d-a16db770e187"
      },
      "source": [
        "import pandas as pd\n",
        "df2 = pd.read_csv('message.txt', delimiter=\"/t\", header=None)"
      ],
      "execution_count": null,
      "outputs": [
        {
          "output_type": "stream",
          "text": [
            "/usr/local/lib/python3.7/dist-packages/ipykernel_launcher.py:2: ParserWarning: Falling back to the 'python' engine because the 'c' engine does not support regex separators (separators > 1 char and different from '\\s+' are interpreted as regex); you can avoid this warning by specifying engine='python'.\n",
            "  \n"
          ],
          "name": "stderr"
        }
      ]
    },
    {
      "cell_type": "code",
      "metadata": {
        "id": "h3hdZfOIvJoU"
      },
      "source": [
        "row = {0: text_largo }\n",
        "df2 = df2.append(row ,ignore_index=True)"
      ],
      "execution_count": null,
      "outputs": []
    },
    {
      "cell_type": "code",
      "metadata": {
        "id": "26ogVDXgvj7T"
      },
      "source": [
        "row = {0: text_largo2 }\n",
        "df2 = df2.append(row ,ignore_index=True)"
      ],
      "execution_count": null,
      "outputs": []
    },
    {
      "cell_type": "code",
      "metadata": {
        "id": "6S7Nu2HLvWv6"
      },
      "source": [
        "df2['ner_huggingface'] = df2[0].apply(text2ant)"
      ],
      "execution_count": null,
      "outputs": []
    },
    {
      "cell_type": "code",
      "metadata": {
        "colab": {
          "base_uri": "https://localhost:8080/",
          "height": 1000
        },
        "id": "Y6AMrkSrwl5M",
        "outputId": "add1964d-943d-498b-d802-4c9de4df45da"
      },
      "source": [
        "df2"
      ],
      "execution_count": null,
      "outputs": [
        {
          "output_type": "execute_result",
          "data": {
            "text/html": [
              "<div>\n",
              "<style scoped>\n",
              "    .dataframe tbody tr th:only-of-type {\n",
              "        vertical-align: middle;\n",
              "    }\n",
              "\n",
              "    .dataframe tbody tr th {\n",
              "        vertical-align: top;\n",
              "    }\n",
              "\n",
              "    .dataframe thead th {\n",
              "        text-align: right;\n",
              "    }\n",
              "</style>\n",
              "<table border=\"1\" class=\"dataframe\">\n",
              "  <thead>\n",
              "    <tr style=\"text-align: right;\">\n",
              "      <th></th>\n",
              "      <th>0</th>\n",
              "      <th>ner_huggingface</th>\n",
              "    </tr>\n",
              "  </thead>\n",
              "  <tbody>\n",
              "    <tr>\n",
              "      <th>0</th>\n",
              "      <td>['     HTA   EN TTO  CON   LOSARTAN   50  MG  / DIA  -   OMEPRAZOL  20  MG /   DIA  -   LEVOTIROXINA  100  MCG -  75   MCG   LOS   LUNES ,  MIERCOLES   Y  VIERNES  -   ATENOLOL  50  MG  /  DIA  AN...</td>\n",
              "      <td>[colecistectomia, polipo colonico, hta]</td>\n",
              "    </tr>\n",
              "    <tr>\n",
              "      <th>1</th>\n",
              "      <td>'64 años(2005)Litiasis biliar no operada.Cesareas 3. Noidulectomia mamaria.DLP sin TTO.Osteoporosis sin TTO.',</td>\n",
              "      <td>[litiasis biliar, osteoporosis, dlp]</td>\n",
              "    </tr>\n",
              "    <tr>\n",
              "      <th>2</th>\n",
              "      <td>'COLECISTECTOMIA.                                    OBESIDAD.                                                      INCONTINENCIA URINARIA DE ESFUERZO.                                             ...</td>\n",
              "      <td>[hta, colecistectomia, acv, sordera, menopausia, incontinencia urinaria, obesidad]</td>\n",
              "    </tr>\n",
              "    <tr>\n",
              "      <th>3</th>\n",
              "      <td>'* Anemia en 1999. Consume predominantemente vegetales. \\r\\r\\n* Medicación habitual: no . \\r\\r\\n* Alergias: no. \\r\\r\\n* Cirugías: No. No internaciones. \\r\\r\\n* No tabaco. No alcohol. \\r\\r\\n* Pract...</td>\n",
              "      <td>[alergias, rinitis, anemia]</td>\n",
              "    </tr>\n",
              "    <tr>\n",
              "      <th>4</th>\n",
              "      <td>'cx de rodilla derecha,colpuril y corenitec,cx prostata y de hernia inguinal .',</td>\n",
              "      <td>[hernia inguinal, cx]</td>\n",
              "    </tr>\n",
              "    <tr>\n",
              "      <th>5</th>\n",
              "      <td>'* Hiperplasia nodular difusa de tiroides.     * Psoriasis.                                                        * Taquicardias habituales.                             * Ex TBQ hasta hace 10 a.',</td>\n",
              "      <td>[tbq, taquicardias, psoriasis]</td>\n",
              "    </tr>\n",
              "    <tr>\n",
              "      <th>6</th>\n",
              "      <td>'* Asmático desde los 9 meses de edad.\\r\\r\\n* Presentó neumonías a los 9 meses, 12 años, 20 años y a los 36 años, complicada esta última con absceso pulmonar y septicemia.\\r\\r\\n* Apendicectomía y ...</td>\n",
              "      <td>[glaucoma, apendicectomia, carcinoma, hipoglucemia, cirugia, neumonias, asmatico, hernioplastia inguinal]</td>\n",
              "    </tr>\n",
              "    <tr>\n",
              "      <th>7</th>\n",
              "      <td>'HTA medicada con medicacion homeopatica,                                                    Reacciones alergica en piel a repeticion       Tres embarazos 3 abortos provocados        Colecistectom...</td>\n",
              "      <td>[colecistectomia, alergica, hta, insomnio]</td>\n",
              "    </tr>\n",
              "    <tr>\n",
              "      <th>8</th>\n",
              "      <td>'* Hipercolesterolemia. \\r\\r\\n* Dolores articulares a predominio de manos y cuello. \\r\\r\\n* Medicación: antiinflamatorios sn. \\r\\r\\n* Cambios evacuatorios en año 2000. \\r\\r\\n* Colecistectomía. \\r\\...</td>\n",
              "      <td>[colecistectomia, rinitis, hipercolesterolemia, alergia]</td>\n",
              "    </tr>\n",
              "    <tr>\n",
              "      <th>9</th>\n",
              "      <td>'HTA medicada con enalapril 10 mgdia         FA medicada con Atlansil 5-7                     , Cx por prolapso de matriz apendicectomia   Zoster en el mes de enero Actualmente medicada con Bago b...</td>\n",
              "      <td>[prolapso, apendicectomia, hta, gastritis, colon, cx, fa]</td>\n",
              "    </tr>\n",
              "    <tr>\n",
              "      <th>10</th>\n",
              "      <td>'DIABETICA TIPO II, MEDICADA CON GLIBENCLAMIDA 5M G.antes de A. DBI AP 1/D.                                       HIPERTENSA MEDICADA CON INDERAL 40 MG. DIA. LOTRIAL 5 MG.   CATARATA OJO IZQ., AMA...</td>\n",
              "      <td>[amaurosis, diabetica, hipertensa]</td>\n",
              "    </tr>\n",
              "    <tr>\n",
              "      <th>11</th>\n",
              "      <td>'HTA bajo tratamiento con Dieta Hiposodica.                                                        Cirugias: Apendicectomia, Fibroma, ORL.   Rubeola en su primer embarazo                     Hemor...</td>\n",
              "      <td>[apendicectomia, hta]</td>\n",
              "    </tr>\n",
              "    <tr>\n",
              "      <th>12</th>\n",
              "      <td>'* HIPERTENSION ARTERIAL de más de 30 años de evolución. \\r\\r\\n* HIPERTROFIA VENTRICULAR IZQUIERDA. \\r\\r\\n* Esclerosis valvular aórtica, insuficiencia mitral leve. \\r\\r\\n* EXTRASISTOLIA VENTRICULA...</td>\n",
              "      <td>[extrasistolia ventricular, hipoacusia, esclerosis, hipertrofia ventricular, hipertension arterial, cataratas, gastritis, insuficiencia mitral, fractura, miomatosis, depresion]</td>\n",
              "    </tr>\n",
              "    <tr>\n",
              "      <th>13</th>\n",
              "      <td>'* Bronquitis a repetición. \\r\\r\\n* Obesidad. \\r\\r\\n* Colon irritable; se estudió con colon por enema que descartó otras patología (2004). \\r\\r\\n* Colecistectomía laparoscópica por litiasis en 200...</td>\n",
              "      <td>[colecistectomia, litiasis, polipo, hipertension arterial, bronquitis, anemia cronica, colon, colon irritable, obesidad]</td>\n",
              "    </tr>\n",
              "    <tr>\n",
              "      <th>14</th>\n",
              "      <td>'TOMA CRONICAMENTE  TOTAL MAGNESIANO  \\r\\r\\nNEVUS  EN REGION FRONTAL  DESDE HACE 2 AÑOS  SIN SINTOMAS . \\r\\r\\nREALIZA CONTROLES GINECOLOGICOS ANIVEL PARTICULAR . \\r\\r\\nEcografÝa abdominal con hÝga...</td>\n",
              "      <td>[]</td>\n",
              "    </tr>\n",
              "    <tr>\n",
              "      <th>15</th>\n",
              "      <td>'* No cirugÝas.\\r\\r\\n* Hipertensa no controlada de larga data (sin claro conoc. de enfermedad previo).\\r\\r\\n* Cuadro de angustia por el que estuvo internada en 2 oportunidades a±os atrßs.\\r\\r\\n* A...</td>\n",
              "      <td>[hipercolesterolemia, angustia, artrosis, hipertensa]</td>\n",
              "    </tr>\n",
              "    <tr>\n",
              "      <th>16</th>\n",
              "      <td>'* Hipoacusia. \\r\\r\\n* Diabetes tipo 2 en 2001. Hiperglucemias desde 1990. \\r\\r\\n* No antec. de alergias. \\r\\r\\n* Colecistectomía y apendicectomía en su juventud. \\r\\r\\n* Medicación: Akatinol uno ...</td>\n",
              "      <td>[hipoacusia, apendicectomia, colecistectomia, hiperglucemias, fractura, alergias, diabetes]</td>\n",
              "    </tr>\n",
              "    <tr>\n",
              "      <th>17</th>\n",
              "      <td>'HEPATITIS A A LOS 50 AÐOS. AL+RGICA A POLEN Y POLVOS. MEDICADA CON LEXOTANIL.TOMA ASS POR DOLOR DE CABEZA. INTERNADA POR LEGRADO.MENOPAUSIA A LOS 48 AÐOS. NO TRATAMIENTO HORMONAL. OSTEOPOROSIS.',</td>\n",
              "      <td>[menopausia, osteoporosis, hepatitis]</td>\n",
              "    </tr>\n",
              "    <tr>\n",
              "      <th>18</th>\n",
              "      <td>'Cx amigdalectomia 4 años                              Hepatitis A                                                       Ansiedad medicado con Valium 4 mg dia',</td>\n",
              "      <td>[ansiedad, cx, hepatitis]</td>\n",
              "    </tr>\n",
              "    <tr>\n",
              "      <th>19</th>\n",
              "      <td>'Asma desde los 6 años. Mejoró luego de tratamiento con vacunas. Poco sintomatica en edad adulta. \\r\\r\\nEx tabaquista de 20 cig. diarios desde los 18 hasta los 57 años. Actualmente no fumadora. \\r...</td>\n",
              "      <td>[asma, nosteoporosis, fractura, tabaquista, enfisema, alergias, hipotiroidismo, coronaria, hipercolesterolemia]</td>\n",
              "    </tr>\n",
              "    <tr>\n",
              "      <th>20</th>\n",
              "      <td>'* Palpitaciones crónicas (desde 1995)con Holter y ecocardiograma normales (año 2001). \\r\\r\\n* FA crónica en estudio posterior, con ANTICOAGULACION CON SINTROM.\\r\\r\\n* Medicación: Acalix AP 120, S...</td>\n",
              "      <td>[palpitaciones, fa cronica, prolapso, anticoagulacion, tumor, artrosis, angustia]</td>\n",
              "    </tr>\n",
              "    <tr>\n",
              "      <th>21</th>\n",
              "      <td>'*HIPOTIROIDISMO DG 1996, EN TTO CON LT4 100 Y 75G D-AS ALTERNOS. ATPO + \\r\\r\\n*ANSIEDAD  TRANQUINAL  1MG  \\r\\r\\n*MARCAPASOS    POR   TRAST   CONDUCTIVOS  DESDE   1997.\\r\\r\\n*QX: PROLAPSO  OPERADA...</td>\n",
              "      <td>[prolapso, qx, quiste, menopausia, hipotiroidismo, ansiedad]</td>\n",
              "    </tr>\n",
              "    <tr>\n",
              "      <th>22</th>\n",
              "      <td>'*Hepatitis a los 14 a±os,desconoce etiologÝa.                                                             *Depresivo en tratamiento psiquißtrico con Prozac y Octanyl.                             ...</td>\n",
              "      <td>[depresivo, hiperuricemia, hta, hepatitis]</td>\n",
              "    </tr>\n",
              "    <tr>\n",
              "      <th>23</th>\n",
              "      <td>'Cirugía de columna lumbar por hernia de disco 4 y 5 (sin prótesis) en 1984. Previamente compromiso neurológico en MII (quinta raíz lumbar izq.) que recuperó luego de cirugía. \\r\\r\\nHernioplastia ...</td>\n",
              "      <td>[hernia, aneurisma, trigliceridos, cirugia, operado, enfisema, trombosis, colesterol, colesterol total]</td>\n",
              "    </tr>\n",
              "    <tr>\n",
              "      <th>24</th>\n",
              "      <td>'1996 0perada de mama D por Ca ductal infiltrante , 1999 recidiva local con cuadrantectomia y vaciamiento ganglionar + radioterapia.                    .                       1/2001 cuadrantectom...</td>\n",
              "      <td>[trombosis, ca, anticoagulada]</td>\n",
              "    </tr>\n",
              "    <tr>\n",
              "      <th>25</th>\n",
              "      <td>' obesa, sedentaria, HTA, dislipemica',</td>\n",
              "      <td>[obesa, hta, dislipemica]</td>\n",
              "    </tr>\n",
              "    <tr>\n",
              "      <th>26</th>\n",
              "      <td>'hIPOTIROIDISMO 11 años de edad.-           ASMA BRONQUIAL hasta los 12 años.-    CIRUGIAS : Colecistectomia 1984 de urgencia.-                                                           Amigdelect...</td>\n",
              "      <td>[asma, colecistectomia, sobrepeso, dislipemia, dbt, tabaquista, hipotiroidismo]</td>\n",
              "    </tr>\n",
              "    <tr>\n",
              "      <th>27</th>\n",
              "      <td>'Cx de melanoma , en el  95,HTA(medicada con oligoelementos que se los preparan en la Farmacia se le explican a la pte el riesgo de su ingesta ,pero la pte rechaza la propuesta de suspension de lo...</td>\n",
              "      <td>[melanoma, hta, cx]</td>\n",
              "    </tr>\n",
              "    <tr>\n",
              "      <th>28</th>\n",
              "      <td>'* Episodio de surmenagge en 1998. (RM y otros estudios normales). \\r\\r\\n* Dermatitis crónica en manos y en las plantas de los pies, con exÓmenes dermatológicos. Prurito cr=nico en manos y pies. \\...</td>\n",
              "      <td>[apendicectomia, hernia, anemia, dermatitis cronica, arritmia, colon, reflujo, diverticulos]</td>\n",
              "    </tr>\n",
              "    <tr>\n",
              "      <th>29</th>\n",
              "      <td>'no refiere alergias medicamentosas']</td>\n",
              "      <td>[alergias]</td>\n",
              "    </tr>\n",
              "    <tr>\n",
              "      <th>30</th>\n",
              "      <td>'* HIPERTENSION ARTERIAL de más de 30 años de faringitis aguda evolución. \\r\\r\\n* HIPERTROFIA VENTRICULAR IZQUIERDA. \\r\\r\\n* Esclerosis valvular aórtica, insuficiencia mitral leve. \\r\\r\\n* EXTRAS...</td>\n",
              "      <td>[extrasistolia ventricular, hipoacusia, hta, esclerosis, hipertrofia ventricular, cataratas, gastritis, insuficiencia mitral, fractura, dlp, miomatosis, iam, hipertension arterial aguda, depresion]</td>\n",
              "    </tr>\n",
              "    <tr>\n",
              "      <th>31</th>\n",
              "      <td>'* Asmático desde los 9 meses de edad.\\r\\r\\n* Presentó neumonías a los 9 meses, 12 años, 20 años y a los 36 años, complicada esta última con absceso pulmonar y septicemia.\\r\\r\\n* Apendicectomía y ...</td>\n",
              "      <td>[glaucoma, apendicectomia, carcinoma, hipoglucemia, cirugia, neumonias, iam, asmatico, sincope, hernioplastia inguinal]</td>\n",
              "    </tr>\n",
              "  </tbody>\n",
              "</table>\n",
              "</div>"
            ],
            "text/plain": [
              "                                                                                                                                                                                                          0                                                                                                                                                                                        ner_huggingface\n",
              "0   ['     HTA   EN TTO  CON   LOSARTAN   50  MG  / DIA  -   OMEPRAZOL  20  MG /   DIA  -   LEVOTIROXINA  100  MCG -  75   MCG   LOS   LUNES ,  MIERCOLES   Y  VIERNES  -   ATENOLOL  50  MG  /  DIA  AN...                                                                                                                                                                [colecistectomia, polipo colonico, hta]\n",
              "1                                                                                            '64 años(2005)Litiasis biliar no operada.Cesareas 3. Noidulectomia mamaria.DLP sin TTO.Osteoporosis sin TTO.',                                                                                                                                                                   [litiasis biliar, osteoporosis, dlp]\n",
              "2   'COLECISTECTOMIA.                                    OBESIDAD.                                                      INCONTINENCIA URINARIA DE ESFUERZO.                                             ...                                                                                                                     [hta, colecistectomia, acv, sordera, menopausia, incontinencia urinaria, obesidad]\n",
              "3   '* Anemia en 1999. Consume predominantemente vegetales. \\r\\r\\n* Medicación habitual: no . \\r\\r\\n* Alergias: no. \\r\\r\\n* Cirugías: No. No internaciones. \\r\\r\\n* No tabaco. No alcohol. \\r\\r\\n* Pract...                                                                                                                                                                            [alergias, rinitis, anemia]\n",
              "4                                                                                                                          'cx de rodilla derecha,colpuril y corenitec,cx prostata y de hernia inguinal .',                                                                                                                                                                                  [hernia inguinal, cx]\n",
              "5     '* Hiperplasia nodular difusa de tiroides.     * Psoriasis.                                                        * Taquicardias habituales.                             * Ex TBQ hasta hace 10 a.',                                                                                                                                                                         [tbq, taquicardias, psoriasis]\n",
              "6   '* Asmático desde los 9 meses de edad.\\r\\r\\n* Presentó neumonías a los 9 meses, 12 años, 20 años y a los 36 años, complicada esta última con absceso pulmonar y septicemia.\\r\\r\\n* Apendicectomía y ...                                                                                              [glaucoma, apendicectomia, carcinoma, hipoglucemia, cirugia, neumonias, asmatico, hernioplastia inguinal]\n",
              "7   'HTA medicada con medicacion homeopatica,                                                    Reacciones alergica en piel a repeticion       Tres embarazos 3 abortos provocados        Colecistectom...                                                                                                                                                             [colecistectomia, alergica, hta, insomnio]\n",
              "8   '* Hipercolesterolemia. \\r\\r\\n* Dolores articulares a predominio de manos y cuello. \\r\\r\\n* Medicación: antiinflamatorios sn. \\r\\r\\n* Cambios evacuatorios en año 2000. \\r\\r\\n* Colecistectomía. \\r\\...                                                                                                                                               [colecistectomia, rinitis, hipercolesterolemia, alergia]\n",
              "9   'HTA medicada con enalapril 10 mgdia         FA medicada con Atlansil 5-7                     , Cx por prolapso de matriz apendicectomia   Zoster en el mes de enero Actualmente medicada con Bago b...                                                                                                                                              [prolapso, apendicectomia, hta, gastritis, colon, cx, fa]\n",
              "10  'DIABETICA TIPO II, MEDICADA CON GLIBENCLAMIDA 5M G.antes de A. DBI AP 1/D.                                       HIPERTENSA MEDICADA CON INDERAL 40 MG. DIA. LOTRIAL 5 MG.   CATARATA OJO IZQ., AMA...                                                                                                                                                                     [amaurosis, diabetica, hipertensa]\n",
              "11  'HTA bajo tratamiento con Dieta Hiposodica.                                                        Cirugias: Apendicectomia, Fibroma, ORL.   Rubeola en su primer embarazo                     Hemor...                                                                                                                                                                                  [apendicectomia, hta]\n",
              "12  '* HIPERTENSION ARTERIAL de más de 30 años de evolución. \\r\\r\\n* HIPERTROFIA VENTRICULAR IZQUIERDA. \\r\\r\\n* Esclerosis valvular aórtica, insuficiencia mitral leve. \\r\\r\\n* EXTRASISTOLIA VENTRICULA...                       [extrasistolia ventricular, hipoacusia, esclerosis, hipertrofia ventricular, hipertension arterial, cataratas, gastritis, insuficiencia mitral, fractura, miomatosis, depresion]\n",
              "13  '* Bronquitis a repetición. \\r\\r\\n* Obesidad. \\r\\r\\n* Colon irritable; se estudió con colon por enema que descartó otras patología (2004). \\r\\r\\n* Colecistectomía laparoscópica por litiasis en 200...                                                                               [colecistectomia, litiasis, polipo, hipertension arterial, bronquitis, anemia cronica, colon, colon irritable, obesidad]\n",
              "14  'TOMA CRONICAMENTE  TOTAL MAGNESIANO  \\r\\r\\nNEVUS  EN REGION FRONTAL  DESDE HACE 2 AÑOS  SIN SINTOMAS . \\r\\r\\nREALIZA CONTROLES GINECOLOGICOS ANIVEL PARTICULAR . \\r\\r\\nEcografÝa abdominal con hÝga...                                                                                                                                                                                                     []\n",
              "15  '* No cirugÝas.\\r\\r\\n* Hipertensa no controlada de larga data (sin claro conoc. de enfermedad previo).\\r\\r\\n* Cuadro de angustia por el que estuvo internada en 2 oportunidades a±os atrßs.\\r\\r\\n* A...                                                                                                                                                  [hipercolesterolemia, angustia, artrosis, hipertensa]\n",
              "16  '* Hipoacusia. \\r\\r\\n* Diabetes tipo 2 en 2001. Hiperglucemias desde 1990. \\r\\r\\n* No antec. de alergias. \\r\\r\\n* Colecistectomía y apendicectomía en su juventud. \\r\\r\\n* Medicación: Akatinol uno ...                                                                                                            [hipoacusia, apendicectomia, colecistectomia, hiperglucemias, fractura, alergias, diabetes]\n",
              "17     'HEPATITIS A A LOS 50 AÐOS. AL+RGICA A POLEN Y POLVOS. MEDICADA CON LEXOTANIL.TOMA ASS POR DOLOR DE CABEZA. INTERNADA POR LEGRADO.MENOPAUSIA A LOS 48 AÐOS. NO TRATAMIENTO HORMONAL. OSTEOPOROSIS.',                                                                                                                                                                  [menopausia, osteoporosis, hepatitis]\n",
              "18                                         'Cx amigdalectomia 4 años                              Hepatitis A                                                       Ansiedad medicado con Valium 4 mg dia',                                                                                                                                                                              [ansiedad, cx, hepatitis]\n",
              "19  'Asma desde los 6 años. Mejoró luego de tratamiento con vacunas. Poco sintomatica en edad adulta. \\r\\r\\nEx tabaquista de 20 cig. diarios desde los 18 hasta los 57 años. Actualmente no fumadora. \\r...                                                                                        [asma, nosteoporosis, fractura, tabaquista, enfisema, alergias, hipotiroidismo, coronaria, hipercolesterolemia]\n",
              "20  '* Palpitaciones crónicas (desde 1995)con Holter y ecocardiograma normales (año 2001). \\r\\r\\n* FA crónica en estudio posterior, con ANTICOAGULACION CON SINTROM.\\r\\r\\n* Medicación: Acalix AP 120, S...                                                                                                                      [palpitaciones, fa cronica, prolapso, anticoagulacion, tumor, artrosis, angustia]\n",
              "21  '*HIPOTIROIDISMO DG 1996, EN TTO CON LT4 100 Y 75G D-AS ALTERNOS. ATPO + \\r\\r\\n*ANSIEDAD  TRANQUINAL  1MG  \\r\\r\\n*MARCAPASOS    POR   TRAST   CONDUCTIVOS  DESDE   1997.\\r\\r\\n*QX: PROLAPSO  OPERADA...                                                                                                                                           [prolapso, qx, quiste, menopausia, hipotiroidismo, ansiedad]\n",
              "22  '*Hepatitis a los 14 a±os,desconoce etiologÝa.                                                             *Depresivo en tratamiento psiquißtrico con Prozac y Octanyl.                             ...                                                                                                                                                             [depresivo, hiperuricemia, hta, hepatitis]\n",
              "23  'Cirugía de columna lumbar por hernia de disco 4 y 5 (sin prótesis) en 1984. Previamente compromiso neurológico en MII (quinta raíz lumbar izq.) que recuperó luego de cirugía. \\r\\r\\nHernioplastia ...                                                                                                [hernia, aneurisma, trigliceridos, cirugia, operado, enfisema, trombosis, colesterol, colesterol total]\n",
              "24  '1996 0perada de mama D por Ca ductal infiltrante , 1999 recidiva local con cuadrantectomia y vaciamiento ganglionar + radioterapia.                    .                       1/2001 cuadrantectom...                                                                                                                                                                         [trombosis, ca, anticoagulada]\n",
              "25                                                                                                                                                                  ' obesa, sedentaria, HTA, dislipemica',                                                                                                                                                                              [obesa, hta, dislipemica]\n",
              "26  'hIPOTIROIDISMO 11 años de edad.-           ASMA BRONQUIAL hasta los 12 años.-    CIRUGIAS : Colecistectomia 1984 de urgencia.-                                                           Amigdelect...                                                                                                                        [asma, colecistectomia, sobrepeso, dislipemia, dbt, tabaquista, hipotiroidismo]\n",
              "27  'Cx de melanoma , en el  95,HTA(medicada con oligoelementos que se los preparan en la Farmacia se le explican a la pte el riesgo de su ingesta ,pero la pte rechaza la propuesta de suspension de lo...                                                                                                                                                                                    [melanoma, hta, cx]\n",
              "28  '* Episodio de surmenagge en 1998. (RM y otros estudios normales). \\r\\r\\n* Dermatitis crónica en manos y en las plantas de los pies, con exÓmenes dermatológicos. Prurito cr=nico en manos y pies. \\...                                                                                                           [apendicectomia, hernia, anemia, dermatitis cronica, arritmia, colon, reflujo, diverticulos]\n",
              "29                                                                                                                                                                    'no refiere alergias medicamentosas']                                                                                                                                                                                             [alergias]\n",
              "30   '* HIPERTENSION ARTERIAL de más de 30 años de faringitis aguda evolución. \\r\\r\\n* HIPERTROFIA VENTRICULAR IZQUIERDA. \\r\\r\\n* Esclerosis valvular aórtica, insuficiencia mitral leve. \\r\\r\\n* EXTRAS...  [extrasistolia ventricular, hipoacusia, hta, esclerosis, hipertrofia ventricular, cataratas, gastritis, insuficiencia mitral, fractura, dlp, miomatosis, iam, hipertension arterial aguda, depresion]\n",
              "31  '* Asmático desde los 9 meses de edad.\\r\\r\\n* Presentó neumonías a los 9 meses, 12 años, 20 años y a los 36 años, complicada esta última con absceso pulmonar y septicemia.\\r\\r\\n* Apendicectomía y ...                                                                                [glaucoma, apendicectomia, carcinoma, hipoglucemia, cirugia, neumonias, iam, asmatico, sincope, hernioplastia inguinal]"
            ]
          },
          "metadata": {
            "tags": []
          },
          "execution_count": 93
        }
      ]
    },
    {
      "cell_type": "code",
      "metadata": {
        "id": "viFK3fpkvXBl"
      },
      "source": [
        "df2.to_csv(path_tf + \"df_antecedentes_ner_huggingface.csv\")"
      ],
      "execution_count": null,
      "outputs": []
    },
    {
      "cell_type": "code",
      "metadata": {
        "id": "q352AqqIxZEo"
      },
      "source": [
        "pd.set_option(\"max_colwidth\", 200)"
      ],
      "execution_count": null,
      "outputs": []
    },
    {
      "cell_type": "code",
      "metadata": {
        "colab": {
          "base_uri": "https://localhost:8080/",
          "height": 35
        },
        "id": "0dyJVhOpws7k",
        "outputId": "4ad31582-ea14-4050-c768-970f97c60b3b"
      },
      "source": [
        "path_tf"
      ],
      "execution_count": null,
      "outputs": [
        {
          "output_type": "execute_result",
          "data": {
            "application/vnd.google.colaboratory.intrinsic+json": {
              "type": "string"
            },
            "text/plain": [
              "'/content/gdrive/My Drive/NER_HUGGINGFACE_TF/'"
            ]
          },
          "metadata": {
            "tags": []
          },
          "execution_count": 90
        }
      ]
    },
    {
      "cell_type": "code",
      "metadata": {
        "colab": {
          "base_uri": "https://localhost:8080/",
          "height": 69
        },
        "id": "HNZT7QWRcGSO",
        "outputId": "9f5a19bd-85e0-4903-e143-68f74f104460"
      },
      "source": [
        "df2[0][14]"
      ],
      "execution_count": null,
      "outputs": [
        {
          "output_type": "execute_result",
          "data": {
            "application/vnd.google.colaboratory.intrinsic+json": {
              "type": "string"
            },
            "text/plain": [
              "\"'TOMA CRONICAMENTE  TOTAL MAGNESIANO  \\\\r\\\\r\\\\nNEVUS  EN REGION FRONTAL  DESDE HACE 2 AÑOS  SIN SINTOMAS . \\\\r\\\\r\\\\nREALIZA CONTROLES GINECOLOGICOS ANIVEL PARTICULAR . \\\\r\\\\r\\\\nEcografÝa abdominal con hÝgado graso en a±o 2003. \\\\r\\\\r\\\\nASM-TICA. ',\""
            ]
          },
          "metadata": {
            "tags": []
          },
          "execution_count": 104
        }
      ]
    },
    {
      "cell_type": "code",
      "metadata": {
        "id": "aO4DY4n5cHAx"
      },
      "source": [
        ""
      ],
      "execution_count": null,
      "outputs": []
    }
  ]
}